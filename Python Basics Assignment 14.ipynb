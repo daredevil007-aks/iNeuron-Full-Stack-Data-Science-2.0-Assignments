{
 "cells": [
  {
   "cell_type": "code",
   "execution_count": null,
   "metadata": {},
   "outputs": [],
   "source": [
    "#Ans1\n",
    "Red-Green-Blue-Alpha"
   ]
  },
  {
   "cell_type": "code",
   "execution_count": null,
   "metadata": {},
   "outputs": [],
   "source": [
    "#Ans2\n",
    "You can use the Image.getpixel((x, y)) method to get the RGBA value of a pixel at the (x, y) coordinate in an image loaded using the Pillow library. For example:\n",
    "\n",
    "from PIL import Image\n",
    "\n",
    "im = Image.open(\"image.png\")\n",
    "rgb_value = im.getpixel((0, 0))"
   ]
  },
  {
   "cell_type": "code",
   "execution_count": null,
   "metadata": {},
   "outputs": [],
   "source": [
    "#Ans3\n",
    "The box. tuple submodule provides read-only access for the tuple userdata type. It allows, for a single tuple: selective retrieval of the field contents, retrieval of information about size, iteration over all the fields, and conversion to a Lua table."
   ]
  },
  {
   "cell_type": "code",
   "execution_count": null,
   "metadata": {},
   "outputs": [],
   "source": [
    "#Ans4\n",
    "To find the width and height of an Image object in a Jupyter Notebook, you can use the .width and .height attributes of the Image object, respectively.\n",
    "\n",
    "from PIL import Image\n",
    "\n",
    "# Load the image\n",
    "img = Image.open(\"image.jpg\")\n",
    "\n",
    "# Get the width and height of the image\n",
    "width = img.width\n",
    "height = img.height\n",
    "\n",
    "# Print the values\n",
    "print(\"Width:\", width)\n",
    "print(\"Height:\", height)"
   ]
  },
  {
   "cell_type": "code",
   "execution_count": null,
   "metadata": {},
   "outputs": [],
   "source": [
    "#Ans5 \n",
    "To get an Image object for a 100x100 image excluding the lower-left quarter, you can use the crop method of the Image object. The crop method takes a box tuple specifying the left, upper, right, and lower pixel coordinates, and returns a new Image object representing the cropped portion of the original image.\n",
    "\n",
    "from PIL import Image\n",
    "\n",
    "# Load the image\n",
    "img = Image.open(\"image.jpg\")\n",
    "\n",
    "# Calculate the crop box coordinates\n",
    "left = 0\n",
    "upper = 0\n",
    "right = img.width\n",
    "bottom = img.height // 2\n",
    "\n",
    "# Crop the lower-left quarter of the image\n",
    "img_cropped = img.crop((left, upper, right, bottom))"
   ]
  },
  {
   "cell_type": "code",
   "execution_count": null,
   "metadata": {},
   "outputs": [],
   "source": [
    "#Ans6\n",
    "To save an Image object as an image file, you can use the .save method of the Image object, passing the filename and the format you want to save the image as.\n",
    "\n",
    "from PIL import Image\n",
    "\n",
    "# Load the image\n",
    "img = Image.open(\"image.jpg\")\n",
    "\n",
    "# Make changes to the image\n",
    "# ...\n",
    "\n",
    "# Save the image\n",
    "img.save(\"modified_image.png\", \"PNG\")"
   ]
  },
  {
   "cell_type": "code",
   "execution_count": null,
   "metadata": {},
   "outputs": [],
   "source": [
    "#Ans7\n",
    "Pillow's shape-drawing code is contained in the ImageDraw module of the Pillow library."
   ]
  },
  {
   "cell_type": "code",
   "execution_count": null,
   "metadata": {},
   "outputs": [],
   "source": [
    "#Ans 8\n",
    "Image objects in Pillow do not have drawing methods, but you can get a drawing object from an Image object using the ImageDraw.Draw class from the ImageDraw module.\n",
    "\n",
    "To get a drawing object, you need to pass the Image object to the constructor of the ImageDraw.Draw class."
   ]
  }
 ],
 "metadata": {
  "language_info": {
   "name": "python"
  },
  "orig_nbformat": 4
 },
 "nbformat": 4,
 "nbformat_minor": 2
}
