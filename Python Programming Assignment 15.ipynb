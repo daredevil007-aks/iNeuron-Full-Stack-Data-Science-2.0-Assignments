{
 "cells": [
  {
   "cell_type": "code",
   "execution_count": 10,
   "id": "bdb9cafa-636b-4ca4-b19a-762409326ca3",
   "metadata": {},
   "outputs": [
    {
     "name": "stdin",
     "output_type": "stream",
     "text": [
      " 100\n"
     ]
    },
    {
     "name": "stdout",
     "output_type": "stream",
     "text": [
      "0,35,70,None\n"
     ]
    }
   ],
   "source": [
    "#ans 1\n",
    "def num(n):\n",
    "    for i in range(0,n):\n",
    "        if i%5 == 0 and i%7 == 0:\n",
    "            print(i, end=\",\")\n",
    "print(num(int(input())))\n"
   ]
  },
  {
   "cell_type": "code",
   "execution_count": 11,
   "id": "dec1132f-f074-47cc-87aa-bac666ae9a06",
   "metadata": {},
   "outputs": [
    {
     "name": "stdin",
     "output_type": "stream",
     "text": [
      " 10\n"
     ]
    },
    {
     "name": "stdout",
     "output_type": "stream",
     "text": [
      "0,2,4,6,8,None\n"
     ]
    }
   ],
   "source": [
    "#ans 2\n",
    "def num(n):\n",
    "    for i in range(0,n):\n",
    "        if i%2 == 0:\n",
    "            print(i, end=\",\")\n",
    "print(num(int(input())))"
   ]
  },
  {
   "cell_type": "code",
   "execution_count": 27,
   "id": "14eae007-caa2-4849-91eb-b48f33805e52",
   "metadata": {},
   "outputs": [
    {
     "name": "stdout",
     "output_type": "stream",
     "text": [
      "[0, 1, 1, 2, 3, 5, 8, 13, 21, 34, 55, 89, 144, 233, 377, 610, 987, 1597, 2584, 4181]\n"
     ]
    }
   ],
   "source": [
    "#ans 3\n",
    "def genFibonaci(in_num):\n",
    "    if in_num == 0:\n",
    "        return 0\n",
    "    elif in_num == 1:\n",
    "        return 1\n",
    "    else:\n",
    "        return genFibonaci(in_num-1)+genFibonaci(in_num-2)\n",
    "    \n",
    "print([genFibonaci(x) for x in range(20)])"
   ]
  },
  {
   "cell_type": "code",
   "execution_count": 20,
   "id": "cd2ba3f4-bf8b-4235-ab6a-59cce9039252",
   "metadata": {},
   "outputs": [
    {
     "name": "stdin",
     "output_type": "stream",
     "text": [
      " askaht@\n"
     ]
    },
    {
     "name": "stdout",
     "output_type": "stream",
     "text": [
      "askahtNone\n"
     ]
    }
   ],
   "source": [
    "#ans 4\n",
    "def em(email):\n",
    "    u = \" \"\n",
    "    for i in email:\n",
    "        if i == \"@\":\n",
    "            break\n",
    "        else:\n",
    "            print( i,end=\"\")\n",
    "print(em(str(input())))     \n",
    "         "
   ]
  },
  {
   "cell_type": "code",
   "execution_count": 56,
   "id": "4a4b2017-d8db-41e1-b84f-cbffba22fc1a",
   "metadata": {},
   "outputs": [],
   "source": [
    "#ans 5\n",
    "class shape:\n",
    "    def area(self):\n",
    "        return 0 \n",
    "class square(shape):\n",
    "    def __init__(self,length):\n",
    "        self.length = length\n",
    "    def area(self):\n",
    "        areaa = self.length*self.length\n",
    "        print(areaa)"
   ]
  },
  {
   "cell_type": "code",
   "execution_count": 57,
   "id": "a2b384d6-fde2-4db4-b017-adf9c54d50cb",
   "metadata": {},
   "outputs": [],
   "source": [
    "square_1 = square(22)"
   ]
  },
  {
   "cell_type": "code",
   "execution_count": 58,
   "id": "bf41cef2-756f-4d2a-98d9-fdd7a23d703d",
   "metadata": {},
   "outputs": [
    {
     "name": "stdout",
     "output_type": "stream",
     "text": [
      "484\n",
      "None\n"
     ]
    }
   ],
   "source": [
    "print(square_1.area())"
   ]
  },
  {
   "cell_type": "code",
   "execution_count": null,
   "id": "1f8682a9-d5b6-4f72-b5d9-02d27fdfaea5",
   "metadata": {},
   "outputs": [],
   "source": []
  }
 ],
 "metadata": {
  "kernelspec": {
   "display_name": "Python 3 (ipykernel)",
   "language": "python",
   "name": "python3"
  },
  "language_info": {
   "codemirror_mode": {
    "name": "ipython",
    "version": 3
   },
   "file_extension": ".py",
   "mimetype": "text/x-python",
   "name": "python",
   "nbconvert_exporter": "python",
   "pygments_lexer": "ipython3",
   "version": "3.10.6"
  }
 },
 "nbformat": 4,
 "nbformat_minor": 5
}
