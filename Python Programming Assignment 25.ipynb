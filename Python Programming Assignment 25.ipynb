{
 "cells": [
  {
   "cell_type": "code",
   "execution_count": 10,
   "id": "99dd8942-3abf-4732-94d5-684917f2e4db",
   "metadata": {},
   "outputs": [
    {
     "data": {
      "text/plain": [
       "'equal((1, 1, 1)) ~ 3'"
      ]
     },
     "execution_count": 10,
     "metadata": {},
     "output_type": "execute_result"
    }
   ],
   "source": [
    "#ans1\n",
    "def equal(a,b,c):\n",
    "    if a == b == c:\n",
    "        return f'equal({a,b,c}) ~ {3}'\n",
    "    elif a == b or b == c or c == a:\n",
    "        return f'equal({a,b,c}) ~ {2}'\n",
    "    else:\n",
    "        return f'equal({a,b,c}) ~ {0}'\n",
    "    \n",
    "equal(1,1,1)"
   ]
  },
  {
   "cell_type": "code",
   "execution_count": 33,
   "id": "596e893b-63ad-4ee7-94d9-f922544caaa5",
   "metadata": {},
   "outputs": [
    {
     "name": "stdout",
     "output_type": "stream",
     "text": [
      "[('D', 1), ('B', 2), ('C', 3)]\n"
     ]
    }
   ],
   "source": [
    "#ans2\n",
    "def dict_1(di):\n",
    "    new_list = []\n",
    "    for keys,values in di.items():\n",
    "        new_list.append((keys,values))\n",
    "    print(new_list)\n",
    "    \n",
    "dict_1({\"D\": 1,\"B\": 2,\"C\": 3})"
   ]
  },
  {
   "cell_type": "code",
   "execution_count": 41,
   "id": "346d1ef8-ed71-466f-ad2d-8110047069ab",
   "metadata": {},
   "outputs": [
    {
     "name": "stdout",
     "output_type": "stream",
     "text": [
      "['b', 'y', 'g'] ~ {'b': 'B', 'y': 'Y', 'g': 'G'}\n"
     ]
    }
   ],
   "source": [
    "#ans3\n",
    "def dict_con(list_1):\n",
    "    new_dict = {}\n",
    "    for i in list_1:\n",
    "        if i.islower():\n",
    "            new_dict[i] = i.upper()\n",
    "    print(f'{list_1} ~ {new_dict}')\n",
    "\n",
    "dict_con(['b','y','g'])"
   ]
  },
  {
   "cell_type": "code",
   "execution_count": 75,
   "id": "6c92cd82-a27a-4713-997c-34f278d7d0ae",
   "metadata": {},
   "outputs": [
    {
     "name": "stdout",
     "output_type": "stream",
     "text": [
      "apples and bananas ~ upplus und bununus\n"
     ]
    }
   ],
   "source": [
    "#ans4\n",
    "def vowel_replace(in_str,new_vowel):\n",
    "    vowels = ['a','e','i','o','u']\n",
    "    out_str = ''\n",
    "    for i in in_str:\n",
    "        if i in vowels:\n",
    "            out_str += new_vowel\n",
    "        else:\n",
    "            out_str += i\n",
    "    print(f'{in_str} ~ {out_str}')\n",
    "\n",
    "vowel_replace(\"apples and bananas\",\"u\")"
   ]
  },
  {
   "cell_type": "code",
   "execution_count": 76,
   "id": "6e611397-317c-455d-9a84-72070332b2b0",
   "metadata": {},
   "outputs": [
    {
     "name": "stdout",
     "output_type": "stream",
     "text": [
      "to be or not to be! ➞ To Be oR NoT To Be!\n"
     ]
    }
   ],
   "source": [
    "def ascii_capitalize(in_string):\n",
    "    out_string = ''\n",
    "    for ele in in_string.lower():\n",
    "        if (ord(ele)%2 == 0):\n",
    "            out_string += ele.upper()\n",
    "        else:\n",
    "            out_string += ele\n",
    "    print(f'{in_string} ➞ {out_string}')\n",
    "        \n",
    "ascii_capitalize(\"to be or not to be!\")"
   ]
  }
 ],
 "metadata": {
  "kernelspec": {
   "display_name": "Python 3 (ipykernel)",
   "language": "python",
   "name": "python3"
  },
  "language_info": {
   "codemirror_mode": {
    "name": "ipython",
    "version": 3
   },
   "file_extension": ".py",
   "mimetype": "text/x-python",
   "name": "python",
   "nbconvert_exporter": "python",
   "pygments_lexer": "ipython3",
   "version": "3.10.6"
  }
 },
 "nbformat": 4,
 "nbformat_minor": 5
}
