{
 "cells": [
  {
   "cell_type": "code",
   "execution_count": 1,
   "id": "7e7879cf-ec0e-425e-92a6-98dd476cdaa4",
   "metadata": {},
   "outputs": [
    {
     "name": "stdout",
     "output_type": "stream",
     "text": [
      "just right\n"
     ]
    }
   ],
   "source": [
    "#Ans1\n",
    "\n",
    "guess_me = 7\n",
    "if guess_me < 7:\n",
    "    print(\"to loo\")\n",
    "elif guess_me < 7:\n",
    "    print(\"too high\")\n",
    "else:\n",
    "    print(\"just right\")"
   ]
  },
  {
   "cell_type": "code",
   "execution_count": 4,
   "id": "cf6af625-01ed-4aa2-87fd-d936d888e829",
   "metadata": {},
   "outputs": [
    {
     "name": "stdout",
     "output_type": "stream",
     "text": [
      "too low\n",
      "too low\n",
      "too low\n",
      "too low\n",
      "too low\n",
      "found it\n"
     ]
    }
   ],
   "source": [
    "#Ans 2\n",
    "guess_me = 7 \n",
    "start = 1\n",
    "while start < guess_me:\n",
    "    start += 1\n",
    "    if start < guess_me:\n",
    "        print(\"too low\")\n",
    "    if start == guess_me:\n",
    "        print(\"found it\")\n",
    "        break\n",
    "else:\n",
    "    print(\"opps\")\n",
    "        \n",
    "        \n"
   ]
  },
  {
   "cell_type": "code",
   "execution_count": 5,
   "id": "976e3901-16a5-4e28-a94a-586574b6b09e",
   "metadata": {},
   "outputs": [
    {
     "name": "stdout",
     "output_type": "stream",
     "text": [
      "3\n",
      "2\n",
      "1\n",
      "0\n"
     ]
    }
   ],
   "source": [
    "#Ans 3\n",
    "\n",
    "l = [3,2,1,0]\n",
    "for i in l:\n",
    "    print(i)"
   ]
  },
  {
   "cell_type": "code",
   "execution_count": 8,
   "id": "7cad8ef7-79e6-436e-8970-343e9112c4aa",
   "metadata": {},
   "outputs": [
    {
     "name": "stdout",
     "output_type": "stream",
     "text": [
      "0\n",
      "2\n",
      "4\n",
      "6\n",
      "8\n",
      "10\n"
     ]
    }
   ],
   "source": [
    "#Ans 4 \n",
    "for i in range(0,11,2):\n",
    "    print(i)"
   ]
  },
  {
   "cell_type": "code",
   "execution_count": 9,
   "id": "f8a4492b-1a48-4ac3-a78c-13d9a3dd9ba6",
   "metadata": {},
   "outputs": [
    {
     "name": "stdout",
     "output_type": "stream",
     "text": [
      "{0: 0, 1: 1, 2: 4, 3: 9, 4: 16, 5: 25, 6: 36, 7: 49, 8: 64, 9: 81}\n"
     ]
    }
   ],
   "source": [
    "#Ans 5\n",
    "for num in range(0,11):\n",
    "    print({num:num*num})"
   ]
  },
  {
   "cell_type": "code",
   "execution_count": 20,
   "id": "c15aa296-0cf8-47bd-a0eb-11e7b2df5fce",
   "metadata": {},
   "outputs": [
    {
     "name": "stdout",
     "output_type": "stream",
     "text": [
      "{1, 3, 5, 7, 9}\n"
     ]
    }
   ],
   "source": [
    "#Ans 6\n",
    "limit = 10\n",
    "odd = {num for num in range(limit) if num % 2 == 1}\n",
    "print(odd)\n",
    "    "
   ]
  },
  {
   "cell_type": "code",
   "execution_count": null,
   "id": "b0ac82e7-a5a4-46bf-998e-b577c0f6aeec",
   "metadata": {},
   "outputs": [],
   "source": [
    "#Ans 7\n",
    "limit = 10\n",
    "string_generator = ('Got ' + str(num) for num in range(limit))\n",
    "for item in string_generator:\n",
    "    print(item)"
   ]
  },
  {
   "cell_type": "code",
   "execution_count": null,
   "id": "7508ddc7-5016-4957-8b98-0100934f1a7c",
   "metadata": {},
   "outputs": [],
   "source": [
    "#Ans 8\n",
    "def good():\n",
    "    return ['Harry', 'Ron', 'Hermione']\n",
    "\n",
    "\n",
    "print(good())"
   ]
  },
  {
   "cell_type": "code",
   "execution_count": 21,
   "id": "75d6e59b-57c3-43a0-a35a-c97c47784a80",
   "metadata": {},
   "outputs": [
    {
     "name": "stdout",
     "output_type": "stream",
     "text": [
      "5\n"
     ]
    }
   ],
   "source": [
    "#Ans 9\n",
    "limit = 10\n",
    "get_odds = (num for num in range(limit) if not num % 2 == 0)\n",
    "count = 0\n",
    "for num in get_odds:\n",
    "    if count == 2:\n",
    "        print(num)\n",
    "        break\n",
    "    count += 1"
   ]
  },
  {
   "cell_type": "code",
   "execution_count": 22,
   "id": "e0672dc3-2f84-4358-ad72-4094710af3a5",
   "metadata": {},
   "outputs": [
    {
     "name": "stdout",
     "output_type": "stream",
     "text": [
      "Caught an oops\n"
     ]
    }
   ],
   "source": [
    "#Ans 10\n",
    "class OopsException(Exception):\n",
    "    pass\n",
    "\n",
    "\n",
    "def with_exception(a):\n",
    "    if a < 0:\n",
    "        raise OopsException(a)\n",
    "\n",
    "\n",
    "try:\n",
    "    with_exception(-1)\n",
    "except OopsException as err:\n",
    "    print('Caught an oops')\n"
   ]
  },
  {
   "cell_type": "code",
   "execution_count": 23,
   "id": "bdb47ba1-bbc0-4a30-86e2-ca363d3326cd",
   "metadata": {},
   "outputs": [
    {
     "name": "stdout",
     "output_type": "stream",
     "text": [
      "{'Creature of Habit': 'A nun turns into a monster', 'Crewel Fate': 'A haunted yarn shop'}\n"
     ]
    }
   ],
   "source": [
    "#Ans 11\n",
    "titles = ['Creature of Habit', 'Crewel Fate']\n",
    "plots = ['A nun turns into a monster', 'A haunted yarn shop']\n",
    "\n",
    "movies = {}\n",
    "for title, plot in zip(titles, plots):\n",
    "    movies[title] = plot\n",
    "\n",
    "print(movies)"
   ]
  },
  {
   "cell_type": "code",
   "execution_count": null,
   "id": "071441dd-55fc-43db-b746-c97005f47a25",
   "metadata": {},
   "outputs": [],
   "source": []
  }
 ],
 "metadata": {
  "kernelspec": {
   "display_name": "Python 3 (ipykernel)",
   "language": "python",
   "name": "python3"
  },
  "language_info": {
   "codemirror_mode": {
    "name": "ipython",
    "version": 3
   },
   "file_extension": ".py",
   "mimetype": "text/x-python",
   "name": "python",
   "nbconvert_exporter": "python",
   "pygments_lexer": "ipython3",
   "version": "3.10.6"
  }
 },
 "nbformat": 4,
 "nbformat_minor": 5
}
