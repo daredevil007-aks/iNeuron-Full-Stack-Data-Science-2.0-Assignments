{
 "cells": [
  {
   "cell_type": "code",
   "execution_count": null,
   "id": "41292f67",
   "metadata": {},
   "outputs": [],
   "source": [
    "Ans1.\n",
    "The empty list value, which is a list value that contains no items. This is similar to how '' is the empty string value."
   ]
  },
  {
   "cell_type": "code",
   "execution_count": null,
   "id": "bfe065f8",
   "metadata": {},
   "outputs": [],
   "source": [
    "Ans2.\n",
    "spam[2] = 'hello' (Notice that the third value in a list is at index 2 because the first index is 0.)"
   ]
  },
  {
   "cell_type": "code",
   "execution_count": null,
   "id": "2c5ee35a",
   "metadata": {},
   "outputs": [],
   "source": [
    "Ans3.\n",
    "'d' (Note that '3' * 2 is the string '33', which is passed to int() before being divided by 11. This eventually evaluates to 3. Expressions can be used wherever values are used.)"
   ]
  },
  {
   "cell_type": "code",
   "execution_count": null,
   "id": "8d3a8cd9",
   "metadata": {},
   "outputs": [],
   "source": [
    "Ans4.\n",
    "'d' (Negative indexes count from the end.)"
   ]
  },
  {
   "cell_type": "code",
   "execution_count": null,
   "id": "12c92d17",
   "metadata": {},
   "outputs": [],
   "source": [
    "Ans5.\n",
    "['a', 'b']"
   ]
  },
  {
   "cell_type": "code",
   "execution_count": null,
   "id": "1671fc33",
   "metadata": {},
   "outputs": [],
   "source": [
    "Ans6.\n",
    "1"
   ]
  },
  {
   "cell_type": "code",
   "execution_count": null,
   "id": "1e67279d",
   "metadata": {},
   "outputs": [],
   "source": [
    "Ans7.\n",
    "[3.14, 'cat', 11, 'cat', True, 99]"
   ]
  },
  {
   "cell_type": "code",
   "execution_count": null,
   "id": "464c2d3d",
   "metadata": {},
   "outputs": [],
   "source": [
    "Ans8.\n",
    "[3.14, 11, 'cat', True]"
   ]
  },
  {
   "cell_type": "code",
   "execution_count": null,
   "id": "fd934237",
   "metadata": {},
   "outputs": [],
   "source": [
    "Ans9.\n",
    "The operator for list concatenation is +, while the operator for replication is *. (This is the same as for strings.)"
   ]
  },
  {
   "cell_type": "code",
   "execution_count": null,
   "id": "8147a4a1",
   "metadata": {},
   "outputs": [],
   "source": [
    "Ans10.\n",
    "While append() will add values only to the end of a list, insert() can add them anywhere in the list."
   ]
  },
  {
   "cell_type": "code",
   "execution_count": null,
   "id": "2250c9a8",
   "metadata": {},
   "outputs": [],
   "source": [
    "Ans11.\n",
    "The del statement and the remove() list method are two ways to remove values from a list."
   ]
  },
  {
   "cell_type": "code",
   "execution_count": null,
   "id": "a0532ce3",
   "metadata": {},
   "outputs": [],
   "source": [
    "Ans12.\n",
    "Both lists and strings can be passed to len(), have indexes and slices, be used in for loops, be concatenated or replicated, and be used with the in and not in operators."
   ]
  },
  {
   "cell_type": "code",
   "execution_count": null,
   "id": "9e166044",
   "metadata": {},
   "outputs": [],
   "source": [
    "Ans13.\n",
    "Lists are mutable; they can have values added, removed, or changed. Tuples are immutable; they cannot be changed at all. Also, tuples are written using parentheses, ( and ), while lists use the square brackets, [ and ]."
   ]
  },
  {
   "cell_type": "code",
   "execution_count": null,
   "id": "e22e8d03",
   "metadata": {},
   "outputs": [],
   "source": [
    "Ans14.\n",
    "(42,) (The trailing comma is mandatory.)"
   ]
  },
  {
   "cell_type": "code",
   "execution_count": null,
   "id": "f6996c3e",
   "metadata": {},
   "outputs": [],
   "source": [
    "Ans15.\n",
    "The tuple() and list() functions, respectively"
   ]
  },
  {
   "cell_type": "code",
   "execution_count": null,
   "id": "408b8a8e",
   "metadata": {},
   "outputs": [],
   "source": [
    "Ans16.\n",
    "They contain references to list values."
   ]
  },
  {
   "cell_type": "code",
   "execution_count": null,
   "id": "55a8b93d",
   "metadata": {},
   "outputs": [],
   "source": [
    "Ans17.\n",
    "The copy.copy() function will do a shallow copy of a list, while the copy.deepcopy() function will do a deep copy of a list. That is, only copy.deepcopy() will duplicate any lists inside the list."
   ]
  }
 ],
 "metadata": {
  "kernelspec": {
   "display_name": "Python 3 (ipykernel)",
   "language": "python",
   "name": "python3"
  },
  "language_info": {
   "codemirror_mode": {
    "name": "ipython",
    "version": 3
   },
   "file_extension": ".py",
   "mimetype": "text/x-python",
   "name": "python",
   "nbconvert_exporter": "python",
   "pygments_lexer": "ipython3",
   "version": "3.9.12"
  }
 },
 "nbformat": 4,
 "nbformat_minor": 5
}
