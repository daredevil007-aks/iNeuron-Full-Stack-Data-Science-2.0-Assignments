{
 "cells": [
  {
   "cell_type": "code",
   "execution_count": null,
   "id": "53b41b03-8a36-487c-a3da-3713f5feba72",
   "metadata": {},
   "outputs": [],
   "source": [
    "#ans1\n",
    "Yes, it is permissible to use several import statements to import the same module. It is used in case when we have to import multiple functions from same module."
   ]
  },
  {
   "cell_type": "code",
   "execution_count": null,
   "id": "0209d9d9-f438-4d9d-b579-f67a30dd87a0",
   "metadata": {},
   "outputs": [],
   "source": [
    "#ans2\n",
    "The following are some of a module's characteristics:\n",
    "\n",
    "__name__ : It returns the name of the module\n",
    "__doc__ : It denotes the documentation string line written in a module code.\n",
    "__file__ : It holds the name and path of the module file from which it is loaded\n",
    "__dict__ : It return a dictionary object of module attributes, functions and other definitions and their respective values"
   ]
  },
  {
   "cell_type": "code",
   "execution_count": null,
   "id": "7c0cb865-1362-4b7b-84db-5f6445b5db6c",
   "metadata": {},
   "outputs": [],
   "source": [
    "#ans3\n",
    "Circular importing means importing the two modules in each other. If suppose we are wokring in MOD1.py file and it is importing some function say F2() \n",
    "from some other module say MOD2.PY file or we can do vice-versa. What will happen is: This will give an import error.\n",
    "\n",
    "This is because when we import F2() function from module MOD2.py, then this will execute MOD2.py file. And in MOD2.py file there is an another statement \n",
    "of importing MOD1.py module.\n",
    "\n",
    "This will result in endless loop. To avoid this error just do one thingWe can use if __name__ == '__main__'\n",
    "\n",
    "In the function, you can't directly refer to the function in the program. The addition of this sentence avoids the endless loop of the program ."
   ]
  },
  {
   "cell_type": "code",
   "execution_count": null,
   "id": "9fe4be6c-c66b-4bfa-bccc-8bba9d2c1352",
   "metadata": {},
   "outputs": [],
   "source": [
    "#ans4\n",
    "It provides list of all modules present in a library."
   ]
  },
  {
   "cell_type": "code",
   "execution_count": null,
   "id": "d522b0a7-c6ff-4e84-b0ea-398095a96b22",
   "metadata": {},
   "outputs": [],
   "source": [
    "#ans5\n",
    "During the time of execution of the code if we want to refer the module in which we are working on then we uses name attribute. \n",
    "In that case it will return the module in which we are working on. Suppose if that moudle is being imported from some other module \n",
    "then name will have the name of that moudle from where the current module has been imported. The current module in which we are working \n",
    "is refer to the string __main __."
   ]
  }
 ],
 "metadata": {
  "kernelspec": {
   "display_name": "Python 3 (ipykernel)",
   "language": "python",
   "name": "python3"
  },
  "language_info": {
   "codemirror_mode": {
    "name": "ipython",
    "version": 3
   },
   "file_extension": ".py",
   "mimetype": "text/x-python",
   "name": "python",
   "nbconvert_exporter": "python",
   "pygments_lexer": "ipython3",
   "version": "3.10.6"
  }
 },
 "nbformat": 4,
 "nbformat_minor": 5
}
