{
 "cells": [
  {
   "cell_type": "code",
   "execution_count": null,
   "id": "5293d029-135c-4f66-9153-6169738ea2ed",
   "metadata": {},
   "outputs": [],
   "source": [
    "#asns1\n",
    "Regular Expressions, also known as regex or regexp, are used to match strings of text such as particular characters, words, or patterns of characters. It means that we can match and extract \n",
    "any string pattern from the text with the help of regular expressions. it helps the programmers to Write less and cleaner code. it also avoids multiple use of if/else statements."
   ]
  },
  {
   "cell_type": "code",
   "execution_count": null,
   "id": "6e049477-9a23-401a-8d25-e60f4b4578d9",
   "metadata": {},
   "outputs": [],
   "source": [
    "#ans2\n",
    "Both (ab)c+ and a(bc)+ are valid patterns. the difference between both these patterns is in (ab)c+ ab is group whereas in a(bc)+ bc is a group."
   ]
  },
  {
   "cell_type": "code",
   "execution_count": null,
   "id": "cb8e8d29-6d9a-4c1c-977a-106ed2a09d22",
   "metadata": {},
   "outputs": [],
   "source": [
    "#ans3\n",
    "import re statement always has to be imported before using regular expressions."
   ]
  },
  {
   "cell_type": "code",
   "execution_count": null,
   "id": "87b11d25-4eb5-4dc5-b372-5e72e83259a8",
   "metadata": {},
   "outputs": [],
   "source": [
    "#ans4\n",
    "The Characters .,*,?,^,or,(), have a special signiface when used with square brackets. They need not be be explicitly escaped by \\ as in case of pattern texts in a raw string."
   ]
  },
  {
   "cell_type": "code",
   "execution_count": null,
   "id": "82e3ce2e-6643-443e-8941-90d376bcf5e5",
   "metadata": {},
   "outputs": [],
   "source": [
    "#ans5\n",
    "We can Combine a regular expression pattern into pattern Objects.Which can be used for pattern matching. it also helps to search a pattern again without rewritting it."
   ]
  },
  {
   "cell_type": "code",
   "execution_count": null,
   "id": "292ac6df-e688-482b-88dd-948697a9fce1",
   "metadata": {},
   "outputs": [],
   "source": [
    "#ans6\n",
    " The re.search() and re.match() both are functions of re module in python. These functions are very efficient and fast for searching in strings. The function searches for some substring \n",
    "    in a string and returns a match object if found, else it returns none.\n",
    "\n",
    "There is a difference between the use of both functions. Both return the first match of a substring found in the string, but re.match() searches only from the beginning of the string and \n",
    "return match object if found. But if a match of substring is found somewhere in the middle of the string, it returns none."
   ]
  },
  {
   "cell_type": "code",
   "execution_count": null,
   "id": "231c12ad-9ca9-4c55-8642-ea3a3f35409a",
   "metadata": {},
   "outputs": [],
   "source": [
    "#ans7\n",
    " When | us used then patterns searches for or option. i.e <pattern_1>|<pattern_2> means it searches as <pattern_1>or<<pattern_2> in the searched string. the first occurance of matched string \n",
    "    will be returned as the Match Object. Using Character set in square Brackets searches for all the character set in the square bracket and if match is found, it returns it."
   ]
  },
  {
   "cell_type": "code",
   "execution_count": null,
   "id": "0f28642a-1955-48fe-bb5c-41b8ea1d8686",
   "metadata": {},
   "outputs": [],
   "source": [
    "#ans8\n",
    "Raw Strings are used in the regular-expression search patterns, so that blackslashes donot have to be escaped."
   ]
  }
 ],
 "metadata": {
  "kernelspec": {
   "display_name": "Python 3 (ipykernel)",
   "language": "python",
   "name": "python3"
  },
  "language_info": {
   "codemirror_mode": {
    "name": "ipython",
    "version": 3
   },
   "file_extension": ".py",
   "mimetype": "text/x-python",
   "name": "python",
   "nbconvert_exporter": "python",
   "pygments_lexer": "ipython3",
   "version": "3.10.6"
  }
 },
 "nbformat": 4,
 "nbformat_minor": 5
}
