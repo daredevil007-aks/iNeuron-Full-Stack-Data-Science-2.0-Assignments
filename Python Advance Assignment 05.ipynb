{
 "cells": [
  {
   "cell_type": "code",
   "execution_count": null,
   "id": "80c50220-77db-4865-9a5b-f556d5e61bd5",
   "metadata": {},
   "outputs": [],
   "source": [
    "#ans1\n",
    "Inheritence is nothing but reusing the code of Parent class by the child class. Similary when a child class inherits its properties \n",
    "from multiple Parent classes this scenario is called Multiple Inheritence"
   ]
  },
  {
   "cell_type": "code",
   "execution_count": null,
   "id": "991d57b6-714a-436d-8cb4-c96d4ff05436",
   "metadata": {},
   "outputs": [],
   "source": [
    "#ans2\n",
    "Delegation provides a proxy object for any class thay you want on top of the main class. its like a wrapper to your class so that you can access limited resources of the main class.\n",
    "it Wraps the object of main class into a smaller object with limited access\n",
    "Simply Delegation means that you can include a instance of another class as an instance variable, and forward messages to the instance."
   ]
  },
  {
   "cell_type": "code",
   "execution_count": null,
   "id": "371e1867-edd9-436a-876b-df48add9dbb3",
   "metadata": {},
   "outputs": [],
   "source": [
    "#ans3\n",
    "In the concept of Composition, a class refers to one or more other classes by using instances of those classes as a instance variable.\n",
    "irrespective of inheritence in this approach all the parent class members are not inherited into child class, but only required methods\n",
    "from a class are used by using class instances."
   ]
  },
  {
   "cell_type": "code",
   "execution_count": null,
   "id": "d26a42ba-810a-49e9-929c-12c5728ad026",
   "metadata": {},
   "outputs": [],
   "source": [
    "#ans4\n",
    "If a function is an attribute of class and it is accessed via the instances, they are called bound methods. A bound method is one that has self as its first argument. \n",
    "Since these are dependent on the instance of classes, these are also known as instance methods."
   ]
  },
  {
   "cell_type": "code",
   "execution_count": null,
   "id": "3d8530f5-755d-4705-89f6-fdf8950cf2e0",
   "metadata": {},
   "outputs": [],
   "source": [
    "#ans5\n",
    "Pseudoprivate attributes are also useful in larger frameworks or tools, both to avoid introducing new method names that might accidentally hide definitions elsewhere \n",
    "in the class tree and to reduce the chance of internal methods being replaced by names defined lower in the tree. If a method is intended for use only within a\n",
    "class that may be mixed into other classes, the double underscore prefix ensures that the method won't interfere with other names in the tree, especially in multiple-inheritance scenarios\n",
    "\n",
    "Pseudoprivate names also prevent subclasses from accidentally redefining the internal method's names,"
   ]
  }
 ],
 "metadata": {
  "kernelspec": {
   "display_name": "Python 3 (ipykernel)",
   "language": "python",
   "name": "python3"
  },
  "language_info": {
   "codemirror_mode": {
    "name": "ipython",
    "version": 3
   },
   "file_extension": ".py",
   "mimetype": "text/x-python",
   "name": "python",
   "nbconvert_exporter": "python",
   "pygments_lexer": "ipython3",
   "version": "3.10.6"
  }
 },
 "nbformat": 4,
 "nbformat_minor": 5
}
