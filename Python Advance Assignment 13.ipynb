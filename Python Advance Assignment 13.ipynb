{
 "cells": [
  {
   "cell_type": "code",
   "execution_count": null,
   "id": "a7e47bdb-adeb-4be2-8008-726ead0dbdc4",
   "metadata": {},
   "outputs": [],
   "source": [
    "#ans1\n",
    "my_list = [1,2,3,4,5,6,6,7,8,9,10]\n",
    "def bi_index(in_list,position):\n",
    "    return in_list[position]\n",
    "print('Positive Indexing ->',bi_index(my_list,5))\n",
    "print('Negative Indexing ->',bi_index(my_list,-1))"
   ]
  },
  {
   "cell_type": "code",
   "execution_count": null,
   "id": "e0ed392b-df56-44d6-9b94-d7eddb739deb",
   "metadata": {},
   "outputs": [],
   "source": [
    "#ans2\n",
    "start_list = [1 for x in range(1001)] # Quick Way to Create a List Using List Comprehension\n",
    "print(start_list)"
   ]
  },
  {
   "cell_type": "code",
   "execution_count": null,
   "id": "760940af-5001-4e39-b592-29ef2b7186f3",
   "metadata": {},
   "outputs": [],
   "source": [
    "#ans3\n",
    "my_list = [x for x in range(1,15)]\n",
    "print(f'my_list -> {my_list}')\n",
    "sliced_list = my_list[::2]\n",
    "print(f'sliced_list -> {sliced_list}')"
   ]
  },
  {
   "cell_type": "code",
   "execution_count": null,
   "id": "52fc4c9e-ca9c-4193-b2f1-ff99745114a2",
   "metadata": {},
   "outputs": [],
   "source": [
    "#ans4\n",
    "Indexing is used when we have to work on index level. While slicing are used over a range of items.\n",
    "\n",
    "my_list = [x for x in range(1,15)]\n",
    "print(f'my_list -> {my_list}')\n",
    "print(f'Example of indexing -> {my_list[1], my_list[5]}')\n",
    "print(f'Example of slicing -> {my_list[1:5]}')"
   ]
  },
  {
   "cell_type": "code",
   "execution_count": null,
   "id": "212ae498-a32b-4bc9-9229-c70cdf9b27e2",
   "metadata": {},
   "outputs": [],
   "source": [
    "#ans5\n",
    "If start index is out of range then it will return empty entity.\n",
    "\n",
    "my_list = [x for x in range(1,15)]\n",
    "my_list = [x for x in range(1,15)]\n",
    "print(f'my_list -> {my_list}')\n",
    "print(f'Case #1 -> {my_list[20:]}')\n",
    "print(f'Case #2 -> {my_list[10:100]}')"
   ]
  },
  {
   "cell_type": "code",
   "execution_count": null,
   "id": "15de4c3b-575a-4b24-93d2-7291c444c0f4",
   "metadata": {},
   "outputs": [],
   "source": [
    "#ans6\n",
    "Always use return statement, if we want the see the changes in the input list.\n",
    "\n",
    "my_list = [1,2,3,4,5,6]\n",
    "def modify_list(in_list):\n",
    "    in_list.append(200)\n",
    "    return in_list\n",
    "print(modify_list(my_list))"
   ]
  },
  {
   "cell_type": "code",
   "execution_count": null,
   "id": "38168834-0ed3-4fc6-ad61-c0500c8019d3",
   "metadata": {},
   "outputs": [],
   "source": [
    "#ans7\n",
    "In Unbalanced Matrix number of rows is not same as number of columns."
   ]
  },
  {
   "cell_type": "code",
   "execution_count": null,
   "id": "b4f3519c-ce06-49c9-ab05-40df42e9547f",
   "metadata": {},
   "outputs": [],
   "source": [
    "#ans8\n",
    "List comprehension or a Loop helps creation of large matrices easy. it also helps to implemeent and avoid manual errors. it also makes reading code easy. Also lot of time for manual feeding is reduced."
   ]
  }
 ],
 "metadata": {
  "kernelspec": {
   "display_name": "Python 3 (ipykernel)",
   "language": "python",
   "name": "python3"
  },
  "language_info": {
   "codemirror_mode": {
    "name": "ipython",
    "version": 3
   },
   "file_extension": ".py",
   "mimetype": "text/x-python",
   "name": "python",
   "nbconvert_exporter": "python",
   "pygments_lexer": "ipython3",
   "version": "3.10.6"
  }
 },
 "nbformat": 4,
 "nbformat_minor": 5
}
