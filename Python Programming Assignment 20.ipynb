{
 "cells": [
  {
   "cell_type": "code",
   "execution_count": 19,
   "id": "e551ff44-32da-41c7-95db-2d730f57628f",
   "metadata": {},
   "outputs": [
    {
     "data": {
      "text/plain": [
       "\"filter list ([1, 2, 3, 'as', 'akshat']) ~ [1, 2, 3]\""
      ]
     },
     "execution_count": 19,
     "metadata": {},
     "output_type": "execute_result"
    }
   ],
   "source": [
    "#ans1 \n",
    "def filter_list(l):\n",
    "    integer = [i for i in l if type(i) == int]\n",
    "    return f'filter list ({l}) ~ {integer}'\n",
    "filter_list([1,2,3,'as','akshat'])"
   ]
  },
  {
   "cell_type": "code",
   "execution_count": 51,
   "id": "43dbb1a6-cdf6-4a95-ad4e-1a3bd1880a47",
   "metadata": {},
   "outputs": [
    {
     "name": "stdout",
     "output_type": "stream",
     "text": [
      "[0, 0, 0, 0, 0] ➞ [0, 1, 2, 3, 4]\n",
      "[1, 2, 3, 4, 5] ➞ [1, 3, 5, 7, 9]\n",
      "[5, 4, 3, 2, 1] ➞ [5, 5, 5, 5, 5]\n"
     ]
    }
   ],
   "source": [
    "#ans2\n",
    "def add_indexes(in_list):\n",
    "    out_list = []\n",
    "    for ele in range(len(in_list)):\n",
    "        out_list.append(ele+in_list[ele])\n",
    "    print(f'{in_list} ➞ {out_list}')\n",
    "        \n",
    "add_indexes([0, 0, 0, 0, 0])\n",
    "add_indexes([1, 2, 3, 4, 5])\n",
    "add_indexes([5, 4, 3, 2, 1])    \n",
    "    \n",
    "    "
   ]
  },
  {
   "cell_type": "code",
   "execution_count": 68,
   "id": "ce77736e-52e2-4315-a8fa-1c5ce56ce71e",
   "metadata": {},
   "outputs": [
    {
     "name": "stdout",
     "output_type": "stream",
     "text": [
      "565.49\n"
     ]
    }
   ],
   "source": [
    "#ans 3\n",
    "import math\n",
    "radius = 6\n",
    "height = 15\n",
    "area = ((math.pi)*(radius*radius))*(height/3)\n",
    "print(f'{area:.2f}')"
   ]
  },
  {
   "cell_type": "code",
   "execution_count": 1,
   "id": "11a9e0ed-a94f-427c-8248-50e97227fac5",
   "metadata": {},
   "outputs": [
    {
     "name": "stdout",
     "output_type": "stream",
     "text": [
      "Output ➞ 1\n",
      "Output ➞ 21\n",
      "Output ➞ 23220\n"
     ]
    }
   ],
   "source": [
    "#ans 4 \n",
    "def triangle(in_num):\n",
    "    print(f'Output ➞ {int((in_num)*((in_num+1)/2))}')\n",
    "\n",
    "triangle(1)\n",
    "triangle(6)\n",
    "triangle(215)"
   ]
  },
  {
   "cell_type": "code",
   "execution_count": 6,
   "id": "a0dac367-3324-4825-9f50-5764bb2bc92f",
   "metadata": {},
   "outputs": [],
   "source": [
    "#ans 5\n",
    "def missing_num(l):\n",
    "    for i in range(1,11):\n",
    "        if i not in l:\n",
    "            print(f'missing_num({l}) ~ {i}')\n",
    "            \n",
    "missing_num(list"
   ]
  },
  {
   "cell_type": "code",
   "execution_count": null,
   "id": "814e290c-983d-4d20-872d-7772c4edda5e",
   "metadata": {},
   "outputs": [],
   "source": []
  }
 ],
 "metadata": {
  "kernelspec": {
   "display_name": "Python 3 (ipykernel)",
   "language": "python",
   "name": "python3"
  },
  "language_info": {
   "codemirror_mode": {
    "name": "ipython",
    "version": 3
   },
   "file_extension": ".py",
   "mimetype": "text/x-python",
   "name": "python",
   "nbconvert_exporter": "python",
   "pygments_lexer": "ipython3",
   "version": "3.10.6"
  }
 },
 "nbformat": 4,
 "nbformat_minor": 5
}
