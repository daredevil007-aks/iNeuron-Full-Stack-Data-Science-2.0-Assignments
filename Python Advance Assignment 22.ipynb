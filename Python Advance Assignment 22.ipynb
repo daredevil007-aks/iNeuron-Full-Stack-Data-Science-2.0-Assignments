{
 "cells": [
  {
   "cell_type": "code",
   "execution_count": null,
   "id": "46edffde-7d76-45dc-a786-65ee5802e4a9",
   "metadata": {},
   "outputs": [],
   "source": [
    "#ans1\n",
    "Arrays represent multiple data items of the same type using a single name. In arrays, the elements can be accessed randomly by \n",
    "using the index number. Arrays allocate memory in contiguous memory locations for all its elements. Hence there is no chance of \n",
    "extra memory being allocated in case of arrays. This avoids memory overflow or shortage of memory in arrays."
   ]
  },
  {
   "cell_type": "code",
   "execution_count": null,
   "id": "2a2a675a-40dc-4764-9198-2fec38bd1b92",
   "metadata": {},
   "outputs": [],
   "source": [
    "#ans2\n",
    "The number of elements to be stored in an array should be known in advance. An array is a static structure (which means the array is of fixed size). \n",
    "Once declared the size of the array cannot be modified. The memory which is allocated to it cannot be increased or decreased.\n",
    "Insertion and deletion are quite difficult in an array as the elements are stored in consecutive memory locations and the shifting operation is costly.\n",
    "Allocating more memory than the requirement leads to wastage of memory space and less allocation of memory also leads to a problem"
   ]
  },
  {
   "cell_type": "code",
   "execution_count": null,
   "id": "017af8bf-344f-407f-be3a-c4be517f698f",
   "metadata": {},
   "outputs": [],
   "source": [
    "#ans3\n",
    "The array package doesn't provide any help with numerical calculation with the items insdie it in number form while NumPy give \n",
    "you a wide variety of numerical operations.\n",
    "An array is a single dimensional entity which hold the numerical data, while numpy can have more than 1 dimension.\n",
    "In case of array, item can be accessed by its index position and it is easy task while in numpy item is accessed by its column and row index,\n",
    "which makes it slightly time taking. Same goes with appending operation.\n",
    "In case of array we do not form a tabular structure, while in numpy it forms a tabular structure"
   ]
  },
  {
   "cell_type": "code",
   "execution_count": null,
   "id": "6d37724f-2207-4428-823d-42df27565b1a",
   "metadata": {},
   "outputs": [],
   "source": [
    "#ans4\n",
    "The distinctions between the empty, ones, and zero functions are as follows :\n",
    "Empty function: An empty function is a function that does not contain any statement within its body. If you try to write a function \n",
    "definition without any statement in python ,it will return an error. To avoid this, we use pass statement. pass is a special statement \n",
    "in Python that does nothing. It only works as a dummy statement.\n",
    "Ones: This function returns a new array of given shape and data type, where the element’s value is 1.\n",
    "Zeros: This function returns a new array of given shape and data type, where the element’s value is 0."
   ]
  },
  {
   "cell_type": "code",
   "execution_count": null,
   "id": "bfd7b802-d88a-4a46-8ebc-4c8f1f62c958",
   "metadata": {},
   "outputs": [],
   "source": [
    "#ans5\n",
    "Its function is to execute the function over each coordinate and the resulting array. The function is called with N parameters, \n",
    "where N is the rank of shape. Each parameter represents the coordinates of the array varying along a specific axis."
   ]
  },
  {
   "cell_type": "code",
   "execution_count": null,
   "id": "e909bee6-5f47-459e-af27-8048577c1c5d",
   "metadata": {},
   "outputs": [],
   "source": [
    "#ans6\n",
    "If any scaler value such as integer is added to the numpy array then all the elements inside the array will add that value in it."
   ]
  },
  {
   "cell_type": "code",
   "execution_count": null,
   "id": "c311d1ef-448b-4ee1-9945-4ac1576e923f",
   "metadata": {},
   "outputs": [],
   "source": [
    "#ans7\n",
    "It will carry out provided operation on all elements of array."
   ]
  },
  {
   "cell_type": "code",
   "execution_count": null,
   "id": "f017a11b-7f8a-4c16-a456-14d95403320d",
   "metadata": {},
   "outputs": [],
   "source": [
    "#ans8\n",
    "Yes, it is possible that we can include a string of fixed length in numpy array. The dtype of any numpy array containing string \n",
    "values is the maximum length of any string present in the array.Once set, it will only be able to store new string having length\n",
    "not more than the maximum length at the time of the creation. If we try to reassign some another string value having length greater \n",
    "than the maximum length of the existing elements, it simply discards all the values beyond the maximum length accept upto those values \n",
    "which are under the limit."
   ]
  },
  {
   "cell_type": "code",
   "execution_count": null,
   "id": "1a11401d-6ead-4efe-8812-10dffc82b81c",
   "metadata": {},
   "outputs": [],
   "source": [
    "#ans9\n",
    "It will simply add or multiply element to element at same position."
   ]
  },
  {
   "cell_type": "code",
   "execution_count": null,
   "id": "fae67bcc-4ceb-4686-a43b-86b45805c758",
   "metadata": {},
   "outputs": [],
   "source": [
    "#ans10\n",
    "The best way to use a Boolean array to mask another array is by Using masked_where of numpy package"
   ]
  },
  {
   "cell_type": "code",
   "execution_count": null,
   "id": "e18b0d92-5dee-49ab-810d-02159e808ea9",
   "metadata": {},
   "outputs": [],
   "source": [
    "#ans11\n",
    "np.std and math package can be used individually."
   ]
  },
  {
   "cell_type": "code",
   "execution_count": null,
   "id": "3325e866-5735-4061-a138-64354949c5bc",
   "metadata": {},
   "outputs": [],
   "source": [
    "#ans12\n",
    "It will have same dimensionality as input array."
   ]
  }
 ],
 "metadata": {
  "kernelspec": {
   "display_name": "Python 3 (ipykernel)",
   "language": "python",
   "name": "python3"
  },
  "language_info": {
   "codemirror_mode": {
    "name": "ipython",
    "version": 3
   },
   "file_extension": ".py",
   "mimetype": "text/x-python",
   "name": "python",
   "nbconvert_exporter": "python",
   "pygments_lexer": "ipython3",
   "version": "3.10.6"
  }
 },
 "nbformat": 4,
 "nbformat_minor": 5
}
