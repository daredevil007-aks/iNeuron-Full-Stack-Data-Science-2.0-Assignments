{
 "cells": [
  {
   "cell_type": "code",
   "execution_count": null,
   "id": "bd9d7119-cde0-4ce0-95e1-88ebcd8ed551",
   "metadata": {},
   "outputs": [],
   "source": [
    "#ans1\n",
    "try statement is used for exception handling in python. it consists of a block of risky statements which might cause an exception during runtime. if code within try block raises exception,\n",
    "then the exception will be reverted to the corresponding except block if multiple except blocks are present, else it willbe reverted to the default except block. In short try and except in\n",
    "union avoid programs from crashing during runtime due to exceptions."
   ]
  },
  {
   "cell_type": "code",
   "execution_count": null,
   "id": "0546a6af-d5c7-4149-bdc5-4855f1cfce45",
   "metadata": {},
   "outputs": [],
   "source": [
    "#ans2\n",
    "The Popular try statement variations are:\n",
    "\n",
    "try,except\n",
    "try,except,finally\n",
    "try,except,finally,else\n",
    "The try block is used to check code for exceptions during runtime. ie code inside try block will execute completely when there is no error in the program. Whereas the code inside\n",
    "except block will execute whenever the program encounters some error in the preceeding try block."
   ]
  },
  {
   "cell_type": "code",
   "execution_count": null,
   "id": "972a2d14-a150-42ad-915f-4ca71225b95b",
   "metadata": {},
   "outputs": [],
   "source": [
    "#ans3\n",
    "raise statement is used to trigger an exception explicitly, if a certain condition is not as per requirement of programmer. raise statement helps in triggering exception as per programming logic."
   ]
  },
  {
   "cell_type": "code",
   "execution_count": null,
   "id": "2d76caf8-e425-4407-86b4-b435c41c0891",
   "metadata": {},
   "outputs": [],
   "source": [
    "#ans4\n",
    " There are few assertions that programmer always want to be true to avoid code failure. This type of requirement is fulfilled by assert statement. \n",
    "    This statement takes a boolean condition output of which is True, Further Program Executes. if output of assert statement is False, it raises an Assertion Error."
   ]
  },
  {
   "cell_type": "code",
   "execution_count": null,
   "id": "1180b9b3-090d-4351-93db-c3b0cc043b69",
   "metadata": {},
   "outputs": [],
   "source": [
    "#ans5\n",
    "with/as statement simplifies use of file handling in python. When we use a with statement for file reading, there is no need for programmer to explicitly takecare of activities\n",
    "like resource deallocation and file closing by using file.close() method. with statement itself ensures proper acquisition and release of resources. this avoids triggering of exceptions\n",
    "if file closing is unknowingly forgotten in the code execution.\n",
    "\n",
    "with open('sample_file.txt','w') as file: file.write('Hello World')"
   ]
  }
 ],
 "metadata": {
  "kernelspec": {
   "display_name": "Python 3 (ipykernel)",
   "language": "python",
   "name": "python3"
  },
  "language_info": {
   "codemirror_mode": {
    "name": "ipython",
    "version": 3
   },
   "file_extension": ".py",
   "mimetype": "text/x-python",
   "name": "python",
   "nbconvert_exporter": "python",
   "pygments_lexer": "ipython3",
   "version": "3.10.6"
  }
 },
 "nbformat": 4,
 "nbformat_minor": 5
}
