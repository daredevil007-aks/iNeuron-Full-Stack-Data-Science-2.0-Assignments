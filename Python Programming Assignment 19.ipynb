{
 "cells": [
  {
   "cell_type": "code",
   "execution_count": 17,
   "id": "c93c8401-7c64-48e9-930e-5bb0a698f0e9",
   "metadata": {},
   "outputs": [
    {
     "name": "stdin",
     "output_type": "stream",
     "text": [
      " akshat\n"
     ]
    },
    {
     "data": {
      "text/plain": [
       "'double_char(\"akshat\") ~ \"aakksshhaatt\"'"
      ]
     },
     "execution_count": 17,
     "metadata": {},
     "output_type": "execute_result"
    }
   ],
   "source": [
    "#ans1\n",
    "def double_char(string):\n",
    "    function = ''\n",
    "    for i in string:\n",
    "        function = i*2 + function\n",
    "    return f'double_char(\"{string}\") ~ \"{function[::-1]}\"'\n",
    "double_char(str(input()))"
   ]
  },
  {
   "cell_type": "code",
   "execution_count": 24,
   "id": "b561757e-282e-44c5-ba37-93666e4b2309",
   "metadata": {},
   "outputs": [
    {
     "data": {
      "text/plain": [
       "'reverse(False) ~ \"True\"'"
      ]
     },
     "execution_count": 24,
     "metadata": {},
     "output_type": "execute_result"
    }
   ],
   "source": [
    "#ans2\n",
    "def function(l):\n",
    "    if type(l) == bool and l == True:\n",
    "        return f'reverse({l}) ~ \"False\"'\n",
    "    elif type(l) == bool and l == False:\n",
    "          return f'reverse({l}) ~ \"True\"'\n",
    "    else:\n",
    "        return f'reverse({l}) ~ \"boolean expected\"'\n",
    "    \n",
    "function(False)"
   ]
  },
  {
   "cell_type": "code",
   "execution_count": 1,
   "id": "e1dae293-87b5-4c94-9ae1-589853dd35c3",
   "metadata": {},
   "outputs": [
    {
     "name": "stdout",
     "output_type": "stream",
     "text": [
      "Output ➞ 0.001m\n"
     ]
    }
   ],
   "source": [
    "#ans3\n",
    "def num_layers(in_num):\n",
    "    out_num = 0.5\n",
    "    for ele in range(in_num):\n",
    "        out_num *= 2\n",
    "    print(f'Output ➞ {out_num/1000}m')\n",
    "    \n",
    "num_layers(1)"
   ]
  },
  {
   "cell_type": "code",
   "execution_count": 1,
   "id": "838710bc-272b-43bd-a532-1953c4ec93a1",
   "metadata": {},
   "outputs": [
    {
     "name": "stdin",
     "output_type": "stream",
     "text": [
      " eQuINoX\n"
     ]
    },
    {
     "name": "stdout",
     "output_type": "stream",
     "text": [
      "[1, 3, 4, 6]\n"
     ]
    }
   ],
   "source": [
    "#ans4 \n",
    "def index_caps(string_1):\n",
    "    h = []\n",
    "    for i in string_1:\n",
    "        if i.isupper():\n",
    "            h.append(string_1.index(i))\n",
    "    print(h)\n",
    "index_caps(str(input()))        "
   ]
  },
  {
   "cell_type": "code",
   "execution_count": 14,
   "id": "2399a3df-70ab-4095-a31d-6c646b277b5d",
   "metadata": {},
   "outputs": [
    {
     "data": {
      "text/plain": [
       "'find_even_num 8 ~ [2, 4, 6]'"
      ]
     },
     "execution_count": 14,
     "metadata": {},
     "output_type": "execute_result"
    }
   ],
   "source": [
    "#ans5\n",
    "def find_even_num(num):\n",
    "    even = [ i for i in range(1,num)if i%2 == 0]\n",
    "    return f'find_even_num {l} ~ {even}'\n",
    "      \n",
    "find_even_num(8)"
   ]
  }
 ],
 "metadata": {
  "kernelspec": {
   "display_name": "Python 3 (ipykernel)",
   "language": "python",
   "name": "python3"
  },
  "language_info": {
   "codemirror_mode": {
    "name": "ipython",
    "version": 3
   },
   "file_extension": ".py",
   "mimetype": "text/x-python",
   "name": "python",
   "nbconvert_exporter": "python",
   "pygments_lexer": "ipython3",
   "version": "3.10.6"
  }
 },
 "nbformat": 4,
 "nbformat_minor": 5
}
