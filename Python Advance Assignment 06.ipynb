{
 "cells": [
  {
   "cell_type": "code",
   "execution_count": null,
   "id": "e115562c-dba9-4ff2-803d-aca1cf689784",
   "metadata": {},
   "outputs": [],
   "source": [
    "#ans1\n",
    "Exception Processing is important to find exceptions that causes the runtime error. As runtime errors Halt the program execution when exception occurs.\n",
    "\n",
    "Exception Processing is used in Various Applications of which few examples are:\n",
    "\n",
    "Checking Appropriate use of input in an application\n",
    "Checking for Arithmetic exceptions in mathematical executions\n",
    "Checking File I/O exceptions during File handling"
   ]
  },
  {
   "cell_type": "code",
   "execution_count": null,
   "id": "6cecd444-c83b-4b82-9add-f9e7a89d1c81",
   "metadata": {},
   "outputs": [],
   "source": [
    "#ans2\n",
    "If Exceptions are not handled flow of program will be broken during the run time which might lead to a abnormal termination of the program. Inshort inability of program to handle \n",
    "exceptions will result in crashing of program."
   ]
  },
  {
   "cell_type": "code",
   "execution_count": null,
   "id": "6fc280b2-8d1e-46a9-94fa-ffc765d788fc",
   "metadata": {},
   "outputs": [],
   "source": [
    "#ans3\n",
    "Python provides try and except statements for recovering from an exception in your script."
   ]
  },
  {
   "cell_type": "code",
   "execution_count": null,
   "id": "9b6c58e7-7662-4802-b927-0a0039025571",
   "metadata": {},
   "outputs": [],
   "source": [
    "#ans4\n",
    "raise and assert are two methods that can be used to trigger manual exceptions in your script.\n",
    "\n",
    "raise method triggers an exception if condition provided to it turns out to be True.\n",
    "assert will let the program to continue execution if condition provided to it turns out to be True else exception will be raised"
   ]
  },
  {
   "cell_type": "code",
   "execution_count": null,
   "id": "a2d0897d-375a-4138-9341-00b49b2b4e8f",
   "metadata": {},
   "outputs": [],
   "source": [
    "#ans5\n",
    "Python Provides else and finally blocks for specifying actions to be executed at termination time, regardless of whether an exceptions exists or not."
   ]
  }
 ],
 "metadata": {
  "kernelspec": {
   "display_name": "Python 3 (ipykernel)",
   "language": "python",
   "name": "python3"
  },
  "language_info": {
   "codemirror_mode": {
    "name": "ipython",
    "version": 3
   },
   "file_extension": ".py",
   "mimetype": "text/x-python",
   "name": "python",
   "nbconvert_exporter": "python",
   "pygments_lexer": "ipython3",
   "version": "3.10.6"
  }
 },
 "nbformat": 4,
 "nbformat_minor": 5
}
