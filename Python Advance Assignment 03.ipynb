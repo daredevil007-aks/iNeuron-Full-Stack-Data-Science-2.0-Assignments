{
 "cells": [
  {
   "cell_type": "code",
   "execution_count": null,
   "id": "28efa75c-1150-4dfd-a429-ed6a39ccf1aa",
   "metadata": {},
   "outputs": [],
   "source": [
    "#ans1\n",
    "An abstract class/superclass can be considered as a blueprint for other classes. It allows you to create a set of\n",
    "methods that must be created within any child classes built from the abstract class. A class which contains one or\n",
    "more abstract methods is called an abstract class."
   ]
  },
  {
   "cell_type": "code",
   "execution_count": null,
   "id": "e252cbd6-be6f-454d-8006-8ff0873ed35c",
   "metadata": {},
   "outputs": [],
   "source": [
    "#ans2\n",
    "When a Class statement's top level contains a basic assignment statement, its usually treated as a class attribute or\n",
    "class level variable.\n",
    "where as assignment statements inside methods are treated as instance attributes or local attributes.\n",
    "When an instance of a class is created a single copy of class attributes is maintained and shared to all instances of class.\n",
    "where as each instance object maintains its own copy of instance variables."
   ]
  },
  {
   "cell_type": "code",
   "execution_count": null,
   "id": "f2c009d5-bf1f-42c7-a156-7b260ec9c171",
   "metadata": {},
   "outputs": [],
   "source": [
    "#ans3\n",
    "if a child class has __init__ method, then it will not inherit the __init__ method of the parent class. \n",
    "in other words the __init__ method of the child class overrides the __init__ method of the parent class.\n",
    "so we have to manually call a parent superclass's __init__ using super() method"
   ]
  },
  {
   "cell_type": "code",
   "execution_count": null,
   "id": "c9072c17-3b64-4fd5-aa49-3ab058204f52",
   "metadata": {},
   "outputs": [],
   "source": [
    "#ans4\n",
    "super() method can be used to augment, instead of completely replacing, an inherited method."
   ]
  },
  {
   "cell_type": "code",
   "execution_count": null,
   "id": "877ada0e-8397-48aa-8f16-8dc996dddc18",
   "metadata": {},
   "outputs": [],
   "source": [
    "#ans5\n",
    "A Variable which is defined inside a function is local to that function. it is accesible from the point at which it \n",
    "is defined until the end of the function, and exists for as long as the function is existing.\n",
    "\n",
    "Similary a variable inside of a class also has a local variable scope. Variables which are defined in the class\n",
    "body (but outside all methods) are called as class level variables or class attributes. they can be referenced by \n",
    "there bare names within the same scope, but they can also be accessed from outside this scope if we use the attribute \n",
    "access operator (.). on a class or an instance of the class."
   ]
  }
 ],
 "metadata": {
  "kernelspec": {
   "display_name": "Python 3 (ipykernel)",
   "language": "python",
   "name": "python3"
  },
  "language_info": {
   "codemirror_mode": {
    "name": "ipython",
    "version": 3
   },
   "file_extension": ".py",
   "mimetype": "text/x-python",
   "name": "python",
   "nbconvert_exporter": "python",
   "pygments_lexer": "ipython3",
   "version": "3.10.6"
  }
 },
 "nbformat": 4,
 "nbformat_minor": 5
}
