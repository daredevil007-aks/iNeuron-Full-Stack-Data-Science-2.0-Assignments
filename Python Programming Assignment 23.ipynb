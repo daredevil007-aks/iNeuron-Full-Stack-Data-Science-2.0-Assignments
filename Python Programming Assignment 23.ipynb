{
 "cells": [
  {
   "cell_type": "code",
   "execution_count": 16,
   "id": "02e18272-e861-4dd2-8854-3f807cf01f78",
   "metadata": {},
   "outputs": [
    {
     "data": {
      "text/plain": [
       "'is_symetrical(4442) ~ False'"
      ]
     },
     "execution_count": 16,
     "metadata": {},
     "output_type": "execute_result"
    }
   ],
   "source": [
    "#ans1 \n",
    "def is_symetrical(l):\n",
    "    converting_str = str(l)\n",
    "    reversing = converting_str[::-1]\n",
    "    if converting_str == reversing:\n",
    "        return f'is_symetrical({l}) ~ {True}'\n",
    "    else:\n",
    "        return f'is_symetrical({l}) ~ {False}'\n",
    "\n",
    "is_symetrical(4442)"
   ]
  },
  {
   "cell_type": "code",
   "execution_count": 43,
   "id": "a1cdd198-9c5a-422f-b759-3bec7a3e1bab",
   "metadata": {},
   "outputs": [
    {
     "data": {
      "text/plain": [
       "'multiply_nums(2,3) ~ 6'"
      ]
     },
     "execution_count": 43,
     "metadata": {},
     "output_type": "execute_result"
    }
   ],
   "source": [
    "#ans2\n",
    "def multiply_nums(l):\n",
    "    converting_to_list = list(map(int,l.split(\",\")))\n",
    "    product = 1\n",
    "    for i in converting_to_list:\n",
    "        product = i*product\n",
    "    return f'multiply_nums({l}) ~ {product}'\n",
    "\n",
    "multiply_nums(\"2,3\")"
   ]
  },
  {
   "cell_type": "code",
   "execution_count": 71,
   "id": "00322ad9-982e-41b5-8e09-45c0ffe443bb",
   "metadata": {},
   "outputs": [
    {
     "name": "stdout",
     "output_type": "stream",
     "text": [
      "9119 ➞ 811181\n",
      "2483 ➞ 416649\n",
      "3212 ➞ 9414\n"
     ]
    }
   ],
   "source": [
    "#ans 3\n",
    "def square_digits(in_num):\n",
    "    in_list = [str(int(ele)**2) for ele in str(in_num)]\n",
    "    out_list = ''.join(in_list)\n",
    "    print(f'{in_num} ➞ {int(out_list)}')\n",
    "\n",
    "square_digits(9119)\n",
    "square_digits(2483)\n",
    "square_digits(3212)"
   ]
  },
  {
   "cell_type": "code",
   "execution_count": 79,
   "id": "7380ff02-1ffb-455d-b73d-5b261fc9deff",
   "metadata": {},
   "outputs": [
    {
     "name": "stdout",
     "output_type": "stream",
     "text": [
      "setify([1, 7, 5, 8, 7]) ~ [1, 7, 5, 8]\n"
     ]
    }
   ],
   "source": [
    "#ans4\n",
    "def setify(l):\n",
    "    new_list =[]\n",
    "    for i in l:\n",
    "        if i not in new_list:\n",
    "            new_list.append(i)\n",
    "    print(f'setify({l}) ~ {new_list}')\n",
    "    \n",
    "setify([1,7,5,8,7])"
   ]
  },
  {
   "cell_type": "code",
   "execution_count": 103,
   "id": "c670b734-df03-4453-9d90-148d32c4027e",
   "metadata": {},
   "outputs": [
    {
     "name": "stdout",
     "output_type": "stream",
     "text": [
      "mean(42) ~ 3\n"
     ]
    }
   ],
   "source": [
    "#ans5\n",
    "def mean_fun(p):\n",
    "    got = [i for i in str(p)]\n",
    "    count = 0\n",
    "    sum_1 = 0\n",
    "    for i in got:\n",
    "        count +=1\n",
    "    for j in range(0,len(got)+1):\n",
    "        sum_1 = int(i) + sum_1\n",
    "    print(f'mean({p}) ~ {round(sum_1/count)}')\n",
    "\n",
    "mean_fun(42)"
   ]
  }
 ],
 "metadata": {
  "kernelspec": {
   "display_name": "Python 3 (ipykernel)",
   "language": "python",
   "name": "python3"
  },
  "language_info": {
   "codemirror_mode": {
    "name": "ipython",
    "version": 3
   },
   "file_extension": ".py",
   "mimetype": "text/x-python",
   "name": "python",
   "nbconvert_exporter": "python",
   "pygments_lexer": "ipython3",
   "version": "3.10.6"
  }
 },
 "nbformat": 4,
 "nbformat_minor": 5
}
