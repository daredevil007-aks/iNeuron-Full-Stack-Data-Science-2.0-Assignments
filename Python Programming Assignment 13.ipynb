{
 "cells": [
  {
   "cell_type": "code",
   "execution_count": null,
   "id": "5abc4be8-d450-4f51-93fb-fa997cb0b288",
   "metadata": {},
   "outputs": [],
   "source": [
    "#ans 1\n",
    "from math import sqrt\n",
    "def calculateProgram():\n",
    "    in_num = eval(input(\"Enter the Input: \"))\n",
    "    out_num = []\n",
    "    C = 50 # Declaring and initializing constant C\n",
    "    H = 30 # Declaring and initializing constant H\n",
    "    for ele in in_num:\n",
    "        Q = str(int(sqrt((2*C*ele)/H)))\n",
    "        out_num.append(Q)\n",
    "    print(\"Output: {}\".format(','.join(out_num)))\n",
    "    \n",
    "calculateProgram()"
   ]
  },
  {
   "cell_type": "code",
   "execution_count": null,
   "id": "ddbea7cb-c769-4f2d-b38c-c973097f0cd2",
   "metadata": {},
   "outputs": [],
   "source": [
    "#ans 2\n",
    "import array as arr\n",
    "def generateArray():\n",
    "    in_x = int(input('Enter the No of Rows:'))\n",
    "    in_y = int(input('Enter the No of Columns:')) \n",
    "    out_array = []\n",
    "    for ele in range(in_x):\n",
    "        out_array.insert(in_x,[])\n",
    "        for sub_ele in range(in_y):\n",
    "            out_array[ele].append(ele*sub_ele)\n",
    "    print(out_array)\n",
    "    \n",
    "generateArray()"
   ]
  },
  {
   "cell_type": "code",
   "execution_count": 4,
   "id": "d6b9b237-1eb3-4b6c-aac9-5360c2ebf3aa",
   "metadata": {},
   "outputs": [
    {
     "name": "stdin",
     "output_type": "stream",
     "text": [
      "Enter the Input String:  askaht, ksh, dsf\n"
     ]
    },
    {
     "name": "stdout",
     "output_type": "stream",
     "text": [
      "Output:  dsf, ksh,askaht\n"
     ]
    }
   ],
   "source": [
    "#ans 3\n",
    "def sortString():\n",
    "    in_string = input(\"Enter the Input String: \")\n",
    "    out_string = ','.join(sorted(in_string.split(',')))\n",
    "    print(f'Output: {out_string}')\n",
    "    \n",
    "sortString()"
   ]
  },
  {
   "cell_type": "code",
   "execution_count": 5,
   "id": "bdef9061-2552-4ca0-94df-d6ba37351f68",
   "metadata": {},
   "outputs": [
    {
     "name": "stdin",
     "output_type": "stream",
     "text": [
      " aks aksrr als als\n"
     ]
    },
    {
     "name": "stdout",
     "output_type": "stream",
     "text": [
      "aks aksrr als\n"
     ]
    }
   ],
   "source": [
    "#ans 4\n",
    "input_1 = input().split(\" \")\n",
    "result = []\n",
    "for i in input_1:\n",
    "    if i not in result:\n",
    "        result.append(i)\n",
    "print(\" \".join(result))"
   ]
  },
  {
   "cell_type": "code",
   "execution_count": 15,
   "id": "101d83e3-e607-45ee-bfdb-ef58e2f7932e",
   "metadata": {},
   "outputs": [
    {
     "name": "stdin",
     "output_type": "stream",
     "text": [
      " hello world! 123\n"
     ]
    },
    {
     "name": "stdout",
     "output_type": "stream",
     "text": [
      "LETTERS : 10\n",
      "DIGITS : 3\n"
     ]
    }
   ],
   "source": [
    "#ans 5\n",
    "sen = input()\n",
    "lettersList = 'ABCDEFGHIJKLMNOPQRSTUVWXYZabcdefghijklmnopqrstuvwxyz'\n",
    "digitsList = '0123456789'\n",
    "LETTERS = 0\n",
    "DIGITS = 0\n",
    "for i in sen:\n",
    "    if i in digitsList:\n",
    "        DIGITS += 1\n",
    "    if i in lettersList:\n",
    "        LETTERS += 1\n",
    "print(f\"LETTERS : {LETTERS}\")\n",
    "print(f\"DIGITS : {DIGITS}\")\n"
   ]
  },
  {
   "cell_type": "code",
   "execution_count": 46,
   "id": "77a7e5a3-fcfe-4ddd-9790-8e4c61fb7cbc",
   "metadata": {},
   "outputs": [
    {
     "name": "stdin",
     "output_type": "stream",
     "text": [
      " ABd1234@1,a F1#,2w3E*,2We3345\n"
     ]
    },
    {
     "name": "stdout",
     "output_type": "stream",
     "text": [
      "valid password ABd1234@1\n"
     ]
    }
   ],
   "source": [
    "#ans 6\n",
    "password = input().split(\",\")\n",
    "\n",
    "up = 'ABCDEFGHIJKLMNOPQRSTUVWXYZ'\n",
    "lo = 'abcdefghijklmnopqrstuvwxyz'\n",
    "digitsList = '0123456789'\n",
    "char = '$#@'\n",
    "\n",
    "for i in password:\n",
    "    if len(i) > 6 and len(i) < 12:\n",
    "            if (j.isupper() for j in i):\n",
    "                    if (j for j in i if j in char):\n",
    "                        print(f\"valid password {password[0]}\")\n",
    "                        break\n"
   ]
  },
  {
   "cell_type": "code",
   "execution_count": null,
   "id": "4e2d2f38-2e6d-4809-9581-388d0a64a5a7",
   "metadata": {},
   "outputs": [],
   "source": []
  }
 ],
 "metadata": {
  "kernelspec": {
   "display_name": "Python 3 (ipykernel)",
   "language": "python",
   "name": "python3"
  },
  "language_info": {
   "codemirror_mode": {
    "name": "ipython",
    "version": 3
   },
   "file_extension": ".py",
   "mimetype": "text/x-python",
   "name": "python",
   "nbconvert_exporter": "python",
   "pygments_lexer": "ipython3",
   "version": "3.10.6"
  }
 },
 "nbformat": 4,
 "nbformat_minor": 5
}
