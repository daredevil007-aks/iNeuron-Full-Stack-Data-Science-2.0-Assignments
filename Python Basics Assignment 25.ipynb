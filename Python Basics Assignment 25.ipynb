{
 "cells": [
  {
   "cell_type": "code",
   "execution_count": null,
   "id": "af4a4e6a-04ff-4946-b5f2-6b39a4947513",
   "metadata": {},
   "outputs": [],
   "source": [
    "#ans 1\n",
    "Enclosing a list comprehension in square brackets returns a list.but where as enclosing a list comprehension in parentheses returns a generator object\n",
    "\n",
    "l = [ele for ele in range(10)]\n",
    "print(l, type(l))\n",
    "g = (ele for ele in range(10))\n",
    "print(g, type(g))\n",
    "[0, 1, 2, 3, 4, 5, 6, 7, 8, 9] <class 'list'>\n",
    "<generator object <genexpr> at 0x00000193F09C5C10> <class 'generator'>"
   ]
  },
  {
   "cell_type": "code",
   "execution_count": null,
   "id": "b0c75e8b-e750-4010-af7b-14f65f11ff4d",
   "metadata": {},
   "outputs": [],
   "source": [
    "#ans 2\n",
    "An iterator is an object which contains a countable number of values and it is used to iterate over iterable objects like list, tuples, sets, etc. Iterators\n",
    "are implemented using a class. It follows lazy evaluation where the evaluation of the expression will be on hold and stored in the memory until the item is called \n",
    "specifically which helps us to avoid repeated evaluation. As lazy evaluation is implemented, it requires only 1 memory location to process the value and\n",
    "when we are using a large dataset then, wastage of RAM space will be reduced the need to load the entire dataset at the same time will not be there.For an\n",
    "iterator: iter() keyword is used to create an iterator containing an iterable object.next() keyword is used to call the next element in the iterable object.\n",
    "\n",
    "Similarly Generators are an another way of creating iterators in a simple way where it uses the keyword yield statement instead of return statement in a defined\n",
    "function.Generators are implemented using a function. Just as iterators, generators also follow lazy evaluation. Here, the yield function returns the data without\n",
    "affecting or exiting the function. It will return a sequence of data in an iterable format where we need to iterate over the sequence to use the data as they won’t\n",
    "store the entire sequence in the memory."
   ]
  },
  {
   "cell_type": "code",
   "execution_count": null,
   "id": "35b8ddeb-3b96-4239-880e-51bec7c931a3",
   "metadata": {},
   "outputs": [],
   "source": [
    "#ans 3\n",
    "A generator function uses a yield statement instead of a return statement. A generator function will always return a iterable object called generator. \n",
    "where as a normal function can return a string/list/tuple/dict/NoneType ... etc"
   ]
  },
  {
   "cell_type": "code",
   "execution_count": null,
   "id": "7211e841-d23f-4119-992c-10548a2f26db",
   "metadata": {},
   "outputs": [],
   "source": [
    "#ans 4\n",
    "The yield statement suspends function’s execution and sends a value back to the caller, but retains enough state to enable function to resume where it is left off. \n",
    "When resumed, the function continues execution immediately after the last yield run. This allows its code to produce a series of values over time, rather than computing \n",
    "them at once and sending them back like a list."
   ]
  },
  {
   "cell_type": "code",
   "execution_count": null,
   "id": "16f83929-3c5f-4a99-a6ca-0b803af83801",
   "metadata": {},
   "outputs": [],
   "source": [
    "#ans 5\n",
    "The main differences between map calls and list comprehensiosn are:\n",
    "\n",
    "List comprehension is more concise and easier to read as compared to map.\n",
    "List comprehension allows filtering. In map, we have no such facility. For example, to print all odd numbers in range of 50, we can write [n for n in range(50) if n%2 != 0]. \n",
    "There is no alternate for it in map\n",
    "List comprehension are used when a list of results is required as final output.but map only returns a map object. it needs to be explicitly coverted to desired datatype.\n",
    "List comprehension is faster than map when we need to evaluate expressions that are too long or complicated to express\n",
    "Map is faster in case of calling an already defined function on a set of values."
   ]
  }
 ],
 "metadata": {
  "kernelspec": {
   "display_name": "Python 3 (ipykernel)",
   "language": "python",
   "name": "python3"
  },
  "language_info": {
   "codemirror_mode": {
    "name": "ipython",
    "version": 3
   },
   "file_extension": ".py",
   "mimetype": "text/x-python",
   "name": "python",
   "nbconvert_exporter": "python",
   "pygments_lexer": "ipython3",
   "version": "3.10.6"
  }
 },
 "nbformat": 4,
 "nbformat_minor": 5
}
