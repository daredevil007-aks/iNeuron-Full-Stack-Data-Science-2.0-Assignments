{
 "cells": [
  {
   "cell_type": "code",
   "execution_count": 25,
   "id": "fb4f9a4d-ba63-45f2-a744-ecce463efdf9",
   "metadata": {},
   "outputs": [
    {
     "name": "stdout",
     "output_type": "stream",
     "text": [
      "amplify(25) ~ [1, 2, 3, 40, 5, 6, 7, 80, 9, 10, 11, 120, 13, 14, 15, 160, 17, 18, 19, 200, 21, 22, 23, 240, 25]\n"
     ]
    }
   ],
   "source": [
    "#ans 1\n",
    "def amplify(l):\n",
    "    new_list = [i*10 if i%4 == 0 else i for i in range(1,l+1)]\n",
    "    print(f'amplify({l}) ~ {new_list}')\n",
    "          \n",
    "amplify(25)"
   ]
  },
  {
   "cell_type": "code",
   "execution_count": 26,
   "id": "932a7bb1-bf57-4109-aad0-06573608c75a",
   "metadata": {},
   "outputs": [
    {
     "name": "stdout",
     "output_type": "stream",
     "text": [
      " unique ([1, 8, 1, 1, 1]) ~ 8\n"
     ]
    }
   ],
   "source": [
    "#ans 2\n",
    "def unique_list(l):\n",
    "    unique = ''\n",
    "    for i in set(l):\n",
    "        if l.count(i) ==1:\n",
    "            unique = i\n",
    "    print(f' unique ({l}) ~ {unique}')\n",
    "    \n",
    "unique_list([1,8,1,1,1])"
   ]
  },
  {
   "cell_type": "code",
   "execution_count": 27,
   "id": "72ba08da-784c-4ea0-a8be-7cfae58e00f2",
   "metadata": {},
   "outputs": [
    {
     "name": "stdout",
     "output_type": "stream",
     "text": [
      "radius ~ 380\n",
      "Permieter ~ 69\n"
     ]
    }
   ],
   "source": [
    "#ans 3\n",
    "import math \n",
    "\n",
    "class circle:\n",
    "    def __init__(self,radius):\n",
    "        self.radius =radius\n",
    "    def getarea(self):\n",
    "        print(f'radius ~ {round(math.pi*self.radius*self.radius)}')\n",
    "    def getperimeter(self):\n",
    "        print(f'Permieter ~ {round(2*math.pi*self.radius)}')\n",
    "        \n",
    "imp = circle(11)\n",
    "imp.getarea()\n",
    "imp.getperimeter()"
   ]
  },
  {
   "cell_type": "code",
   "execution_count": 28,
   "id": "209173ac-4c68-4b29-ae15-33772dce2cbf",
   "metadata": {},
   "outputs": [
    {
     "name": "stdout",
     "output_type": "stream",
     "text": [
      "['Apple', 'Google', 'Microsoft']\n",
      "['Raphael', 'Leonardo', 'Donatello', 'Michelangelo']\n",
      "['Jung', 'Turing', 'Einstein']\n"
     ]
    }
   ],
   "source": [
    "#ans 4\n",
    "def sort_by_length(in_list):\n",
    "    print(sorted(in_list,key=len))\n",
    "\n",
    "sort_by_length([\"Google\", \"Apple\", \"Microsoft\"])\n",
    "sort_by_length([\"Leonardo\", \"Michelangelo\", \"Raphael\", \"Donatello\"])\n",
    "sort_by_length([\"Turing\", \"Einstein\", \"Jung\"])\n",
    "    "
   ]
  },
  {
   "cell_type": "code",
   "execution_count": 29,
   "id": "8a78ee9b-1d6b-439e-a018-145a0f83d164",
   "metadata": {},
   "outputs": [
    {
     "name": "stdout",
     "output_type": "stream",
     "text": [
      "is_triplet ([3, 4, 5]) ~ True\n"
     ]
    }
   ],
   "source": [
    "#ans 5\n",
    "def triplet(l):\n",
    "    l.sort()\n",
    "    if len(l) == 3:\n",
    "        if ((l[0]*l[0])+(l[1]*l[1])) == l[2]*l[2]:\n",
    "            print(f'is_triplet ({l}) ~ True')\n",
    "        else:\n",
    "            print(f'is_triplet ({l}) ~ False')\n",
    "    else:\n",
    "        print(\"len doesnt match\")\n",
    "    \n",
    "triplet([3,4,5])"
   ]
  }
 ],
 "metadata": {
  "kernelspec": {
   "display_name": "Python 3 (ipykernel)",
   "language": "python",
   "name": "python3"
  },
  "language_info": {
   "codemirror_mode": {
    "name": "ipython",
    "version": 3
   },
   "file_extension": ".py",
   "mimetype": "text/x-python",
   "name": "python",
   "nbconvert_exporter": "python",
   "pygments_lexer": "ipython3",
   "version": "3.10.6"
  }
 },
 "nbformat": 4,
 "nbformat_minor": 5
}
