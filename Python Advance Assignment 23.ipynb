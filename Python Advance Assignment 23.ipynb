{
 "cells": [
  {
   "cell_type": "code",
   "execution_count": null,
   "id": "47769d79-0880-4e8e-bb81-701410a85e19",
   "metadata": {},
   "outputs": [],
   "source": [
    "#ans1\n",
    "Matplotlib provides a convenient method called subplots for increasing the comparison between different figures on the same graph. \n",
    "Subplots mean a group of smaller axes (where each axis is a plot) that can exist together within a single figure."
   ]
  },
  {
   "cell_type": "code",
   "execution_count": null,
   "id": "57d5b69b-dc55-4329-b069-a0fb5c64eaa1",
   "metadata": {},
   "outputs": [],
   "source": [
    "#ans2\n",
    "Compound interest makes a sum of money grow at a faster rate than simple interest,because in addition to earning returns on the money \n",
    "you invest, you also earn returns on those returns at the end of every compounding period, which could be daily, monthly, quarterly or \n",
    "annually."
   ]
  },
  {
   "cell_type": "code",
   "execution_count": null,
   "id": "a3a23775-a1aa-4dca-a4d3-c9b693827767",
   "metadata": {},
   "outputs": [],
   "source": [
    "#ans3\n",
    "Histogram shows total values of X wrt Y. Which means at any particular position of X, Y value shows the total number of counts or data \n",
    "below that value of X. numpy.histogram() is the built in function used."
   ]
  },
  {
   "cell_type": "code",
   "execution_count": null,
   "id": "9e0e90f5-266c-45fe-8e25-7094b7db7cba",
   "metadata": {},
   "outputs": [],
   "source": [
    "#ans4\n",
    "We can use figure(figsize=(10,8)) function inside the matplot.pyplot library which we scale down or up the graph."
   ]
  },
  {
   "cell_type": "code",
   "execution_count": null,
   "id": "3e6052ff-1898-4b1b-84c1-bacbbbf518b5",
   "metadata": {},
   "outputs": [],
   "source": [
    "#ans5\n",
    "In regular multiplication values of same index get multiplied.\n",
    "\n",
    "In dot product there is row wise multiplication, row of one array with column of second array and so on.\n",
    "In outer multiplication every element of first array a1 will be multiply by every element of other array a2 such such the number of columns \n",
    "will be equal to the number of element in another array a2."
   ]
  },
  {
   "cell_type": "code",
   "execution_count": null,
   "id": "c5427f06-fbbe-41e1-81a6-10cbb8934da4",
   "metadata": {},
   "outputs": [],
   "source": [
    "#ans6\n",
    "np.pmt(rate, nper, pv) function we will be using in order to calculate monthly mortgage payment before you purchase a house.\n",
    "\n",
    "rate = The periodic interest rate\n",
    "nper = The number of payment periods\n",
    "pv = The total value of the mortgage loan"
   ]
  },
  {
   "cell_type": "code",
   "execution_count": null,
   "id": "46856521-926d-4dc8-be9d-1c9a40dbac7d",
   "metadata": {},
   "outputs": [],
   "source": [
    "#ans7\n",
    "Yes, an array can store the string. The limitation which imposed on the string data is, whenever we store the data of string dtype then it \n",
    "should should keep in mind that the string which is having the maximum length is the limit."
   ]
  }
 ],
 "metadata": {
  "kernelspec": {
   "display_name": "Python 3 (ipykernel)",
   "language": "python",
   "name": "python3"
  },
  "language_info": {
   "codemirror_mode": {
    "name": "ipython",
    "version": 3
   },
   "file_extension": ".py",
   "mimetype": "text/x-python",
   "name": "python",
   "nbconvert_exporter": "python",
   "pygments_lexer": "ipython3",
   "version": "3.10.6"
  }
 },
 "nbformat": 4,
 "nbformat_minor": 5
}
