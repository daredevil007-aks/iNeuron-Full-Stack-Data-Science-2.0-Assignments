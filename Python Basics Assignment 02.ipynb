{
 "cells": [
  {
   "cell_type": "code",
   "execution_count": null,
   "id": "8fa111ec",
   "metadata": {},
   "outputs": [],
   "source": [
    "Ans 1\n",
    "True or False"
   ]
  },
  {
   "cell_type": "code",
   "execution_count": null,
   "id": "579c2e3e",
   "metadata": {},
   "outputs": [],
   "source": [
    "Ans 2\n",
    "There are three basic Boolean search commands: AND, OR and NOT"
   ]
  },
  {
   "cell_type": "code",
   "execution_count": null,
   "id": "1aa3dcb2",
   "metadata": {},
   "outputs": [],
   "source": [
    "Ans 3\n",
    "True and True is True.\n",
    "\n",
    "True and False is False.\n",
    "\n",
    "False and True is False.\n",
    "\n",
    "False and False is False.\n",
    "\n",
    "True or True is True.\n",
    "\n",
    "True or False is True.\n",
    "\n",
    "False or True is True.\n",
    "\n",
    "False or False is False.\n",
    "\n",
    "not True is False.\n",
    "\n",
    "not False is True.\n",
    "\n",
    "Truth Table for AND\n",
    "A B output\n",
    "0 0 0\n",
    "0 1 0\n",
    "1 0 0\n",
    "1 1 1\n",
    "Truth Table for OR\n",
    "A B output\n",
    "0 0 0\n",
    "0 1 1\n",
    "1 0 1\n",
    "1 1 1\n",
    "Truth Table for NOT\n",
    "A output\n",
    "0 1\n",
    "1 0"
   ]
  },
  {
   "cell_type": "code",
   "execution_count": null,
   "id": "7ee363a6",
   "metadata": {},
   "outputs": [],
   "source": [
    "Ans 4\n",
    "False\n",
    "False\n",
    "True\n",
    "False\n",
    "False\n",
    "True"
   ]
  },
  {
   "cell_type": "code",
   "execution_count": null,
   "id": "32841847",
   "metadata": {},
   "outputs": [],
   "source": [
    "Ans 5\n",
    "==, !=, <, >, <=, and >="
   ]
  },
  {
   "cell_type": "code",
   "execution_count": null,
   "id": "a971fb77",
   "metadata": {},
   "outputs": [],
   "source": [
    "Ans 6\n",
    "== is the equal to operator that compares two values and evaluates to a Boolean, while = is the assignment operator that stores a value in a variable."
   ]
  },
  {
   "cell_type": "code",
   "execution_count": null,
   "id": "3230e36b",
   "metadata": {},
   "outputs": [],
   "source": [
    "Ans 7 \n",
    "ham\n",
    "spam\n",
    "spam\n"
   ]
  },
  {
   "cell_type": "code",
   "execution_count": null,
   "id": "12a40397",
   "metadata": {},
   "outputs": [],
   "source": [
    "Ans 8 \n",
    "spam = int(input(\"Input a no.\"))\n",
    "if spam == 1:\n",
    "    print(\"Hello\")\n",
    "elif spam == 2:\n",
    "    print(\"Howdy\")\n",
    "else:\n",
    "    print(\"Greetings!\")"
   ]
  },
  {
   "cell_type": "code",
   "execution_count": null,
   "id": "f7e076a0",
   "metadata": {},
   "outputs": [],
   "source": [
    "Ans 9 \n",
    " If program is stuck in endless loop we will press ctrl+c.\n"
   ]
  },
  {
   "cell_type": "code",
   "execution_count": null,
   "id": "72489bb9",
   "metadata": {},
   "outputs": [],
   "source": [
    "Ans 10\n",
    "The break statement will move the execution outside and just after a loop. The continue statement will move the execution to the start of the loop."
   ]
  },
  {
   "cell_type": "code",
   "execution_count": null,
   "id": "b541fb9e",
   "metadata": {},
   "outputs": [],
   "source": [
    "Ans 11\n",
    "The range(10) call ranges from 0 up to (but not including) 10, range(0, 10) tells the loop to start at 0, and range(0, 10, 1) tells the loop to increase the variable by 1 on each iteration."
   ]
  },
  {
   "cell_type": "code",
   "execution_count": null,
   "id": "7874307d",
   "metadata": {},
   "outputs": [],
   "source": [
    "Ans 12\n",
    "print(\"For Loop\")\n",
    "for i in range(1,11):\n",
    "    print(i)\n",
    "#Use of While Loop\n",
    "print(\"While Loop\")\n",
    "a =1\n",
    "while a <= 10:\n",
    "    print(a)\n",
    "    a+=1"
   ]
  },
  {
   "cell_type": "code",
   "execution_count": null,
   "id": "981c9ac3",
   "metadata": {},
   "outputs": [],
   "source": [
    "Ans 13\n",
    "This function can be called with spam.bacon()."
   ]
  }
 ],
 "metadata": {
  "kernelspec": {
   "display_name": "Python 3 (ipykernel)",
   "language": "python",
   "name": "python3"
  },
  "language_info": {
   "codemirror_mode": {
    "name": "ipython",
    "version": 3
   },
   "file_extension": ".py",
   "mimetype": "text/x-python",
   "name": "python",
   "nbconvert_exporter": "python",
   "pygments_lexer": "ipython3",
   "version": "3.9.12"
  }
 },
 "nbformat": 4,
 "nbformat_minor": 5
}
