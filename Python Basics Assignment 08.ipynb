{
 "cells": [
  {
   "cell_type": "code",
   "execution_count": null,
   "id": "4bd683b0",
   "metadata": {},
   "outputs": [],
   "source": [
    "#Q.1\n",
    "#Ans. PyInputPlus is not a part of the Python Standard Library, we must install it separately using Pip."
   ]
  },
  {
   "cell_type": "code",
   "execution_count": null,
   "id": "6e2ac65b",
   "metadata": {},
   "outputs": [],
   "source": [
    "#Q.2\n",
    "#Ans. You can import the module with import pyinputplus as pyip so that you can enter a shorter name when calling the module’s functions"
   ]
  },
  {
   "cell_type": "code",
   "execution_count": null,
   "id": "d6e170ec",
   "metadata": {},
   "outputs": [],
   "source": [
    "#Q.3\n",
    "#Ans.The difference is in the data-type when you use the first one the program expects an integer value as input but in the latter it expects a float value i.e number containing a decimal"
   ]
  },
  {
   "cell_type": "code",
   "execution_count": null,
   "id": "8ebcf8f6",
   "metadata": {},
   "outputs": [],
   "source": [
    "#Q4\n",
    "#ans.By using pyip.inputint(min=0, max=99)"
   ]
  },
  {
   "cell_type": "code",
   "execution_count": null,
   "id": "eacde927",
   "metadata": {},
   "outputs": [],
   "source": [
    "#Q5.\n",
    "#Ans. A list of regex strings that are either explicitly allowed or denied"
   ]
  },
  {
   "cell_type": "code",
   "execution_count": null,
   "id": "790bb188",
   "metadata": {},
   "outputs": [],
   "source": [
    "#Q.6\n",
    "#Ans.The function will raise RetryLimitException"
   ]
  },
  {
   "cell_type": "code",
   "execution_count": null,
   "id": "e933aa63",
   "metadata": {},
   "outputs": [],
   "source": [
    "#Q.7\n",
    "#Ans. The function returns the value 'hello'"
   ]
  }
 ],
 "metadata": {
  "kernelspec": {
   "display_name": "Python 3 (ipykernel)",
   "language": "python",
   "name": "python3"
  },
  "language_info": {
   "codemirror_mode": {
    "name": "ipython",
    "version": 3
   },
   "file_extension": ".py",
   "mimetype": "text/x-python",
   "name": "python",
   "nbconvert_exporter": "python",
   "pygments_lexer": "ipython3",
   "version": "3.9.12"
  }
 },
 "nbformat": 4,
 "nbformat_minor": 5
}
