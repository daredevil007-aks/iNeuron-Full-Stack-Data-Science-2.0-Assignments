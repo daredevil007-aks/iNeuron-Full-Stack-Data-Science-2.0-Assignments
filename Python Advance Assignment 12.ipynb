{
 "cells": [
  {
   "cell_type": "code",
   "execution_count": null,
   "id": "ffcf7308-54c7-482d-b855-e8d11acce454",
   "metadata": {},
   "outputs": [],
   "source": [
    "#ans1\n",
    "String’s indexed character cannot to be assigned a New value , as Strings are immutable.\n",
    "Example:\n",
    "name = \"Reinforcement\"\n",
    "print(id(name)) #73472\n",
    "name[0] = \"V\" # Raises TypeError"
   ]
  },
  {
   "cell_type": "code",
   "execution_count": null,
   "id": "c1bf00e3-97cb-4edf-a171-ba4930a9ca47",
   "metadata": {},
   "outputs": [],
   "source": [
    "#ans2\n",
    "+= operator is used to concatenate strings, it does not violate Python’s string immutability Property. Because doing so new creates a new association with data and variable. E.g. str_1=\"a\" \n",
    "and str_1+=\"b. effect of this statements to create string ab and reassign it to variable str_1, any string data is not actually modified."
   ]
  },
  {
   "cell_type": "code",
   "execution_count": null,
   "id": "7426a5c9-0bd1-44d7-9fb0-cc95be6c9379",
   "metadata": {},
   "outputs": [],
   "source": [
    "#ans3\n",
    "A Character in string can be indexed using string name followed by index number of character in square bracket. Positive Indexing i.e. first index is 0 an so on, or Negative Indexing i.e. \n",
    "last letter is -1 and so on can be used to index a character"
   ]
  },
  {
   "cell_type": "code",
   "execution_count": null,
   "id": "723feb55-6bf5-421e-8b87-d9096741b09d",
   "metadata": {},
   "outputs": [],
   "source": [
    "#ans4\n",
    "We can access elements of sequence datatypes by using slicing and indexing. Indexing is used to obtaining individual element while slicing for sequence of elements."
   ]
  },
  {
   "cell_type": "code",
   "execution_count": null,
   "id": "bdf5f9f6-1174-454b-ba73-1b6dc11ee5f6",
   "metadata": {},
   "outputs": [],
   "source": [
    "#ans5\n",
    "Indexed characters and sliced substrings have datatype String.\n",
    "\n",
    "in_string = \"iNeuron Full Stack Data Science\"\n",
    "print(type(in_string[3])) # Indexing -> str\n",
    "print(type(in_string[1:10])) # Indexing -> str"
   ]
  },
  {
   "cell_type": "code",
   "execution_count": null,
   "id": "ec7b0efe-4ac5-440f-b93d-afcc3dda50ad",
   "metadata": {},
   "outputs": [],
   "source": [
    "#ans6\n",
    "Object that contains sequence of character datatypes are called String."
   ]
  },
  {
   "cell_type": "code",
   "execution_count": null,
   "id": "c7bc04ef-3bcb-415d-b0f1-ae16002d9672",
   "metadata": {},
   "outputs": [],
   "source": [
    "#ans7\n",
    "+, += and * allow to combine one or more smaller strings to create a larger string. <string>.join(<sep>) method joins element of iterable type like list and tuple to get a combined string."
   ]
  },
  {
   "cell_type": "code",
   "execution_count": null,
   "id": "779bb905-397c-4bc3-91e4-91dbc56540d0",
   "metadata": {},
   "outputs": [],
   "source": [
    "#ans8\n",
    "Checking the target string with in or not Operators before using the index method to find a substring just helps confirming availability of substring and thus avoid raising of ValueError.\n",
    "Example:\n",
    "in_string = \"ineuron\"\n",
    "in_string.index('x') # Raises ValueError\n",
    "in_string.index('u') # 3"
   ]
  },
  {
   "cell_type": "code",
   "execution_count": null,
   "id": "c0c5b754-8cb2-456e-b2b6-3706ef03fea8",
   "metadata": {},
   "outputs": [],
   "source": [
    "#ans9\n",
    " The String Operators and built-in methods to Produce Simple Boolean (True/False) Results are:\n",
    "\n",
    "in\n",
    "not\n",
    "<string>.isalpha()\n",
    "<string>.isalnum()\n",
    "<string>.isdecimal()\n",
    "<string>.isdigit()\n",
    "<string>.islower()\n",
    "<string>.isnumeric()\n",
    "<string>.isprintable()\n",
    "<string>.isspace()\n",
    "<string>.istitle()"
   ]
  }
 ],
 "metadata": {
  "kernelspec": {
   "display_name": "Python 3 (ipykernel)",
   "language": "python",
   "name": "python3"
  },
  "language_info": {
   "codemirror_mode": {
    "name": "ipython",
    "version": 3
   },
   "file_extension": ".py",
   "mimetype": "text/x-python",
   "name": "python",
   "nbconvert_exporter": "python",
   "pygments_lexer": "ipython3",
   "version": "3.10.6"
  }
 },
 "nbformat": 4,
 "nbformat_minor": 5
}
