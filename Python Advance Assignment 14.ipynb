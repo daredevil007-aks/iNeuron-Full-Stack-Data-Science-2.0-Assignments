{
 "cells": [
  {
   "cell_type": "code",
   "execution_count": null,
   "id": "ded55249-d001-42d5-b658-7203aada7570",
   "metadata": {},
   "outputs": [],
   "source": [
    "#ans1\n",
    "A=A+1 evaluates to finding A, adding 1 to it. Then storing the value again in variable A. This expression makes Python to look for memory holder of a twice. But A+=1 simply means value \n",
    "of A is to incremented by 1. As memory address has to be identified once, += leads to faster operation.\n"
   ]
  },
  {
   "cell_type": "code",
   "execution_count": null,
   "id": "b73cd744-7c4a-4aaf-b67e-f811953c2008",
   "metadata": {},
   "outputs": [],
   "source": [
    "#ans2\n",
    "Minimum number of lines required to write above code in languages other Python will be 4, two for assigning initial values for variables a and b, and two for reassignment i.e. a=a+b and b=a."
   ]
  },
  {
   "cell_type": "code",
   "execution_count": null,
   "id": "f7b7d056-b505-4980-8947-77938bc63480",
   "metadata": {},
   "outputs": [],
   "source": [
    "#ans3\n",
    "The Most effective way to set a list of 100 integers to 0 in python is by using repition operator(*) or by using list comprehension.\n",
    "\n",
    "# Method 1\n",
    "list_zero=[0]*100\n",
    "print(list_zero)\n",
    "# Method 2\n",
    "zero_list = [0 for x in range(100)]\n",
    "print(zero_list)"
   ]
  },
  {
   "cell_type": "code",
   "execution_count": null,
   "id": "002cf083-3fc9-4938-90ba-b024b247ce60",
   "metadata": {},
   "outputs": [],
   "source": [
    "#ans4\n",
    "my_list = [1,2,3]*33\n",
    "print(my_list)"
   ]
  },
  {
   "cell_type": "code",
   "execution_count": null,
   "id": "5e302d52-cd5b-4b14-9261-7ccc11a5fcac",
   "metadata": {},
   "outputs": [],
   "source": [
    "#ans5\n",
    "my_list = [[1,1],[2,2],[3,3],[4,4],[5,5]] # 2 dimensional List\n",
    "for x in range(len(my_list)):\n",
    "    for y in range(len(my_list[x])):\n",
    "        print(my_list[x][y],end=\" \")"
   ]
  },
  {
   "cell_type": "code",
   "execution_count": null,
   "id": "335e0581-b138-43ab-96e6-c52344afa786",
   "metadata": {},
   "outputs": [],
   "source": [
    "#ans6\n",
    "List comprehension with string is possible.\n",
    "\n",
    "my_list = [ele for ele in 'iNeuron']\n",
    "print(my_list)"
   ]
  },
  {
   "cell_type": "code",
   "execution_count": null,
   "id": "46c50f2f-7b21-42d4-8f01-7e7b78258fc7",
   "metadata": {},
   "outputs": [],
   "source": [
    "#ans7\n",
    "Get support with a user-written Python Programme: Start a command prompt (Windows) or terminal window (Linux/Mac). If the current working directory is the same as the location in which \n",
    "you saved the file, you can simply specify the filename as a command-line argument to the Python interpreter.\n",
    "\n",
    "Get support with a User-written Python Program from IDLE: You can also create script files and run them in IDLE. From the Shell window menu, select File → New File. That should open an additional\n",
    "editing window. Type in the code to be executed. From the menu in that window, select File → Save or File → Save As… and save the file to disk. Then select Run → Run Module. The output should\n",
    "appear back in the interpreter"
   ]
  },
  {
   "cell_type": "code",
   "execution_count": null,
   "id": "aab4b43d-de0c-45be-bb3d-dbabd53e6281",
   "metadata": {},
   "outputs": [],
   "source": [
    "#ans8\n",
    "The tasks which can be performed with the functions in python are:\n",
    "\n",
    "A function is an instance of the Object type.\n",
    "You can store the function in a variable.\n",
    "You can pass the function as a parameter to another function.\n",
    "You can return the function from a function.\n",
    "You can store them in data structures such as hash tables, lists,"
   ]
  },
  {
   "cell_type": "code",
   "execution_count": null,
   "id": "f6ca982e-eff1-46d8-9491-47243d65e74a",
   "metadata": {},
   "outputs": [],
   "source": [
    "#ans9\n",
    "Wrappers Around the functions are known as Decrators."
   ]
  },
  {
   "cell_type": "code",
   "execution_count": null,
   "id": "dfc7c317-e0e9-4401-bbd5-9a697aafdd9a",
   "metadata": {},
   "outputs": [],
   "source": [
    "#ans10\n",
    "Generator functions are a special kind of function that return a lazy iterator. These are objects that you can loop over like a list. However, unlike lists, lazy iterators do not store their \n",
    "contents in memory."
   ]
  },
  {
   "cell_type": "code",
   "execution_count": null,
   "id": "f92ee49f-967c-47eb-ae66-16d660250fa5",
   "metadata": {},
   "outputs": [],
   "source": [
    "#ans11\n",
    "Generator is a written as normal function but uses yield keyword to return values instead of return keyword."
   ]
  },
  {
   "cell_type": "code",
   "execution_count": null,
   "id": "85a8d0cb-2d98-4225-a826-5f3d7878d44c",
   "metadata": {},
   "outputs": [],
   "source": [
    "#ans12\n",
    "return statement sends a specified value back to its caller whereas yield statment can produce a sequence of values. We should use generator when we want to iterate over a sequence, \n",
    "but don’t want to store the entire sequence in memory."
   ]
  }
 ],
 "metadata": {
  "kernelspec": {
   "display_name": "Python 3 (ipykernel)",
   "language": "python",
   "name": "python3"
  },
  "language_info": {
   "codemirror_mode": {
    "name": "ipython",
    "version": 3
   },
   "file_extension": ".py",
   "mimetype": "text/x-python",
   "name": "python",
   "nbconvert_exporter": "python",
   "pygments_lexer": "ipython3",
   "version": "3.10.6"
  }
 },
 "nbformat": 4,
 "nbformat_minor": 5
}
