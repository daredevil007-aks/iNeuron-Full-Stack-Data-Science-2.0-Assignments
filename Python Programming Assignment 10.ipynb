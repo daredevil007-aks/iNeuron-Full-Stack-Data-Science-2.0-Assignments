{
 "cells": [
  {
   "cell_type": "code",
   "execution_count": 8,
   "id": "ae669a2b-3156-4bab-9fe0-2821bf98df74",
   "metadata": {},
   "outputs": [
    {
     "name": "stdout",
     "output_type": "stream",
     "text": [
      "144\n"
     ]
    }
   ],
   "source": [
    "#ans 1\n",
    "l = [1,2,3,4,56,78]\n",
    "u =0 \n",
    "for i in l:\n",
    "    u = i+u\n",
    "print(u)"
   ]
  },
  {
   "cell_type": "code",
   "execution_count": 5,
   "id": "d8c8d9f0-c19a-4e09-a6be-93893ac28351",
   "metadata": {},
   "outputs": [
    {
     "name": "stdout",
     "output_type": "stream",
     "text": [
      "104832\n"
     ]
    }
   ],
   "source": [
    "#ans 2\n",
    "l = [1,2,3,4,56,78]\n",
    "u = 1\n",
    "for i in l:\n",
    "    u = i*u\n",
    "print(u)"
   ]
  },
  {
   "cell_type": "code",
   "execution_count": 15,
   "id": "bb0001cc-c878-41e6-b8af-4601de91ff00",
   "metadata": {},
   "outputs": [
    {
     "name": "stdout",
     "output_type": "stream",
     "text": [
      "1\n"
     ]
    }
   ],
   "source": [
    "#ans 3\n",
    "l = [1,2,3,4,56,78]\n",
    "u = l[0]\n",
    "for i in range(0,len(l)):\n",
    "    if l[i] < u:\n",
    "        l[i] = u\n",
    "print(u)\n",
    "    \n",
    "\n",
    "        \n"
   ]
  },
  {
   "cell_type": "code",
   "execution_count": 20,
   "id": "405961f8-9c5c-4395-905d-b216c875f865",
   "metadata": {},
   "outputs": [
    {
     "name": "stdout",
     "output_type": "stream",
     "text": [
      "78\n"
     ]
    }
   ],
   "source": [
    "#ans4\n",
    "l = [1,2,3,4,56,78]\n",
    "max1=l[0]\n",
    "for i in range(1,len(l)):\n",
    "    if(l[i]>max1):\n",
    "        max1=l[i]\n",
    "print(max1)"
   ]
  },
  {
   "cell_type": "code",
   "execution_count": 2,
   "id": "143766ef-3450-4277-aef5-0acd648e0457",
   "metadata": {},
   "outputs": [
    {
     "name": "stdout",
     "output_type": "stream",
     "text": [
      "73\n"
     ]
    }
   ],
   "source": [
    "#ans 5\n",
    "l = [1,2,73,4,56,78]\n",
    "l.sort()\n",
    "print(l[-2])"
   ]
  },
  {
   "cell_type": "code",
   "execution_count": 3,
   "id": "44cc6026-d821-44d0-8c14-9c8d20525aac",
   "metadata": {},
   "outputs": [
    {
     "name": "stdout",
     "output_type": "stream",
     "text": [
      "[4, 56, 73, 78]\n"
     ]
    }
   ],
   "source": [
    "#ans 6\n",
    "l = [1,2,73,4,56,78]\n",
    "l.sort()\n",
    "n = 4\n",
    "print(l[-n:])"
   ]
  },
  {
   "cell_type": "code",
   "execution_count": 5,
   "id": "e2703115-210d-46c3-a575-cda6081cd750",
   "metadata": {},
   "outputs": [
    {
     "name": "stdout",
     "output_type": "stream",
     "text": [
      "[2, 4, 56, 78]\n"
     ]
    }
   ],
   "source": [
    "#ans 7\n",
    "l = [1,2,73,4,56,78]\n",
    "p = list()\n",
    "for i in l:\n",
    "    if i %2 == 0:\n",
    "        p.append(i)\n",
    "print(p)"
   ]
  },
  {
   "cell_type": "code",
   "execution_count": 7,
   "id": "a5765623-f10e-4b01-afe8-b86f676d2b50",
   "metadata": {},
   "outputs": [
    {
     "name": "stdout",
     "output_type": "stream",
     "text": [
      "[1, 73]\n"
     ]
    }
   ],
   "source": [
    "#ans 8\n",
    "l = [1,2,73,4,56,78]\n",
    "p = list()\n",
    "for i in l:\n",
    "    if i %2 !=0:\n",
    "        p.append(i)\n",
    "print(p)"
   ]
  },
  {
   "cell_type": "code",
   "execution_count": 8,
   "id": "d39c0670-c397-461c-9a56-5c9d627e2cc4",
   "metadata": {},
   "outputs": [
    {
     "name": "stdout",
     "output_type": "stream",
     "text": [
      "[1, 2, 73, 4, 56, 78]\n"
     ]
    }
   ],
   "source": [
    "#ans 9\n",
    "l = [1,2,73,[],4,56,78,[]]\n",
    "for i in l:\n",
    "    if i == []:\n",
    "        l.remove(i)\n",
    "print(l)"
   ]
  },
  {
   "cell_type": "code",
   "execution_count": 10,
   "id": "dfc84797-2339-4801-8e43-9ae7bf675de6",
   "metadata": {},
   "outputs": [
    {
     "name": "stdout",
     "output_type": "stream",
     "text": [
      "[4, 8, 2, 10, 15, 18]\n"
     ]
    }
   ],
   "source": [
    "#ans 10\n",
    "li1 = [4, 8, 2, 10, 15, 18]\n",
    "li2 = li1[:]\n",
    "print(li2)"
   ]
  },
  {
   "cell_type": "code",
   "execution_count": 11,
   "id": "b981f9ec-3c7a-4ace-8061-f11fe7a11b86",
   "metadata": {},
   "outputs": [
    {
     "name": "stdout",
     "output_type": "stream",
     "text": [
      "3\n"
     ]
    }
   ],
   "source": [
    "#ans 11\n",
    "l = [1,2,73,4,56,78,2,2]\n",
    "ele = 2\n",
    "count = 0\n",
    "for i in l:\n",
    "    if i == 2:\n",
    "        count += 1\n",
    "print(count)"
   ]
  }
 ],
 "metadata": {
  "kernelspec": {
   "display_name": "Python 3 (ipykernel)",
   "language": "python",
   "name": "python3"
  },
  "language_info": {
   "codemirror_mode": {
    "name": "ipython",
    "version": 3
   },
   "file_extension": ".py",
   "mimetype": "text/x-python",
   "name": "python",
   "nbconvert_exporter": "python",
   "pygments_lexer": "ipython3",
   "version": "3.10.6"
  }
 },
 "nbformat": 4,
 "nbformat_minor": 5
}
