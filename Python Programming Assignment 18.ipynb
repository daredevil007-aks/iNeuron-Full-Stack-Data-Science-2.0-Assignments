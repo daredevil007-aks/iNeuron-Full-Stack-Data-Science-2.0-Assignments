{
 "cells": [
  {
   "cell_type": "code",
   "execution_count": 23,
   "id": "a2cae23e-ebe3-4828-aaea-ded39cc0c406",
   "metadata": {},
   "outputs": [
    {
     "name": "stdout",
     "output_type": "stream",
     "text": [
      "[1, 2, 'aks', 'asl']\n",
      "[1, 2]\n"
     ]
    }
   ],
   "source": [
    "#ans1\n",
    "def filter_list(l_1):\n",
    "    print(l_1)\n",
    "    integers = list()\n",
    "    for i in l_1:\n",
    "        if type(i) == int:\n",
    "            integers.append(i)\n",
    "    print(integers)\n",
    "    \n",
    "filter_list([1,2,\"aks\",\"asl\" ])"
   ]
  },
  {
   "cell_type": "code",
   "execution_count": 14,
   "id": "d19288fe-1a87-47ba-8d4b-d99e4fb7043c",
   "metadata": {},
   "outputs": [
    {
     "name": "stdin",
     "output_type": "stream",
     "text": [
      " Hello World\n"
     ]
    },
    {
     "data": {
      "text/plain": [
       "'reverse(\"Hello World\") ~ \"DLROw OLLEh\"'"
      ]
     },
     "execution_count": 14,
     "metadata": {},
     "output_type": "execute_result"
    }
   ],
   "source": [
    "#ans2\n",
    "def Reverser(input_str):\n",
    "    x = input_str.swapcase()\n",
    "    return f'reverse(\"{input_str}\") ~ \"{x[::-1]}\"'\n",
    "\n",
    "Reverser(str(input()))"
   ]
  },
  {
   "cell_type": "code",
   "execution_count": 15,
   "id": "b14eefdd-2b0e-4292-840a-be3320dfe2f5",
   "metadata": {},
   "outputs": [
    {
     "name": "stdout",
     "output_type": "stream",
     "text": [
      "first ➞ 1\n",
      "middle ➞ [2, 3, 4, 5]\n",
      "last ➞ 6\n"
     ]
    }
   ],
   "source": [
    "#ans 3\n",
    "first, *middle, last = [1,2,3,4,5,6]\n",
    "print(f'first ➞ {first}')\n",
    "print(f'middle ➞ {middle}')\n",
    "print(f'last ➞ {last}')"
   ]
  },
  {
   "cell_type": "code",
   "execution_count": 17,
   "id": "9aeb04ef-bd8b-49bc-9bd2-d66ba80ef46b",
   "metadata": {},
   "outputs": [
    {
     "name": "stdin",
     "output_type": "stream",
     "text": [
      " 5\n"
     ]
    },
    {
     "data": {
      "text/plain": [
       "120"
      ]
     },
     "execution_count": 17,
     "metadata": {},
     "output_type": "execute_result"
    }
   ],
   "source": [
    "#ans4 \n",
    "def factorial(n):\n",
    "    if n == 1:\n",
    "        return 1\n",
    "    else:\n",
    "        return n*factorial(n-1)\n",
    "factorial(int(input()))"
   ]
  },
  {
   "cell_type": "code",
   "execution_count": 33,
   "id": "20316f0f-452d-473f-8ef3-daf28447507c",
   "metadata": {},
   "outputs": [
    {
     "data": {
      "text/plain": [
       "'Move_to_end([1, 3, 2, 4, 4, 1],1) ~ [3, 2, 4, 4, 1, 1]'"
      ]
     },
     "execution_count": 33,
     "metadata": {},
     "output_type": "execute_result"
    }
   ],
   "source": [
    "#ans 5\n",
    "def Move(l,num):\n",
    "    first_end = []\n",
    "    second_end = []\n",
    "    for i in l:\n",
    "        if i == num:\n",
    "            second_end.append(i)\n",
    "        else:\n",
    "            first_end.append(i)\n",
    "    first_end.extend(second_end)\n",
    "    return f'Move_to_end({l},{num}) ~ {first_end}'\n",
    "   \n",
    "\n",
    "Move([1,3,2,4,4,1],1)"
   ]
  }
 ],
 "metadata": {
  "kernelspec": {
   "display_name": "Python 3 (ipykernel)",
   "language": "python",
   "name": "python3"
  },
  "language_info": {
   "codemirror_mode": {
    "name": "ipython",
    "version": 3
   },
   "file_extension": ".py",
   "mimetype": "text/x-python",
   "name": "python",
   "nbconvert_exporter": "python",
   "pygments_lexer": "ipython3",
   "version": "3.10.6"
  }
 },
 "nbformat": 4,
 "nbformat_minor": 5
}
