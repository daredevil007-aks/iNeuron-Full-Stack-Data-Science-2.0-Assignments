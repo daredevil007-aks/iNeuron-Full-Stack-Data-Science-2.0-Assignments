{
 "cells": [
  {
   "cell_type": "code",
   "execution_count": null,
   "id": "0cbe8a7b-1b00-45a8-81c5-bf0da47214ea",
   "metadata": {},
   "outputs": [],
   "source": [
    "#ans1\n",
    "The Main difference between Greedy and Non Greedy Match Syntax is The Greedy Match will try to match as many repetitions of the quantified pattern \n",
    "as possible Whereas The Non Greedy Match will try to match as few repetitions of the quantified pattern as possible"
   ]
  },
  {
   "cell_type": "code",
   "execution_count": null,
   "id": "8fc710b0-ca66-4e0f-b3c5-d8ac60f33d0b",
   "metadata": {},
   "outputs": [],
   "source": [
    "#ans2\n",
    "The Greedy Match will try to match as many repetitions of the quantified pattern as possible. The Non Greedy Match will try to match as few repetitions \n",
    "of the quantified pattern as possible. If only Non Greedy Match is available, we can use other filtering or pattern matching methods of regex and further \n",
    "identify the required pattern."
   ]
  },
  {
   "cell_type": "code",
   "execution_count": null,
   "id": "18598996-6042-4a8b-b1bb-d705ae708f9d",
   "metadata": {},
   "outputs": [],
   "source": [
    "#ans3\n",
    "In this Case The Non Tagged Group will not make any diffrence in this case.\n",
    "\n",
    "import re\n",
    "phoneNumRegex = re.compile(r'\\d\\d\\d')\n",
    "num = phoneNumRegex.search('My number is 234-567-8901.')\n",
    "print(f'Phone number found -> {num.group()}') # Non Tagged group\n",
    "print(f'Phone number found -> {num.group(0)}') # Tagged Group"
   ]
  },
  {
   "cell_type": "code",
   "execution_count": null,
   "id": "1521fb84-b5a3-4f0e-a47d-f9c64e21e8da",
   "metadata": {},
   "outputs": [],
   "source": [
    "#ans4\n",
    "Here in the below Code Snippet . decimal is not tagged or captured. It will useful in scenarios where the separator of value in a string is of no use \n",
    "and we need to capture only the values.\n",
    "\n",
    "import re\n",
    "text='135.456'\n",
    "pattern=r'(\\d+)(?:.)(\\d+)'\n",
    "regobj=re.compile(pattern)\n",
    "matobj=regobj.search(text)\n",
    "matobj.groups()"
   ]
  },
  {
   "cell_type": "code",
   "execution_count": null,
   "id": "ec37a788-48d8-484a-a13e-3e106547e137",
   "metadata": {},
   "outputs": [],
   "source": [
    "#ans5\n",
    "While counting the number of multiple lines or mutiple sentence in a string the positive look ahead makes a difference, without which we wont get the \n",
    "correct count of lines or sentences in a string."
   ]
  },
  {
   "cell_type": "code",
   "execution_count": null,
   "id": "0cd87656-4f07-4b4d-a0a7-39e1cc6474e8",
   "metadata": {},
   "outputs": [],
   "source": [
    "#ans6\n",
    "Positive Lookahead allows to add a condition for what follows. Negative Lookahead is similar, but it looks behind. That is, it allows to match a pattern only\n",
    "if there’s something before it."
   ]
  },
  {
   "cell_type": "code",
   "execution_count": null,
   "id": "467f4d48-43f7-41ca-ad79-77dc4b1cf0a2",
   "metadata": {},
   "outputs": [],
   "source": [
    "#ans7\n",
    "Referring to groups by name rather than by number in a standard expression helps to keep the code clear and easy to understand."
   ]
  },
  {
   "cell_type": "code",
   "execution_count": null,
   "id": "f72ac2ce-977c-47cf-b407-a37b358886ac",
   "metadata": {},
   "outputs": [],
   "source": [
    "#ans8\n",
    "import re\n",
    "text = \"The cow jumped over the moon\"\n",
    "regobj=re.compile(r'(?P<w1>The)',re.I)\n",
    "regobj.findall(text)"
   ]
  },
  {
   "cell_type": "code",
   "execution_count": null,
   "id": "e14eb162-b78f-4018-a275-3be62e2b5c9d",
   "metadata": {},
   "outputs": [],
   "source": [
    "#ans9\n",
    "re.findall() module is used to search for all occurrences that match a given pattern. In contrast, re.search() will only return the first occurrence that matches \n",
    "the specified pattern. re.findall() will iterate over all the lines of the file and will return all non-overlapping matches of pattern in a single step."
   ]
  },
  {
   "cell_type": "code",
   "execution_count": null,
   "id": "9c0800f8-8999-425e-a16d-3c00e8aa8f1b",
   "metadata": {},
   "outputs": [],
   "source": [
    "#ans10\n",
    "Yes, It may have any name."
   ]
  }
 ],
 "metadata": {
  "kernelspec": {
   "display_name": "Python 3 (ipykernel)",
   "language": "python",
   "name": "python3"
  },
  "language_info": {
   "codemirror_mode": {
    "name": "ipython",
    "version": 3
   },
   "file_extension": ".py",
   "mimetype": "text/x-python",
   "name": "python",
   "nbconvert_exporter": "python",
   "pygments_lexer": "ipython3",
   "version": "3.10.6"
  }
 },
 "nbformat": 4,
 "nbformat_minor": 5
}
