{
 "cells": [
  {
   "cell_type": "code",
   "execution_count": null,
   "id": "afb3dcd4",
   "metadata": {},
   "outputs": [],
   "source": [
    "#ans1, Read-binary ('rb') for PdfFileReader() and write-binary ('wb') for PdfFileWriter()"
   ]
  },
  {
   "cell_type": "code",
   "execution_count": null,
   "id": "c12434e2",
   "metadata": {},
   "outputs": [],
   "source": [
    "#ans2 Calling getPage(4) will return a Page object for About this Book, since page 0 is the first page."
   ]
  },
  {
   "cell_type": "code",
   "execution_count": null,
   "id": "fbceac7b",
   "metadata": {},
   "outputs": [],
   "source": [
    "#ans3 The numPages variable stores an integer of the number of pages in the PdfFileReader object."
   ]
  },
  {
   "cell_type": "code",
   "execution_count": null,
   "id": "9bccac00",
   "metadata": {},
   "outputs": [],
   "source": [
    "#ans4 Call decrypt('swordfish')"
   ]
  },
  {
   "cell_type": "code",
   "execution_count": null,
   "id": "6ea7220c",
   "metadata": {},
   "outputs": [],
   "source": [
    "#ans5 docx.Document('demo.docx')"
   ]
  },
  {
   "cell_type": "code",
   "execution_count": null,
   "id": "e588c2b9",
   "metadata": {},
   "outputs": [],
   "source": [
    "#ans 6 A document contains multiple paragraphs. A paragraph begins on a new line and contains multiple runs. Runs are contiguous groups of characters within the a paragraph"
   ]
  },
  {
   "cell_type": "code",
   "execution_count": null,
   "id": "dbbc65ac",
   "metadata": {},
   "outputs": [],
   "source": [
    "#ans7. doc.add_paragraph('Hello there!')"
   ]
  },
  {
   "cell_type": "code",
   "execution_count": null,
   "id": "3633230d",
   "metadata": {},
   "outputs": [],
   "source": [
    "#nas8 They return the highest column and row with values in the sheet, respectively, as integer values."
   ]
  },
  {
   "cell_type": "code",
   "execution_count": null,
   "id": "f33bb0bd",
   "metadata": {},
   "outputs": [],
   "source": [
    "#ans 9 True means the property is “on”, False means it is “off”. Conceptually, the None value means “inherit”."
   ]
  },
  {
   "cell_type": "code",
   "execution_count": null,
   "id": "2763a773",
   "metadata": {},
   "outputs": [],
   "source": [
    "#ans 10 Call the docx.Document() function."
   ]
  },
  {
   "cell_type": "code",
   "execution_count": null,
   "id": "48f2e679",
   "metadata": {},
   "outputs": [],
   "source": [
    "#ans 11 doc.add_paragraph('Hello there!')"
   ]
  },
  {
   "cell_type": "code",
   "execution_count": null,
   "id": "9506fc0d",
   "metadata": {},
   "outputs": [],
   "source": [
    "#ans 12 Integers 1 to 4 are for various heading levels, with 1 being the main heading and 4 the lowest subheading."
   ]
  }
 ],
 "metadata": {
  "kernelspec": {
   "display_name": "Python 3 (ipykernel)",
   "language": "python",
   "name": "python3"
  },
  "language_info": {
   "codemirror_mode": {
    "name": "ipython",
    "version": 3
   },
   "file_extension": ".py",
   "mimetype": "text/x-python",
   "name": "python",
   "nbconvert_exporter": "python",
   "pygments_lexer": "ipython3",
   "version": "3.9.12"
  }
 },
 "nbformat": 4,
 "nbformat_minor": 5
}
