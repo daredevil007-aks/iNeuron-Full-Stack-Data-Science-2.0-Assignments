{
 "cells": [
  {
   "cell_type": "code",
   "execution_count": null,
   "id": "9d8dd4ac-645e-4605-be63-58f4cad7657a",
   "metadata": {},
   "outputs": [],
   "source": [
    "#ans1\n",
    "Both the float and decimal types store numerical values in Python.\n",
    "Use floats when convenience and speed matter. A float gives you an approximation of the number you declare.\n",
    "Use decimals when precision matters. Decimals can suffer from their own precision issues, but generally, decimals \n",
    "are more precise than floats. The performance difference between float and decimal, with Python 3, is not outlandish, \n",
    "and in my experience, the precision benefits of a decimal outweigh the performance benefits of a float."
   ]
  },
  {
   "cell_type": "code",
   "execution_count": null,
   "id": "ad28340d-86cf-45d5-9a1a-96f07ce6b423",
   "metadata": {},
   "outputs": [],
   "source": [
    "#ans2\n",
    "Both values are same but internal representation at storage Is different. Precsion differs, Decimal('1.200') gives internally\n",
    "1.200 and Decimal('1.2') gives 1.2."
   ]
  },
  {
   "cell_type": "code",
   "execution_count": null,
   "id": "76bc81b9-6ba0-42c1-8214-5ce47e9dbb74",
   "metadata": {},
   "outputs": [],
   "source": [
    "#ans3\n",
    "Both values are checked to be equal , they only differ in precision."
   ]
  },
  {
   "cell_type": "code",
   "execution_count": null,
   "id": "05d34347-2844-4220-9457-259b22537082",
   "metadata": {},
   "outputs": [],
   "source": [
    "#ans4\n",
    "Floating-point value is converted to Decimal format. Decimal can store float value with absolute precision. But when \n",
    "float value is given as Decimal object,it first has to be converted from floating point value which might already have \n",
    "rounding error."
   ]
  },
  {
   "cell_type": "code",
   "execution_count": null,
   "id": "2a9597ed-d6c8-4dac-92ae-b4a775a6346d",
   "metadata": {},
   "outputs": [],
   "source": [
    "#ans5\n",
    "We can do it with use of Decimal()."
   ]
  },
  {
   "cell_type": "code",
   "execution_count": null,
   "id": "cca84c52-75dc-418e-bd8e-ce1cd07ac0d6",
   "metadata": {},
   "outputs": [],
   "source": [
    "#ans6\n",
    "Arithmetic operfations like Adding,subtracting or multiplying a Decimal object by a floating-point value is generates an error.\n",
    "\n",
    "To do these operations, the floating point has to be converted to a Decimal."
   ]
  },
  {
   "cell_type": "code",
   "execution_count": null,
   "id": "e434e23f-2240-4f24-83f1-a134aa1e48e1",
   "metadata": {},
   "outputs": [],
   "source": [
    "#ans7\n",
    "Value of 0.5 will be represented as ½."
   ]
  },
  {
   "cell_type": "code",
   "execution_count": null,
   "id": "e9dc6948-a64d-4d95-8578-9b55cf815e8e",
   "metadata": {},
   "outputs": [],
   "source": [
    "#ans8\n",
    "Both will be reduced to 1/2"
   ]
  },
  {
   "cell_type": "code",
   "execution_count": null,
   "id": "3d8d2f7e-d1b6-4c17-90a9-88da7c361d81",
   "metadata": {},
   "outputs": [],
   "source": [
    "#ans9\n",
    "Fraction class and integer type(int) are related in form of a container.It contains two ints, one the numerator and the other the denominator"
   ]
  }
 ],
 "metadata": {
  "kernelspec": {
   "display_name": "Python 3 (ipykernel)",
   "language": "python",
   "name": "python3"
  },
  "language_info": {
   "codemirror_mode": {
    "name": "ipython",
    "version": 3
   },
   "file_extension": ".py",
   "mimetype": "text/x-python",
   "name": "python",
   "nbconvert_exporter": "python",
   "pygments_lexer": "ipython3",
   "version": "3.10.6"
  }
 },
 "nbformat": 4,
 "nbformat_minor": 5
}
