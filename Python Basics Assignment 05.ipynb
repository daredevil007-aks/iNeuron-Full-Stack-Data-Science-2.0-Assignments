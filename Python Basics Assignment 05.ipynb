{
 "cells": [
  {
   "cell_type": "code",
   "execution_count": null,
   "id": "2892f837",
   "metadata": {},
   "outputs": [],
   "source": [
    "Ans1.\n",
    "Two curly brackets: {}"
   ]
  },
  {
   "cell_type": "code",
   "execution_count": null,
   "id": "0d06a486",
   "metadata": {},
   "outputs": [],
   "source": [
    "Ans2.\n",
    "{'foo': 42}"
   ]
  },
  {
   "cell_type": "code",
   "execution_count": null,
   "id": "d4fa8ec7",
   "metadata": {},
   "outputs": [],
   "source": [
    "Ans3.\n",
    "The items stored in a dictionary are unordered, while the items in a list are ordered."
   ]
  },
  {
   "cell_type": "code",
   "execution_count": null,
   "id": "a485c3ca",
   "metadata": {},
   "outputs": [],
   "source": [
    "Ans4.\n",
    "You get a KeyError error."
   ]
  },
  {
   "cell_type": "code",
   "execution_count": null,
   "id": "9e741f3b",
   "metadata": {},
   "outputs": [],
   "source": [
    "Ans5.\n",
    "There is no difference. The in operator checks whether a value exists as a key in the dictionary."
   ]
  },
  {
   "cell_type": "code",
   "execution_count": null,
   "id": "762d9bef",
   "metadata": {},
   "outputs": [],
   "source": [
    "Ans6.\n",
    "'cat' in spam checks whether there is a 'cat' key in the dictionary, while 'cat' in spam.values() checks whether there is a value 'cat' for one of the keys in spam."
   ]
  },
  {
   "cell_type": "code",
   "execution_count": null,
   "id": "a16c022c",
   "metadata": {},
   "outputs": [],
   "source": [
    "Ans7.\n",
    "spam.setdefault('color', 'black')"
   ]
  },
  {
   "cell_type": "code",
   "execution_count": null,
   "id": "845a20f9",
   "metadata": {},
   "outputs": [],
   "source": [
    "Ans8.\n",
    "pprint.pprint()"
   ]
  }
 ],
 "metadata": {
  "kernelspec": {
   "display_name": "Python 3 (ipykernel)",
   "language": "python",
   "name": "python3"
  },
  "language_info": {
   "codemirror_mode": {
    "name": "ipython",
    "version": 3
   },
   "file_extension": ".py",
   "mimetype": "text/x-python",
   "name": "python",
   "nbconvert_exporter": "python",
   "pygments_lexer": "ipython3",
   "version": "3.9.12"
  }
 },
 "nbformat": 4,
 "nbformat_minor": 5
}
