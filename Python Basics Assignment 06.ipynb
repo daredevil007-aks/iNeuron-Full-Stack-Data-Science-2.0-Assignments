{
 "cells": [
  {
   "cell_type": "markdown",
   "id": "34ee0ea6",
   "metadata": {},
   "source": [
    "Ans1.\n",
    "Escape characters represent characters in string values that would otherwise be difficult or impossible to type into code"
   ]
  },
  {
   "cell_type": "code",
   "execution_count": null,
   "id": "50b7f22d",
   "metadata": {},
   "outputs": [],
   "source": [
    "Ans2.\n",
    "\\n is a newline; \\t is a tab"
   ]
  },
  {
   "cell_type": "code",
   "execution_count": null,
   "id": "39fce2dd",
   "metadata": {},
   "outputs": [],
   "source": [
    "Ans3.\n",
    "The \\\\ escape character will represent a backslash character."
   ]
  },
  {
   "cell_type": "code",
   "execution_count": null,
   "id": "a7c4430c",
   "metadata": {},
   "outputs": [],
   "source": [
    "Ans4.\n",
    "The single quote in Howl's is fine because you've used double quotes to mark the beginning and end of the string."
   ]
  },
  {
   "cell_type": "code",
   "execution_count": null,
   "id": "aebe56fa",
   "metadata": {},
   "outputs": [],
   "source": [
    "Ans5.\n",
    "Multiline strings allow you to use newlines in strings without the \\n escape character."
   ]
  },
  {
   "cell_type": "code",
   "execution_count": null,
   "id": "f165b4dc",
   "metadata": {},
   "outputs": [],
   "source": [
    "Ans6.\n",
    "'e'\n",
    "\n",
    "'Hello'\n",
    "\n",
    "'Hello'\n",
    "\n",
    "'lo world!"
   ]
  },
  {
   "cell_type": "code",
   "execution_count": null,
   "id": "0c9d8dda",
   "metadata": {},
   "outputs": [],
   "source": [
    "Ans7.\n",
    "'HELLO'\n",
    "\n",
    "True\n",
    "\n",
    "'hello'"
   ]
  },
  {
   "cell_type": "code",
   "execution_count": null,
   "id": "a9172d29",
   "metadata": {},
   "outputs": [],
   "source": [
    "Ans8.\n",
    "['Remember,', 'remember,', 'the', 'fifth', 'of', 'November.']\n",
    "\n",
    "'There-can-be-only-one."
   ]
  },
  {
   "cell_type": "code",
   "execution_count": null,
   "id": "d9cc8c44",
   "metadata": {},
   "outputs": [],
   "source": [
    "Ans9.\n",
    "The rjust(), ljust(), and center() string methods, respectively"
   ]
  },
  {
   "cell_type": "code",
   "execution_count": null,
   "id": "0c4aac3f",
   "metadata": {},
   "outputs": [],
   "source": [
    "Ans10.\n",
    "The lstrip() and rstrip() methods remove whitespace from the left and right ends of a string, respectively."
   ]
  }
 ],
 "metadata": {
  "kernelspec": {
   "display_name": "Python 3 (ipykernel)",
   "language": "python",
   "name": "python3"
  },
  "language_info": {
   "codemirror_mode": {
    "name": "ipython",
    "version": 3
   },
   "file_extension": ".py",
   "mimetype": "text/x-python",
   "name": "python",
   "nbconvert_exporter": "python",
   "pygments_lexer": "ipython3",
   "version": "3.9.12"
  }
 },
 "nbformat": 4,
 "nbformat_minor": 5
}
