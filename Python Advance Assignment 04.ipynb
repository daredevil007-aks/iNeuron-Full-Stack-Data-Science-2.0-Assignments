{
 "cells": [
  {
   "cell_type": "code",
   "execution_count": null,
   "id": "6697fbf4-5189-4627-be98-97ff63d6acb3",
   "metadata": {},
   "outputs": [],
   "source": [
    "#ans1\n",
    "__iter__ and __next__ are the operator overloading methods in python that support iteration\n",
    "and are collectively called iterator protocol.\n",
    "\n",
    "__iter__ returns the iterator object and is called at the start of loop in our respective class.\n",
    "__next__ is called at each loop increment, it returns the incremented value. Also Stopiteration is raised \n",
    "when there is no value to return."
   ]
  },
  {
   "cell_type": "code",
   "execution_count": null,
   "id": "d903c163-960e-4f63-a96a-3a0c8825a8fa",
   "metadata": {},
   "outputs": [],
   "source": [
    "#ans2\n",
    "__str__ and __repr__ are two operator overloading methods that manage printing.\n",
    "\n",
    "In Short, the difference between both these operators is the goal of __repr__ is to be \n",
    "unambiguous and __str__ is to be readable.\n",
    "Whenever we are printing any object reference internally __str__ method will be called by default.\n",
    "The main purpose of __str__ is for readability. it prints the informal string representation of an object, one that is useful for printing the object.\n",
    "it may not be possible to convert result string to original object.\n",
    "__repr__ is used to print official string representation of an object, so it includes all information and development."
   ]
  },
  {
   "cell_type": "code",
   "execution_count": null,
   "id": "7e21d727-5525-4b64-a1a4-461ac383b204",
   "metadata": {},
   "outputs": [],
   "source": [
    "#ans3\n",
    "In a class use of slice() in __getitem__ method is used for intercept slice operation.\n",
    "This slice method is provided with start integer number, stop integer number and step \n",
    "integer number."
   ]
  },
  {
   "cell_type": "code",
   "execution_count": null,
   "id": "8b8f49dc-8f11-433b-a7f8-5f108c70d5b5",
   "metadata": {},
   "outputs": [],
   "source": [
    "#ans4\n",
    "a+b is normal addition. Whereas a+=b is inplace addition operation. In this in-place addition a itself will store the value of addition. In a class __iadd__ method is used for this in-place operation\n",
    "\n",
    "class Book:\n",
    "    def __init__(self,pages):\n",
    "        self.pages = pages\n",
    "    def __iadd__(self,other):\n",
    "        self.pages += other.pages\n",
    "        return self.pages\n",
    "        \n",
    "b1 = Book(100)\n",
    "b2 = Book(200)\n",
    "b1+=b2\n",
    "print(b1)"
   ]
  },
  {
   "cell_type": "code",
   "execution_count": null,
   "id": "1c2b35b8-3c2e-49b6-90ce-ebede03968ce",
   "metadata": {},
   "outputs": [],
   "source": [
    "#ans5\n",
    "Operator overloading is used when we want to use an operator other than its normal \n",
    "operation to have different meaning according to the context required in user defined\n",
    "function."
   ]
  }
 ],
 "metadata": {
  "kernelspec": {
   "display_name": "Python 3 (ipykernel)",
   "language": "python",
   "name": "python3"
  },
  "language_info": {
   "codemirror_mode": {
    "name": "ipython",
    "version": 3
   },
   "file_extension": ".py",
   "mimetype": "text/x-python",
   "name": "python",
   "nbconvert_exporter": "python",
   "pygments_lexer": "ipython3",
   "version": "3.10.6"
  }
 },
 "nbformat": 4,
 "nbformat_minor": 5
}
