{
 "cells": [
  {
   "cell_type": "code",
   "execution_count": null,
   "id": "3a2d9935-65cd-467d-b0cf-5b755162c4a3",
   "metadata": {},
   "outputs": [],
   "source": [
    "#ans1\n",
    "The differences between Text Files and Binary Files are:\n",
    "\n",
    "Text files are special subset of binary files that are used to store human readable characters as a rich text document or plain text document.\n",
    "Text files also store data in sequential bytes but bits in text file represents characters.\n",
    "\n",
    "Binary files are those typical files that store data in the form of sequence of bytes grouped into eight bits or sometimes sixteen bits. \n",
    "These bits represent custom data and such files can store multiple types of data (images, audio, text, etc) under a single file.\n"
   ]
  },
  {
   "cell_type": "code",
   "execution_count": null,
   "id": "1a58270d-f081-4ebe-8633-a4778bcc1844",
   "metadata": {},
   "outputs": [],
   "source": [
    "#ans2\n",
    "Text files are less prone to get corrupted as any undesired change may just show up once the file is opened and then can easily be removed. \n",
    "Whereas Use binary files instead of text files for image data."
   ]
  },
  {
   "cell_type": "code",
   "execution_count": null,
   "id": "03e81934-5e5a-4d89-999f-475eaa434a62",
   "metadata": {},
   "outputs": [],
   "source": [
    "#ans3\n",
    "When we read or write a python integer using binary operations\n",
    "\n",
    "Binary operations deal with raw data\n",
    "One needs to identify how many bytes one would read or write."
   ]
  },
  {
   "cell_type": "code",
   "execution_count": null,
   "id": "155c24e4-813f-44ca-8737-7f0ec58cf062",
   "metadata": {},
   "outputs": [],
   "source": [
    "#ans4\n",
    " When a file is opened using the with keyword, if some exceptions occur after opening a file, or at the end of the file it automatically does the closing of the file. \n",
    "There by not leaving an file in open mode and there would no need to explicitly close a file."
   ]
  },
  {
   "cell_type": "code",
   "execution_count": null,
   "id": "383a42e2-0503-427e-bcf7-8f2b272a91d4",
   "metadata": {},
   "outputs": [],
   "source": [
    "#ans5\n",
    "Yes, Python have the trailing newline while reading a line of text. When we write a newline has to be provided in python excpicitly."
   ]
  },
  {
   "cell_type": "code",
   "execution_count": null,
   "id": "4bd77382-e00e-4553-838b-8723d51ee3fa",
   "metadata": {},
   "outputs": [],
   "source": [
    "#ans6\n",
    "The file operations enable for random-access operation are seek() and tell()"
   ]
  },
  {
   "cell_type": "code",
   "execution_count": null,
   "id": "1a4c1648-1573-4d5f-b8a6-9b6710fb9967",
   "metadata": {},
   "outputs": [],
   "source": [
    "#ans7\n",
    "The struct package is mostly used while converting a common python types into C language types."
   ]
  },
  {
   "cell_type": "code",
   "execution_count": null,
   "id": "f224fa12-d730-4fac-9919-dc54b215bd78",
   "metadata": {},
   "outputs": [],
   "source": [
    "#ans8\n",
    "Pickling is best option for creating a new binary file using python."
   ]
  },
  {
   "cell_type": "code",
   "execution_count": null,
   "id": "41ab5ada-bb76-41b4-91a0-c63cc3e4f785",
   "metadata": {},
   "outputs": [],
   "source": [
    "#ans9\n",
    "Shelve package is used to pickle data but treats the entire file as dictionary."
   ]
  },
  {
   "cell_type": "code",
   "execution_count": null,
   "id": "c3f38210-90a7-4be3-aa13-8f288b5c1645",
   "metadata": {},
   "outputs": [],
   "source": [
    "#ans10\n",
    "Only string data type can be used as key in this special dictionary object, whereas any picklable Python object can be used as value."
   ]
  }
 ],
 "metadata": {
  "kernelspec": {
   "display_name": "Python 3 (ipykernel)",
   "language": "python",
   "name": "python3"
  },
  "language_info": {
   "codemirror_mode": {
    "name": "ipython",
    "version": 3
   },
   "file_extension": ".py",
   "mimetype": "text/x-python",
   "name": "python",
   "nbconvert_exporter": "python",
   "pygments_lexer": "ipython3",
   "version": "3.10.6"
  }
 },
 "nbformat": 4,
 "nbformat_minor": 5
}
