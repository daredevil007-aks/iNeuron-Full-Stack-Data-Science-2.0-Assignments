{
 "cells": [
  {
   "cell_type": "code",
   "execution_count": 1,
   "id": "037ef7b3-192e-4f79-b7cb-14648e5e297b",
   "metadata": {},
   "outputs": [
    {
     "name": "stdout",
     "output_type": "stream",
     "text": [
      "[9, 8, 8]\n",
      "[9, 9, 15]\n",
      "[9, 8, 8]\n"
     ]
    }
   ],
   "source": [
    "#ans 1\n",
    "X = [[2,3,4],[7,5,7],[8,5,3]]\n",
    "Y = [[7,5,4],[2,4,8],[1,3,5]]\n",
    "result = [[0,0,0],[0,0,0],[0,0,0]]\n",
    "for i in range(len(X)):\n",
    "    for j in range(len(X[0])):\n",
    "        result[i][j] = X[i][j] +Y[i][j]\n",
    "for r in result:\n",
    "    print(r)"
   ]
  },
  {
   "cell_type": "code",
   "execution_count": null,
   "id": "c9fbf822-9e2f-454f-b748-abf944831d88",
   "metadata": {},
   "outputs": [],
   "source": [
    "#ans2\n",
    "\n",
    "X = [[2,3,4],[7,5,7],[8,5,3]]\n",
    "Y = [[7,5,4],[2,4,8],[1,3,5]]\n",
    "result = [[0,0,0],[0,0,0],[0,0,0]]\n",
    "for i in range(len(X)):\n",
    "    for j in range(len(Y[0])):\n",
    "                   for k in range(len(Y)):\n",
    "                         result[i][j] += X[i][k] * Y[k][j]\n",
    "for r in result:\n",
    "    print(r)"
   ]
  },
  {
   "cell_type": "code",
   "execution_count": null,
   "id": "1e0764a9-9e87-4e20-90b2-92b23f09156f",
   "metadata": {},
   "outputs": [],
   "source": [
    "#ans 3\n",
    "X = [[2,3],[7,5],[8,5]]\n",
    "result = [[0,0,0],[0,0,0]]\n",
    "for i in range(len(X)):\n",
    "    for j in range(len(X[0])):\n",
    "        result[j][i] = X[i][j]\n",
    "for r in result:\n",
    "    print(r)"
   ]
  },
  {
   "cell_type": "code",
   "execution_count": 24,
   "id": "8e6b7ba3-fd38-4324-84c8-b2edd9884e7f",
   "metadata": {},
   "outputs": [
    {
     "name": "stdin",
     "output_type": "stream",
     "text": [
      "enter any word my name is akshat\n"
     ]
    },
    {
     "name": "stdout",
     "output_type": "stream",
     "text": [
      "akshat\n",
      "is\n",
      "my\n",
      "name\n"
     ]
    }
   ],
   "source": [
    "#ans 4\n",
    "s = input(\"enter any word\")\n",
    "words = s.split(\" \")\n",
    "words.sort()\n",
    "for word in words:\n",
    "    print(word)\n"
   ]
  },
  {
   "cell_type": "code",
   "execution_count": 25,
   "id": "26aca20a-eabf-4313-97a7-c00ca9dd230c",
   "metadata": {},
   "outputs": [
    {
     "name": "stdin",
     "output_type": "stream",
     "text": [
      "enter an sentence akshat.....\n"
     ]
    },
    {
     "name": "stdout",
     "output_type": "stream",
     "text": [
      "akshat\n"
     ]
    }
   ],
   "source": [
    "#ans 5\n",
    "\n",
    "sen = input(\"enter an sentence\")\n",
    "punctuation = '''!()-[]{};:'\"\\,<>./?@#$%^&*_~'''\n",
    "ele = \"\"\n",
    "for i in sen:\n",
    "    if i not in punctuation:\n",
    "            ele += i\n",
    "print(ele)\n",
    "   "
   ]
  }
 ],
 "metadata": {
  "kernelspec": {
   "display_name": "Python 3 (ipykernel)",
   "language": "python",
   "name": "python3"
  },
  "language_info": {
   "codemirror_mode": {
    "name": "ipython",
    "version": 3
   },
   "file_extension": ".py",
   "mimetype": "text/x-python",
   "name": "python",
   "nbconvert_exporter": "python",
   "pygments_lexer": "ipython3",
   "version": "3.10.6"
  }
 },
 "nbformat": 4,
 "nbformat_minor": 5
}
