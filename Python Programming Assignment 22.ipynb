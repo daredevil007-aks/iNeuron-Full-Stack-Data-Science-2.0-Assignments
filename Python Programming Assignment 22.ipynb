{
 "cells": [
  {
   "cell_type": "code",
   "execution_count": 20,
   "id": "ede7f879-fd33-4898-b20b-b270f691fe6b",
   "metadata": {},
   "outputs": [
    {
     "name": "stdout",
     "output_type": "stream",
     "text": [
      "[3, 6, 9]\n"
     ]
    }
   ],
   "source": [
    "#ans1\n",
    "def list_operation(start,end,skip):\n",
    "    ans = []\n",
    "    for i in range(start-1,end,skip):\n",
    "        ans.append(i)\n",
    "    print(ans[1:])\n",
    "    \n",
    "list_operation(1,10,3)"
   ]
  },
  {
   "cell_type": "code",
   "execution_count": 33,
   "id": "1f131495-6ed6-4632-b0dc-6aadbb984601",
   "metadata": {},
   "outputs": [
    {
     "name": "stdout",
     "output_type": "stream",
     "text": [
      "([1, 2], [5, 1]) ➞ True\n"
     ]
    }
   ],
   "source": [
    "#ans2\n",
    "\n",
    "def simon_says(in_list_1,in_list_2):\n",
    "    if len(in_list_1) == len(in_list_1) and len(in_list_1) >=2 and len(in_list_1) >=2:\n",
    "        if(in_list_1[:-1] == in_list_2[1:]):\n",
    "            print(f'{in_list_1,in_list_2} ➞ {True}')\n",
    "        else:\n",
    "            print(f'{in_list_1,in_list_2} ➞ {False}')\n",
    "            \n",
    "simon_says([1, 2], [5, 1])"
   ]
  },
  {
   "cell_type": "code",
   "execution_count": 25,
   "id": "0845fca7-e84f-47a5-8a0c-e57387422937",
   "metadata": {},
   "outputs": [
    {
     "data": {
      "text/plain": [
       "\"society_name(['akshat', 'hardik', 'rahul', 'tanshik']) ~ ahrt\""
      ]
     },
     "execution_count": 25,
     "metadata": {},
     "output_type": "execute_result"
    }
   ],
   "source": [
    "#ans3\n",
    "\n",
    "def society_name(l):\n",
    "    alphabet = \"abcdefghijklmnopqrstuvyxyz\"\n",
    "    picker = \"\"\n",
    "    l.sort()\n",
    "    for i in l:\n",
    "        if i[0] in alphabet:\n",
    "            picker += i[0]\n",
    "    return f'society_name({l}) ~ {picker}'\n",
    "\n",
    "society_name(['akshat','tanshik','hardik','rahul'])"
   ]
  },
  {
   "cell_type": "code",
   "execution_count": 75,
   "id": "01a9a04e-5c7d-468f-aad3-9b5c34c73c4c",
   "metadata": {},
   "outputs": [
    {
     "data": {
      "text/plain": [
       "True"
      ]
     },
     "execution_count": 75,
     "metadata": {},
     "output_type": "execute_result"
    }
   ],
   "source": [
    "#ans 4\n",
    "def is_isogram(l):\n",
    "    l =  l.lower()\n",
    "    count = 0\n",
    "    for i in l:\n",
    "        if l.count(i) == 2:\n",
    "            count += 1\n",
    "    if count >= 2:\n",
    "        return False\n",
    "    else:\n",
    "        return True\n",
    "            \n",
    "            \n",
    "is_isogram(\"Pasword\")"
   ]
  },
  {
   "cell_type": "code",
   "execution_count": 76,
   "id": "d7290491-a1ed-4aa6-80b4-590f54976df0",
   "metadata": {},
   "outputs": [
    {
     "name": "stdout",
     "output_type": "stream",
     "text": [
      "abc ➞ True\n",
      "edabit ➞ False\n",
      "123 ➞ True\n",
      "xyzz ➞ True\n"
     ]
    }
   ],
   "source": [
    "#ans 5\n",
    "def is_in_order(in_string):\n",
    "    in_string_sorted = ''.join(sorted(in_string))\n",
    "    if in_string == in_string_sorted:\n",
    "        print(f'{in_string} ➞ {True}')\n",
    "    else:\n",
    "       print(f'{in_string} ➞ {False}')\n",
    "\n",
    "is_in_order(\"abc\")\n",
    "is_in_order(\"edabit\")\n",
    "is_in_order(\"123\")\n",
    "is_in_order(\"xyzz\")"
   ]
  }
 ],
 "metadata": {
  "kernelspec": {
   "display_name": "Python 3 (ipykernel)",
   "language": "python",
   "name": "python3"
  },
  "language_info": {
   "codemirror_mode": {
    "name": "ipython",
    "version": 3
   },
   "file_extension": ".py",
   "mimetype": "text/x-python",
   "name": "python",
   "nbconvert_exporter": "python",
   "pygments_lexer": "ipython3",
   "version": "3.10.6"
  }
 },
 "nbformat": 4,
 "nbformat_minor": 5
}
