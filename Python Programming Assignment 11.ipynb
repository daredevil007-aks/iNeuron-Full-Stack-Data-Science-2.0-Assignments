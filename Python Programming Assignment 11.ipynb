{
 "cells": [
  {
   "cell_type": "code",
   "execution_count": 22,
   "id": "40351a39-8579-47ce-8948-65ba248db2f0",
   "metadata": {},
   "outputs": [
    {
     "name": "stdout",
     "output_type": "stream",
     "text": [
      "['anuradha']\n"
     ]
    }
   ],
   "source": [
    "#ans 1\n",
    "l = ['akshat','anuradha','akash','akasshh']\n",
    "max_k = list()\n",
    "k = 7\n",
    "for i in l:\n",
    "        if len(i) > k:\n",
    "            max_k.append(i)\n",
    "            print(max_k)\n",
    "            "
   ]
  },
  {
   "cell_type": "code",
   "execution_count": 29,
   "id": "c691f996-7622-4f05-a5cd-ca3b20e03bd5",
   "metadata": {},
   "outputs": [
    {
     "name": "stdout",
     "output_type": "stream",
     "text": [
      "akshat\n"
     ]
    }
   ],
   "source": [
    "#ans 2\n",
    "l = 'akkshat'\n",
    "rem = 2\n",
    "if type(l) == str:\n",
    "    a = l[:2]\n",
    "    b = l[rem +1 :]\n",
    "    c= a+b\n",
    "    print(c)\n",
    "    \n"
   ]
  },
  {
   "cell_type": "code",
   "execution_count": 37,
   "id": "74cf2079-807b-46f9-90b3-5a345c6e4207",
   "metadata": {},
   "outputs": [
    {
     "name": "stdout",
     "output_type": "stream",
     "text": [
      "string after splitting ['aksaht', 'is', 'not', 'good']\n",
      "string after joinning aksaht is not good\n"
     ]
    }
   ],
   "source": [
    "#ans3\n",
    "l = \"aksaht is not good\"\n",
    "print(f\"string after splitting {l.split()}\")\n",
    "l.join(l)\n",
    "print(f\"string after joinning {l}\")"
   ]
  },
  {
   "cell_type": "code",
   "execution_count": 39,
   "id": "5f8d42be-e1d0-4cd8-93e4-cad5f4864ec8",
   "metadata": {},
   "outputs": [
    {
     "name": "stdout",
     "output_type": "stream",
     "text": [
      "StringA is a binary string.\n"
     ]
    }
   ],
   "source": [
    "#ans4\n",
    "String = \"010101\"\n",
    "b = {'0','1'}\n",
    "t = set(String)\n",
    "\n",
    "if b == t or t == {'0'} or t == {'1'}:\n",
    "    print(\"StringA is a binary string.\")\n",
    "else:\n",
    "    print(\"StringA is not a binary string.\")"
   ]
  },
  {
   "cell_type": "code",
   "execution_count": 12,
   "id": "29949c8f-f5a0-4746-bf77-bb4b52ea8368",
   "metadata": {},
   "outputs": [
    {
     "name": "stdin",
     "output_type": "stream",
     "text": [
      " akshat is not here\n",
      " akshat is not heere at all\n"
     ]
    },
    {
     "name": "stdout",
     "output_type": "stream",
     "text": [
      "['here', 'heere', 'at', 'all']\n"
     ]
    }
   ],
   "source": [
    "#ans5\n",
    "str_1 = list(map(str,input().split()))\n",
    "str_2 = list(map(str,input().split()))\n",
    "unusual = list()\n",
    "\n",
    "\n",
    "for i in str_1:\n",
    "    if i not in str_2:\n",
    "        unusual.append(i)\n",
    "for i in str_2:\n",
    "    if i not in str_1:\n",
    "        unusual.append(i)\n",
    "print(unusual)"
   ]
  },
  {
   "cell_type": "code",
   "execution_count": 14,
   "id": "2103d2d0-6fee-4c41-8d10-9d6f07b68cbf",
   "metadata": {},
   "outputs": [
    {
     "name": "stdin",
     "output_type": "stream",
     "text": [
      " akshat is here\n",
      " here\n"
     ]
    },
    {
     "name": "stdout",
     "output_type": "stream",
     "text": [
      "['here']\n"
     ]
    }
   ],
   "source": [
    "#ans 6\n",
    "str_1 = list(map(str,input().split()))\n",
    "str_2 = list(map(str,input().split()))\n",
    "unusual = list()\n",
    "\n",
    "\n",
    "for i in str_1:\n",
    "    if i in str_2:\n",
    "        unusual.append(i)\n",
    "print(unusual)"
   ]
  },
  {
   "cell_type": "code",
   "execution_count": null,
   "id": "40a90672-0267-4986-b055-6751491bf8cf",
   "metadata": {},
   "outputs": [],
   "source": [
    "#ans 7\n",
    "special = \"[@_!#$%^&*()<>?/|}{~:]\"\n",
    "str_1 = str(input())\n",
    "\n",
    "for i in str_1:\n",
    "    if i not in special:\n",
    "        print(\"no special character found\")\n",
    "    else:\n",
    "        print(f\"thier is a special character {i}\")"
   ]
  },
  {
   "cell_type": "code",
   "execution_count": null,
   "id": "c52c73aa-5b53-4460-baad-75095e3ef05c",
   "metadata": {},
   "outputs": [],
   "source": []
  }
 ],
 "metadata": {
  "kernelspec": {
   "display_name": "Python 3 (ipykernel)",
   "language": "python",
   "name": "python3"
  },
  "language_info": {
   "codemirror_mode": {
    "name": "ipython",
    "version": 3
   },
   "file_extension": ".py",
   "mimetype": "text/x-python",
   "name": "python",
   "nbconvert_exporter": "python",
   "pygments_lexer": "ipython3",
   "version": "3.10.6"
  }
 },
 "nbformat": 4,
 "nbformat_minor": 5
}
