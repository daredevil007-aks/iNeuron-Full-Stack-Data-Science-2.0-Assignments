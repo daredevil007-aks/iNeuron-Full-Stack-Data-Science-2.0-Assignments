{
 "cells": [
  {
   "cell_type": "code",
   "execution_count": 12,
   "id": "c52c73aa-5b53-4460-baad-75095e3ef05c",
   "metadata": {},
   "outputs": [
    {
     "name": "stdout",
     "output_type": "stream",
     "text": [
      "['hello', 'their']\n"
     ]
    }
   ],
   "source": [
    "#ans1\n",
    "sentence = \"hello their \"\n",
    "length = 4\n",
    "print([word for word in sentence.split() if len(word) > length])"
   ]
  },
  {
   "cell_type": "code",
   "execution_count": 11,
   "id": "61ac41a0-cdc9-47fc-beb0-6f09627c4a01",
   "metadata": {},
   "outputs": [
    {
     "name": "stdout",
     "output_type": "stream",
     "text": [
      "deep\n"
     ]
    }
   ],
   "source": [
    "#ans 2\n",
    "def remove(string, i):\n",
    "    return \"\".join(string)\n",
    " \n",
    "print(remove(\"deep\",2))"
   ]
  },
  {
   "cell_type": "code",
   "execution_count": 10,
   "id": "1b3f5802-b9fc-4e8b-b809-879e41a9adc7",
   "metadata": {},
   "outputs": [
    {
     "name": "stdout",
     "output_type": "stream",
     "text": [
      "['askaht', 'here']\n",
      "askaht-here\n"
     ]
    }
   ],
   "source": [
    "#ans 3\n",
    "\n",
    "s = 'askaht here'\n",
    "print(s.split(\" \"))\n",
    "print(\"-\".join(s.split()))\n",
    " "
   ]
  },
  {
   "cell_type": "code",
   "execution_count": 9,
   "id": "cc3ecbef-42fa-477c-97bc-f2e97349fecb",
   "metadata": {},
   "outputs": [
    {
     "name": "stdout",
     "output_type": "stream",
     "text": [
      "No\n"
     ]
    }
   ],
   "source": [
    "#ans 4\n",
    "string = \"01010121010\"\n",
    "binary=\"01\"\n",
    "for i in binary:\n",
    "    string=string.replace(i,\"\")\n",
    "if(len(string)==0):\n",
    "    print(\"Yes\")\n",
    "else:\n",
    "    print(\"No\")"
   ]
  },
  {
   "cell_type": "code",
   "execution_count": 13,
   "id": "c7f3ca39-df22-460c-a2dc-21ff2c7f9061",
   "metadata": {},
   "outputs": [
    {
     "name": "stdout",
     "output_type": "stream",
     "text": [
      "['their']\n"
     ]
    }
   ],
   "source": [
    "#ans 5\n",
    "import operator as op\n",
    " \n",
    "def UncommonWords(A, B):\n",
    "    A = A.split()\n",
    "    B = B.split()\n",
    "    x = []\n",
    "    for i in A:\n",
    "        if op.countOf(B, i) == 0:\n",
    "            x.append(i)\n",
    "    for i in B:\n",
    "        if op.countOf(A, i) == 0:\n",
    "            x.append(i)\n",
    "    x = list(set(x))\n",
    "    return x\n",
    " \n",
    "A = \"hello\"\n",
    "B = \"hello their\"\n",
    " \n",
    "print(UncommonWords(A, B))"
   ]
  },
  {
   "cell_type": "code",
   "execution_count": 14,
   "id": "d9b773e9-7fa3-4996-baf8-c65cc91bc47a",
   "metadata": {},
   "outputs": [
    {
     "name": "stdout",
     "output_type": "stream",
     "text": [
      "a\n"
     ]
    }
   ],
   "source": [
    "#ans 6\n",
    "\n",
    "def find_dup_char(input):\n",
    "    x = filter(lambda x: input.count(x) >= 2, input)\n",
    "    print(' '.join(set(x)))\n",
    " \n",
    " \n",
    "# Driver Code\n",
    "if __name__ == \"__main__\":\n",
    "    input = 'aksaht '\n",
    "    find_dup_char(input)"
   ]
  },
  {
   "cell_type": "code",
   "execution_count": 16,
   "id": "a44548e2-9619-4259-bb94-d4084ab2bf9e",
   "metadata": {},
   "outputs": [
    {
     "name": "stdout",
     "output_type": "stream",
     "text": [
      "The string does not contain special characters.\n",
      "The string contains special characters.\n"
     ]
    }
   ],
   "source": [
    "#ans 7\n",
    "\n",
    "def has_special_char(s):\n",
    "    for c in s:\n",
    "        if not (c.isalpha() or c.isdigit() or c == ' '):\n",
    "            return True\n",
    "    return False\n",
    " \n",
    "\n",
    "s = \"Hello World\"\n",
    "if has_special_char(s):\n",
    "    print(\"The string contains special characters.\")\n",
    "else:\n",
    "    print(\"The string does not contain special characters.\")\n",
    " \n",
    "s = \"Hello@World\"\n",
    "if has_special_char(s):\n",
    "    print(\"The string contains special characters.\")\n",
    "else:\n",
    "    print(\"The string does not contain special characters.\")\n"
   ]
  },
  {
   "cell_type": "code",
   "execution_count": null,
   "id": "7cd8f2fc-5ce5-4160-8437-55f5d6540c46",
   "metadata": {},
   "outputs": [],
   "source": []
  }
 ],
 "metadata": {
  "kernelspec": {
   "display_name": "Python 3 (ipykernel)",
   "language": "python",
   "name": "python3"
  },
  "language_info": {
   "codemirror_mode": {
    "name": "ipython",
    "version": 3
   },
   "file_extension": ".py",
   "mimetype": "text/x-python",
   "name": "python",
   "nbconvert_exporter": "python",
   "pygments_lexer": "ipython3",
   "version": "3.10.6"
  }
 },
 "nbformat": 4,
 "nbformat_minor": 5
}
