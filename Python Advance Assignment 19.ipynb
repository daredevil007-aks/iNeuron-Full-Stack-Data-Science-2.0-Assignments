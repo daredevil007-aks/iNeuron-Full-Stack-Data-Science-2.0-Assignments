{
 "cells": [
  {
   "cell_type": "code",
   "execution_count": null,
   "id": "fa9dd3dc-7c32-4fbe-a903-400c2ba81e2d",
   "metadata": {},
   "outputs": [],
   "source": [
    "#ans1\n",
    "Relationship between a class and its instances is a one to many partnership."
   ]
  },
  {
   "cell_type": "code",
   "execution_count": null,
   "id": "8d06c611-4bec-49a9-8498-977ac916e776",
   "metadata": {},
   "outputs": [],
   "source": [
    "#ans2\n",
    "Instance objects contains the Instance variables which are specific to that specific Instance object."
   ]
  },
  {
   "cell_type": "code",
   "execution_count": null,
   "id": "1089702c-e7d0-44ad-8a8f-7cb42a87eb1e",
   "metadata": {},
   "outputs": [],
   "source": [
    "#ans3\n",
    "Class creates a user-defined data structure, which holds its own data members and member functions, which can be accessed and used by creating \n",
    "an instance of that class. A class is like a blueprint for an object."
   ]
  },
  {
   "cell_type": "code",
   "execution_count": null,
   "id": "4af1cc5a-859e-4795-a758-c6d454099a99",
   "metadata": {},
   "outputs": [],
   "source": [
    "#ans4\n",
    "The methods with a class can be used to access the insatnce variables of its instance. So,the object's state can be modified by its method. Function can't \n",
    "access the attributes of an instance of a class or can't modify the state of the object."
   ]
  },
  {
   "cell_type": "code",
   "execution_count": null,
   "id": "1373431e-495b-42c4-8166-cb5eafdda9a5",
   "metadata": {},
   "outputs": [],
   "source": [
    "#ans5\n",
    "Yes,Python supports inheritance. The Types of Inheritence Supported by Python are:\n",
    "\n",
    "Simple Inheritence\n",
    "Multiple Inheritence\n",
    "Multilevel lInheritence\n",
    "Hybrid Inheritence\n",
    "Hierracial Inheritence"
   ]
  },
  {
   "cell_type": "code",
   "execution_count": null,
   "id": "f5923ae8-2293-4cdd-a0a7-33ec535123be",
   "metadata": {},
   "outputs": [],
   "source": [
    "#ans6\n",
    "Encapsulation describes the idea of wrapping data and the methods that work on data within one unit. This puts restrictions on accessing \n",
    "variables and methods directly and can prevent the accidental modification of data. To prevent accidental change, an objects variable can \n",
    "only be changed by an objects method."
   ]
  },
  {
   "cell_type": "code",
   "execution_count": null,
   "id": "2480458b-855e-494a-a265-a778aedf2eed",
   "metadata": {},
   "outputs": [],
   "source": [
    "#ans7\n",
    "The Class Attribute is available to all the instance objects of that class. whereas Instance Attributes are accessible only to the object or Instance of that class.\n",
    "\n",
    "A single copy of Class attributes is maintained by pvm at the class level. Whereas difference copies of instance attributes are maintained by pvm at objects/instance level."
   ]
  },
  {
   "cell_type": "code",
   "execution_count": null,
   "id": "4190a82d-9d73-4653-8bfb-f4257b77c106",
   "metadata": {},
   "outputs": [],
   "source": [
    "#ans8\n",
    "Yes, self can included in class method definations to access the instance variables inside class methods."
   ]
  },
  {
   "cell_type": "code",
   "execution_count": null,
   "id": "a5949dd3-6330-4357-8c5f-cab4e0c66954",
   "metadata": {},
   "outputs": [],
   "source": [
    "#ans9\n",
    " Entering __radd__ Python will first try __add__(), and if that returns Not Implemented Python will check if the right-hand operand\n",
    "implements __radd__, and if it does, it will call __radd__() rather than raising a TypeError"
   ]
  },
  {
   "cell_type": "code",
   "execution_count": null,
   "id": "9e1ad2d7-aebc-418c-83b9-477ec49e25e3",
   "metadata": {},
   "outputs": [],
   "source": [
    "#ans10\n",
    "Reflection method we often encounter the requirement that a method in the executing object, or a variable in the calling object, \n",
    "or a field of the object should be assigned, while the method name or field name can not be determined when encoding the code, \n",
    "and need to be input in the form of passing strings through parameters."
   ]
  },
  {
   "cell_type": "code",
   "execution_count": null,
   "id": "8bde6316-c3b1-4a68-b9ef-47540cbd3b9c",
   "metadata": {},
   "outputs": [],
   "source": [
    "#ans11\n",
    "__iadd__ method is called when we use implementation like a+=b which is a.__iadd__(b)"
   ]
  },
  {
   "cell_type": "code",
   "execution_count": null,
   "id": "b4aa1eb9-b321-43e3-9df4-a42fadea6bc5",
   "metadata": {},
   "outputs": [],
   "source": [
    "#ans12\n",
    "Yes, __init__ method will be inherited by subclasses. if we want to customize its behaviour within a subclass we can use super() method."
   ]
  },
  {
   "cell_type": "code",
   "execution_count": null,
   "id": "9d8dd4ac-645e-4605-be63-58f4cad7657a",
   "metadata": {},
   "outputs": [],
   "source": []
  }
 ],
 "metadata": {
  "kernelspec": {
   "display_name": "Python 3 (ipykernel)",
   "language": "python",
   "name": "python3"
  },
  "language_info": {
   "codemirror_mode": {
    "name": "ipython",
    "version": 3
   },
   "file_extension": ".py",
   "mimetype": "text/x-python",
   "name": "python",
   "nbconvert_exporter": "python",
   "pygments_lexer": "ipython3",
   "version": "3.10.6"
  }
 },
 "nbformat": 4,
 "nbformat_minor": 5
}
