{
 "cells": [
  {
   "cell_type": "code",
   "execution_count": null,
   "id": "33b3abad-c453-467c-a17e-6a380ff45cfc",
   "metadata": {},
   "outputs": [],
   "source": [
    "#ans1\n",
    "Numpy Ndarray provides a lot of convenient and optimized methods for performing several mathematical operations on vectors.\n",
    "\n",
    "Pandas Dataframe is an in-memory 2-dimensional tabular representation of data. In simpler words, it can be seen as a spreadsheet having rows and columns.\n",
    "\n",
    "Conversion : Dataframe=pandas.DataFrame(array)"
   ]
  },
  {
   "cell_type": "code",
   "execution_count": null,
   "id": "3c89c73e-b104-4647-9d6f-c5a1804ed1f1",
   "metadata": {},
   "outputs": [],
   "source": [
    "#ans2\n",
    "Bar chart, Line Chart are used for plotting."
   ]
  },
  {
   "cell_type": "code",
   "execution_count": null,
   "id": "e54c40af-a5cb-4429-b6d3-66934c8e1aff",
   "metadata": {},
   "outputs": [],
   "source": [
    "#ans3\n",
    "Legend will help comparison between different stocks, so will be essential on a stock market chart"
   ]
  },
  {
   "cell_type": "code",
   "execution_count": null,
   "id": "d39a4864-dbd8-4339-ac90-32c9eede452d",
   "metadata": {},
   "outputs": [],
   "source": [
    "#ans4\n",
    "We can use start and end parameters for that. In start we write the date from where we are starting and at the end we write \n",
    "the end date. SO within this span we can restric the duration.Also we can use the parameters like periods for how much times \n",
    "we need the duration and we can also use the frequency parameter."
   ]
  },
  {
   "cell_type": "code",
   "execution_count": null,
   "id": "a2f17326-f7f3-4fcd-a324-82ee93cb7d35",
   "metadata": {},
   "outputs": [],
   "source": [
    "#ans5\n",
    "The 180-day moving average is represented as a line on charts and represents the average price over the past 180 days. \n",
    "The moving average can give traders a sense regarding whether the trend is up or down, while also identifying potential support or resistance areas."
   ]
  }
 ],
 "metadata": {
  "kernelspec": {
   "display_name": "Python 3 (ipykernel)",
   "language": "python",
   "name": "python3"
  },
  "language_info": {
   "codemirror_mode": {
    "name": "ipython",
    "version": 3
   },
   "file_extension": ".py",
   "mimetype": "text/x-python",
   "name": "python",
   "nbconvert_exporter": "python",
   "pygments_lexer": "ipython3",
   "version": "3.10.6"
  }
 },
 "nbformat": 4,
 "nbformat_minor": 5
}
