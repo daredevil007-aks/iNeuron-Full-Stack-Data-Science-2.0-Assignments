{
 "cells": [
  {
   "cell_type": "code",
   "execution_count": 1,
   "id": "d95fe4a8",
   "metadata": {},
   "outputs": [],
   "source": [
    "#q.1\n",
    "#ans The shutil.copy() function will copy a single file, while shutil.copytree() will copy an entire folder, along with all its contents."
   ]
  },
  {
   "cell_type": "code",
   "execution_count": 2,
   "id": "185dcbff",
   "metadata": {},
   "outputs": [],
   "source": [
    "#q.2\n",
    "#ans. The shutil.move() function is used for renaming files, as well as moving them"
   ]
  },
  {
   "cell_type": "code",
   "execution_count": 3,
   "id": "146b405b",
   "metadata": {},
   "outputs": [],
   "source": [
    "#q.3\n",
    "#ans.The send2trash functions will move a file or folder to the recycle bin, while shutil functions will permanently delete files and folders."
   ]
  },
  {
   "cell_type": "code",
   "execution_count": 4,
   "id": "40f37ec4",
   "metadata": {},
   "outputs": [],
   "source": [
    "#q.4\n",
    "#ans.The zipfile.ZipFile() function is equivalent to the open() function; the first argument is the filename, and the second argument is the mode to open the ZIP file in (read, write, or append)."
   ]
  },
  {
   "cell_type": "code",
   "execution_count": null,
   "id": "b9aaaae5",
   "metadata": {},
   "outputs": [],
   "source": [
    "#q.5\n",
    "#ans.\n",
    "import os, shutil\n",
    "\n",
    "sourcePath = input(‘Enter the absolute path of the source folder: ‘)\n",
    " fileExtType = input(‘Enter the type of file to copy (such as .pdf or .jpg): ‘).lower()\n",
    " destPath = input(‘Enter the absolute path of the destination folder: ‘)\n",
    "\n",
    "for foldername, subfolders, filenames in os.walk(sourcePath):\n",
    " for filename in filenames:\n",
    " if filename.lower().endswith(fileExtType):\n",
    " #print(foldername + ‘\\\\’ + filename)\n",
    " copySourcePath = os.path.join(foldername, filename)\n",
    " #print(copySourcePath)\n",
    "shutil.copy(copySourcePath, destPath)\n",
    " else:\n",
    " continue"
   ]
  }
 ],
 "metadata": {
  "kernelspec": {
   "display_name": "Python 3 (ipykernel)",
   "language": "python",
   "name": "python3"
  },
  "language_info": {
   "codemirror_mode": {
    "name": "ipython",
    "version": 3
   },
   "file_extension": ".py",
   "mimetype": "text/x-python",
   "name": "python",
   "nbconvert_exporter": "python",
   "pygments_lexer": "ipython3",
   "version": "3.9.12"
  }
 },
 "nbformat": 4,
 "nbformat_minor": 5
}
