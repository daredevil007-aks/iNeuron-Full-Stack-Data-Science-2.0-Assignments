{
 "cells": [
  {
   "cell_type": "code",
   "execution_count": 1,
   "id": "a233267f",
   "metadata": {},
   "outputs": [],
   "source": [
    "#Q.1\n",
    "#Ans. Relative paths are relative to the current working directory"
   ]
  },
  {
   "cell_type": "markdown",
   "id": "eb70c1a7",
   "metadata": {},
   "source": [
    "#Q.2\n",
    "#Ans.Absolute paths start with the root folder, such as / or C:\\."
   ]
  },
  {
   "cell_type": "code",
   "execution_count": 2,
   "id": "2966b521",
   "metadata": {},
   "outputs": [],
   "source": [
    "#Q.3\n",
    "#Ans. The os.getcwd() function returns the current working directory. The os.chdir() function changes the current working directory"
   ]
  },
  {
   "cell_type": "code",
   "execution_count": 3,
   "id": "cf223db3",
   "metadata": {},
   "outputs": [],
   "source": [
    "#Q.4\n",
    "#Ans. The . folder is the current folder, and .. is the parent folder"
   ]
  },
  {
   "cell_type": "code",
   "execution_count": null,
   "id": "5d77ff4a",
   "metadata": {},
   "outputs": [],
   "source": [
    "#Q.5\n",
    "#Ans. C:\\bacon\\eggs is the dir name, while spam.txt is the base name."
   ]
  },
  {
   "cell_type": "code",
   "execution_count": null,
   "id": "697d7c7c",
   "metadata": {},
   "outputs": [],
   "source": [
    "#Q.6\n",
    "#Ans. The string 'r' for read mode, 'w' for write mode, and 'a' for append mode"
   ]
  },
  {
   "cell_type": "code",
   "execution_count": null,
   "id": "503ca868",
   "metadata": {},
   "outputs": [],
   "source": [
    "#Q.7\n",
    "#Ans. An existing file opened in write mode is erased and completely overwritten"
   ]
  },
  {
   "cell_type": "code",
   "execution_count": null,
   "id": "eb0bc490",
   "metadata": {},
   "outputs": [],
   "source": [
    "#Q.8\n",
    "#Ans.The read() method returns the file’s entire contents as a single string value. The readlines() method returns a list of strings, where each string is a line from the file’s contents."
   ]
  },
  {
   "cell_type": "code",
   "execution_count": null,
   "id": "38b570c7",
   "metadata": {},
   "outputs": [],
   "source": [
    "#Q.9\n",
    "#Ans.A shelf value resembles a dictionary value; it has keys and values, along with keys() and values() methods that work similarly to the dictionary methods of the same names"
   ]
  }
 ],
 "metadata": {
  "kernelspec": {
   "display_name": "Python 3 (ipykernel)",
   "language": "python",
   "name": "python3"
  },
  "language_info": {
   "codemirror_mode": {
    "name": "ipython",
    "version": 3
   },
   "file_extension": ".py",
   "mimetype": "text/x-python",
   "name": "python",
   "nbconvert_exporter": "python",
   "pygments_lexer": "ipython3",
   "version": "3.9.12"
  }
 },
 "nbformat": 4,
 "nbformat_minor": 5
}
