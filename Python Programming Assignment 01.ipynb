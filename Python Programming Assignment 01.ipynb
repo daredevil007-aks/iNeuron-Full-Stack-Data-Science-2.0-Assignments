{
 "cells": [
  {
   "cell_type": "code",
   "execution_count": null,
   "id": "fa169b14-a8cf-4ed7-9ff7-c511a783b365",
   "metadata": {},
   "outputs": [],
   "source": [
    "#ans 1\n",
    "print(\"hello world\")"
   ]
  },
  {
   "cell_type": "code",
   "execution_count": null,
   "id": "2026d6e0-3480-45ed-bdf8-3a69fbd0e920",
   "metadata": {},
   "outputs": [],
   "source": [
    "#ans 2\n",
    "input_1 = int(input())\n",
    "input_2 = int(input())\n",
    "\n",
    "add = input_1 + input_2\n",
    "print(add)\n",
    "divi = input_1 / input_2\n",
    "print(divi)"
   ]
  },
  {
   "cell_type": "code",
   "execution_count": null,
   "id": "5d3913c3-caaf-4654-bbd3-f2830b7d39c1",
   "metadata": {},
   "outputs": [],
   "source": [
    "#ans 3\n",
    "height = int(input('Enter height of triangle: '))\n",
    "base = int(input('Enter base of triangle: '))\n",
    "\n",
    "def areaOfTriangle(height, base):\n",
    "    print('\\nArea of triangle ->', 0.5*height*base)\n",
    "\n",
    "areaOfTriangle(height,base)"
   ]
  },
  {
   "cell_type": "code",
   "execution_count": null,
   "id": "b276f121-834b-4bef-bdeb-d074d71bb7ea",
   "metadata": {},
   "outputs": [],
   "source": [
    "#ans 4\n",
    "num_1 = int(input(\"Enter First Number: \"))\n",
    "num_2 = int(input(\"Enter Second Number: \"))\n",
    "\n",
    "def swapNumbers(a,b):\n",
    "    temp = a\n",
    "    a = b\n",
    "    b = temp\n",
    "    return a,b\n",
    "\n",
    "print('Before swapping -> ',num_1, num_2)\n",
    "num_1, num_2 = swapNumbers(num_1, num_2)\n",
    "print('After swapping -> ',num_1,num_2)"
   ]
  },
  {
   "cell_type": "code",
   "execution_count": null,
   "id": "66f03b94-5580-4299-8851-d32748ad45e3",
   "metadata": {},
   "outputs": [],
   "source": [
    "#ans 5\n",
    "from random import randint\n",
    "\n",
    "def generateRandomNumber(start=0, end=100000):\n",
    "    print('Random number -> ',randint(start,end))\n",
    "\n",
    "# Generating random numbers without arguments    \n",
    "generateRandomNumber()\n",
    "\n",
    "# Generating random numbers with arguments    \n",
    "generateRandomNumber(0,100)"
   ]
  }
 ],
 "metadata": {
  "kernelspec": {
   "display_name": "Python 3 (ipykernel)",
   "language": "python",
   "name": "python3"
  },
  "language_info": {
   "codemirror_mode": {
    "name": "ipython",
    "version": 3
   },
   "file_extension": ".py",
   "mimetype": "text/x-python",
   "name": "python",
   "nbconvert_exporter": "python",
   "pygments_lexer": "ipython3",
   "version": "3.10.6"
  }
 },
 "nbformat": 4,
 "nbformat_minor": 5
}
