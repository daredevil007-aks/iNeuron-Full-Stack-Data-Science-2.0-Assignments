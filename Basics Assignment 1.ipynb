{
 "cells": [
  {
   "cell_type": "code",
   "execution_count": null,
   "id": "75dd8c7c",
   "metadata": {},
   "outputs": [],
   "source": [
    "Ans 1 \n",
    "Values are\n",
    "'hello'\n",
    "-87.8\n",
    "6\n",
    "\n",
    "Expression are\n",
    "*\n",
    "/\n",
    "-\n",
    "+"
   ]
  },
  {
   "cell_type": "code",
   "execution_count": null,
   "id": "c034319f",
   "metadata": {},
   "outputs": [],
   "source": [
    "Ans 2 String\n",
    "A string is a series of characters. In Python, anything inside quotes is a string. And you can use either single or double quotes. \n",
    "Variable \n",
    "In Python, a variable is a label that you can assign a value to it. And a variable is always associated with a value."
   ]
  },
  {
   "cell_type": "code",
   "execution_count": null,
   "id": "7bb0f916",
   "metadata": {},
   "outputs": [],
   "source": [
    "Ans 3\n",
    "Data Types - Tuples,list,float,"
   ]
  },
  {
   "cell_type": "code",
   "execution_count": null,
   "id": "65826a83",
   "metadata": {},
   "outputs": [],
   "source": [
    "Ans 4 \n",
    "An expression is a combination of operators and operands that is interpreted to produce some other value.\n",
    "Expressions are representations of value."
   ]
  },
  {
   "cell_type": "code",
   "execution_count": null,
   "id": "06c42a2c",
   "metadata": {},
   "outputs": [],
   "source": [
    "Ans 5 \n",
    "An expression evaluates to a value\tA statement executes something\n",
    "The evaluation of a statement does not changes state\tThe execution of a statement changes state\n",
    "Evaluation of an expression always Produces or returns a result value.\tExecution of a statement may or may not produces or displays a result value, it only does whatever the statement says.\n",
    "Every expression can’t be a statement.\tEvery statement can be an expression."
   ]
  },
  {
   "cell_type": "code",
   "execution_count": null,
   "id": "15a0b092",
   "metadata": {},
   "outputs": [],
   "source": [
    "Ans 6 bacon contained value will be \n",
    "23"
   ]
  },
  {
   "cell_type": "code",
   "execution_count": null,
   "id": "6fe2a576",
   "metadata": {},
   "outputs": [],
   "source": [
    "Ans 7 \n",
    "'spamspamspam'"
   ]
  },
  {
   "cell_type": "code",
   "execution_count": null,
   "id": "284b85c2",
   "metadata": {},
   "outputs": [],
   "source": [
    "Ans 8 \n",
    "Variable names cannot begin with a number."
   ]
  },
  {
   "cell_type": "code",
   "execution_count": null,
   "id": "034d2af4",
   "metadata": {},
   "outputs": [],
   "source": [
    "Ans 9 \n",
    "The int(), float(), and str() functions will evaluate to the integer, floating-point number, and string versions of the value passed to them."
   ]
  },
  {
   "cell_type": "code",
   "execution_count": null,
   "id": "f5ca4bb9",
   "metadata": {},
   "outputs": [],
   "source": [
    "Ans 10 \n",
    "The expression causes an error because 99 is an integer, and only strings can be concatenated to other strings with the + operator. The correct way is I have eaten ' + str(99) + ' burritos.'."
   ]
  }
 ],
 "metadata": {
  "kernelspec": {
   "display_name": "Python 3 (ipykernel)",
   "language": "python",
   "name": "python3"
  },
  "language_info": {
   "codemirror_mode": {
    "name": "ipython",
    "version": 3
   },
   "file_extension": ".py",
   "mimetype": "text/x-python",
   "name": "python",
   "nbconvert_exporter": "python",
   "pygments_lexer": "ipython3",
   "version": "3.9.12"
  }
 },
 "nbformat": 4,
 "nbformat_minor": 5
}
