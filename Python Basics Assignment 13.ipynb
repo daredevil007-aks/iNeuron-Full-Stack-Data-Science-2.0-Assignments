{
 "cells": [
  {
   "cell_type": "code",
   "execution_count": null,
   "id": "bee4ff21-1566-469c-9997-279315a81a3b",
   "metadata": {},
   "outputs": [],
   "source": [
    "#Ans -1 \n",
    "While Excel (XLS and XLSX) file formats are better for storing more complex data, CSV files are supported by nearly all data upload interfaces. If you are planning to move your data between platforms, export and import it from one interface to another, you might be better off with the CSV file format."
   ]
  },
  {
   "cell_type": "code",
   "execution_count": null,
   "id": "fdd3ba88-e0e6-49e2-973d-2531a9d17c2b",
   "metadata": {},
   "outputs": [],
   "source": [
    "#Ans2 \n",
    "import csv\n",
    "exampleFile = open('example.csv')\n",
    "exampleReader = csv.reader(exampleFile)\n",
    "for row in exampleReader:\n",
    "    print('Row #' + str(exampleReader.line_num) + ' ' + str(row)\n",
    "          \n",
    "outputFile = open('output.csv', 'w', newline='')\n",
    "outputWriter = csv.writer(outputFile)\n",
    "outputWriter.writerow(['spam', 'eggs', 'bacon', 'ham'])\n",
    "outputWriter.writerow(['Hello, world!', 'eggs', 'bacon', 'ham'])\n",
    "outputWriter.writerow([1, 2, 3.141592, 4])\n",
    "outputFile.close()\n",
    "\n"
   ]
  },
  {
   "cell_type": "code",
   "execution_count": null,
   "id": "8008c521-8f5f-4709-8119-fd71a07b57d2",
   "metadata": {},
   "outputs": [],
   "source": [
    "#Ans3\n",
    "File objects in Python can be opened in different modes for reading or writing. The most common modes are:\n",
    "\n",
    "\"r\" (Read Only): This mode is used for reading a file. If the file does not exist, a FileNotFoundError will be raised.\n",
    "\n",
    "\"w\" (Write Only): This mode is used for writing to a file. If the file already exists, its contents will be overwritten. If the file does not exist, a new file will be created.\n",
    "\n",
    "\"a\" (Append Only): This mode is used for appending data to an existing file. If the file does not exist, a new file will be created.\n",
    "\n",
    "\"x\" (Write Only, Exclusive Creation): This mode is used for writing to a file, but only if the file does not already exist. If the file exists, a FileExistsError will be raised.\n",
    "\n",
    "\"b\" (Binary Mode): This mode is used for binary data, such as images or binary files. It can be combined with the other modes to read or write binary data. For example, \"rb\" for reading binary data, and \"wb\" for writing binary data.\n"
   ]
  },
  {
   "cell_type": "code",
   "execution_count": null,
   "id": "f15c9e3d-2ff4-4197-a3f2-979544542bd5",
   "metadata": {},
   "outputs": [],
   "source": [
    "#Ans4\n",
    "The csv module in Python provides a method called writerow that writes a single row to a CSV file. To write a list of rows to a CSV file, you can use a csv.writer object in combination with a for loop. Here's an example:\n",
    "\n",
    "python\n",
    "Copy code\n",
    "import csv\n",
    "\n",
    "# List of rows to write to the CSV file\n",
    "rows = [[\"Name\", \"Age\", \"City\"],\n",
    "        [\"John\", \"30\", \"New York\"],\n",
    "        [\"Jane\", \"25\", \"London\"],\n",
    "        [\"Jim\", \"35\", \"Paris\"]]\n",
    "\n",
    "# Open the CSV file for writing\n",
    "with open(\"people.csv\", \"w\", newline=\"\") as file:\n",
    "    # Create a writer object\n",
    "    writer = csv.writer(file)\n",
    "\n",
    "    # Write each row to the CSV file\n",
    "    for row in rows:\n",
    "        writer.writerow(row)\n",
    "This code opens a file named \"people.csv\" in write mode, creates a csv.writer object, and writes each row in the rows list to the file using the writerow method. The newline argument is used to specify the line ending character, which is important when writing files that will be read on different operating systems.\n"
   ]
  },
  {
   "cell_type": "code",
   "execution_count": null,
   "id": "2e56def2-9b2f-498c-9895-e0bef9382336",
   "metadata": {},
   "outputs": [],
   "source": [
    "#Ans5\n",
    "The delimiter is the character that appears between cells on a row. By default, the delimiter for a CSV file is a comma. The line terminator is the character that comes at the end of a row. By default, the line terminator is a newline."
   ]
  },
  {
   "cell_type": "code",
   "execution_count": null,
   "id": "91dcbfee-798b-4ad2-8b31-e7e44a8ab11e",
   "metadata": {},
   "outputs": [],
   "source": [
    "#Ans6\n",
    "If you have a JSON string, you can parse it by using the json.loads() method. The result will be a Python dictionary."
   ]
  },
  {
   "cell_type": "code",
   "execution_count": null,
   "id": "24d65633-ecd3-4647-a7a2-24ea437d0673",
   "metadata": {},
   "outputs": [],
   "source": [
    "#Ans7\n",
    "If you have a Python object, you can convert it into a JSON string by using the json.dumps() method."
   ]
  }
 ],
 "metadata": {
  "kernelspec": {
   "display_name": "Python 3 (ipykernel)",
   "language": "python",
   "name": "python3"
  },
  "language_info": {
   "codemirror_mode": {
    "name": "ipython",
    "version": 3
   },
   "file_extension": ".py",
   "mimetype": "text/x-python",
   "name": "python",
   "nbconvert_exporter": "python",
   "pygments_lexer": "ipython3",
   "version": "3.10.6"
  }
 },
 "nbformat": 4,
 "nbformat_minor": 5
}
