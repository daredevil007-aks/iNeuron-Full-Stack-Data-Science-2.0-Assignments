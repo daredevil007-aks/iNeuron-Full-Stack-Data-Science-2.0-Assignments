{
 "cells": [
  {
   "cell_type": "code",
   "execution_count": null,
   "id": "d5105962-8bda-42f2-9636-3a4ca4f632cf",
   "metadata": {},
   "outputs": [],
   "source": [
    "#ans1\n",
    "A probability distribution describes how a random variable is distributed.\n",
    "\n",
    "It tells us which values a random variable is most likely to take on and which values are less likely. Based on the previous data and \n",
    "the occurences of the random event, we can predict the outcome in terms of probabilities."
   ]
  },
  {
   "cell_type": "code",
   "execution_count": null,
   "id": "a65d6443-ad2a-4a9e-a9d1-57e29fc0b50a",
   "metadata": {},
   "outputs": [],
   "source": [
    "#ans2\n",
    "True Random Numbers are true physical values while pseudo-random numbers are generated internally by a program . Latter is considered \n",
    "good enough as they have sort of uniform distribution."
   ]
  },
  {
   "cell_type": "code",
   "execution_count": null,
   "id": "f16cceff-d3e2-46d3-b8b3-bb1573c5c9e6",
   "metadata": {},
   "outputs": [],
   "source": [
    "#ans3\n",
    " Normal Probability Distribution are influenced by two factors mean and the variance."
   ]
  },
  {
   "cell_type": "code",
   "execution_count": null,
   "id": "2a0c9585-cb95-4c7d-bccc-85dfab1a6bda",
   "metadata": {},
   "outputs": [],
   "source": [
    "#ans4\n",
    "A Real-life example of a normal distribution are heights or blood pressure measurements"
   ]
  },
  {
   "cell_type": "code",
   "execution_count": null,
   "id": "5d3831d2-fe35-4af1-993c-273947ca3cfc",
   "metadata": {},
   "outputs": [],
   "source": [
    "#ans5\n",
    "Variance will decrease with number of trials"
   ]
  },
  {
   "cell_type": "code",
   "execution_count": null,
   "id": "dfa3b0aa-4d47-4c90-8375-bfee77dddcda",
   "metadata": {},
   "outputs": [],
   "source": [
    "#ans6\n",
    "lists (list), strings (str) and tuples (tuple) objects can be shuffled by using random.shuffle."
   ]
  },
  {
   "cell_type": "code",
   "execution_count": null,
   "id": "81b5102a-5af3-4286-9222-0a3e37d16445",
   "metadata": {},
   "outputs": [],
   "source": [
    "#ans7\n",
    " The Math package's general categories of functions are:\n",
    "\n",
    "Trigonometric functions\n",
    "Quadratic functions\n",
    "Exponential functions\n",
    "Hyperbolic functions\n",
    "Periodic functions\n",
    "Arithmetic functions\n",
    "Logarithimic functions\n",
    "Conversions to Integer"
   ]
  },
  {
   "cell_type": "code",
   "execution_count": null,
   "id": "9edcbbdc-7961-444e-832d-227cd6e00c00",
   "metadata": {},
   "outputs": [],
   "source": [
    "#ans8\n",
    "Exponentiation and logarithms are inverse of each other."
   ]
  },
  {
   "cell_type": "code",
   "execution_count": null,
   "id": "52b71028-2304-4932-bcca-4ff3bf4975f4",
   "metadata": {},
   "outputs": [],
   "source": [
    "#ans9\n",
    "The Three Logarithmic Functions that Python supports are:\n",
    "\n",
    "log2(x) - logarithmic value of x to base 2\n",
    "log10(x) - logarithmic value of x to base 10\n",
    "log1p(a) - This function is used to compute logarithm(1+a) ."
   ]
  }
 ],
 "metadata": {
  "kernelspec": {
   "display_name": "Python 3 (ipykernel)",
   "language": "python",
   "name": "python3"
  },
  "language_info": {
   "codemirror_mode": {
    "name": "ipython",
    "version": 3
   },
   "file_extension": ".py",
   "mimetype": "text/x-python",
   "name": "python",
   "nbconvert_exporter": "python",
   "pygments_lexer": "ipython3",
   "version": "3.10.6"
  }
 },
 "nbformat": 4,
 "nbformat_minor": 5
}
