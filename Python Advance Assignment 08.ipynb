{
 "cells": [
  {
   "cell_type": "code",
   "execution_count": null,
   "id": "0252d97b-97ed-4b3d-9292-4a4d51c41a11",
   "metadata": {},
   "outputs": [],
   "source": [
    "#ans1\n",
    "raise and assert are the two latest user-defined exception constraints in Python 3.X"
   ]
  },
  {
   "cell_type": "code",
   "execution_count": null,
   "id": "c4bbcb78-5ee5-41cf-bdcf-20cc9496a2ed",
   "metadata": {},
   "outputs": [],
   "source": [
    "#ans2\n",
    "In python, Users can define custom exceptions by creating a new class. This exception class has to be derived, either directly or indirectly from built-in Exception class. \n",
    "This new exception class like other exceptions can be raised using the raise statement with an optional error message."
   ]
  },
  {
   "cell_type": "code",
   "execution_count": null,
   "id": "2d48bab7-d628-40bf-83e9-abb3793b975e",
   "metadata": {},
   "outputs": [],
   "source": [
    "#ans3\n",
    "The process() method of LoggerAdapter is where the contextual information is added to the logging output. its passes the message and keyword arguments of the logging call, and it passes \n",
    "back modified versions of these to use in the call to the underlying logger.\n",
    "\n",
    "Other method that can be used is exception(), Logs a messgae with level ERROR on this logger. The arguments are interpreted as for debug(). Exception info is added to the logging message."
   ]
  },
  {
   "cell_type": "code",
   "execution_count": null,
   "id": "81815438-931d-4ca9-8115-c90511d666b2",
   "metadata": {},
   "outputs": [],
   "source": [
    "#ans4\n",
    "raise and assert are two methods for specifying the text of an exception object's error message.raise statement is used to trigger explicit exception, if certain condition is not as per\n",
    "requirement of programmer. it helps in triggering exception as per need of programmer and logic.\n",
    "\n",
    "There are few assertions that programmer always want to be True to avoid code failure. This type of requirment is fullfilled by assert statement. This statement takes a Boolean Condition \n",
    "output of which if True, further program executes. if output of assert statement is False it raises an Assertion Error."
   ]
  },
  {
   "cell_type": "code",
   "execution_count": null,
   "id": "73b3b01d-1ea2-47c2-a613-40a2d6de7d6b",
   "metadata": {},
   "outputs": [],
   "source": [
    "#ans5\n",
    "String-based Exceptions doesn't inherit from Exceptions. so plain exceptions catch all exceptions and not only system"
   ]
  }
 ],
 "metadata": {
  "kernelspec": {
   "display_name": "Python 3 (ipykernel)",
   "language": "python",
   "name": "python3"
  },
  "language_info": {
   "codemirror_mode": {
    "name": "ipython",
    "version": 3
   },
   "file_extension": ".py",
   "mimetype": "text/x-python",
   "name": "python",
   "nbconvert_exporter": "python",
   "pygments_lexer": "ipython3",
   "version": "3.10.6"
  }
 },
 "nbformat": 4,
 "nbformat_minor": 5
}
