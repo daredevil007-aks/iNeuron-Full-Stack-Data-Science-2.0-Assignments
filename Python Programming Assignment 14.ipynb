{
 "cells": [
  {
   "cell_type": "code",
   "execution_count": 30,
   "id": "82bf9182-5aeb-4be0-a8e6-5792d6187ae5",
   "metadata": {},
   "outputs": [],
   "source": [
    "#ans 1\n",
    "class generator:\n",
    "    def __init__(self,number):\n",
    "        self.number = number\n",
    "    def divisible(self):\n",
    "        for i in range(0,self.number+1):\n",
    "            if i % 7 == 0:\n",
    "                print(i)\n",
    "                "
   ]
  },
  {
   "cell_type": "code",
   "execution_count": null,
   "id": "ce72b05e-6b34-4751-94f6-b64f189abd2b",
   "metadata": {},
   "outputs": [],
   "source": [
    "g = generator(350)\n",
    "for i in g.divisible():\n",
    "    print(i,end='')"
   ]
  },
  {
   "cell_type": "code",
   "execution_count": 44,
   "id": "d11bd1c7-2fee-4e5b-836d-3724a32707a7",
   "metadata": {},
   "outputs": [
    {
     "name": "stdout",
     "output_type": "stream",
     "text": [
      "2:2 3:1 3?:1 New:1 Python:5 Read:1 and:1 between:1 choosing:1 or:2 to:1 "
     ]
    }
   ],
   "source": [
    "#ans 2\n",
    "freq = 'New to Python or choosing between Python 2 and Python 3? Read Python 2 or Python 3'\n",
    "count = {}\n",
    "words = list()\n",
    "for i in freq.split(\" \"):\n",
    "    if count.get(i) == None:\n",
    "        count[i] = 1\n",
    "    else:\n",
    "        count[i] += 1\n",
    "for i in sorted(count):\n",
    "    print(f\"{i}:{count[i]}\",end =\" \")"
   ]
  },
  {
   "cell_type": "code",
   "execution_count": 46,
   "id": "9f8d8aaf-4012-411d-8a1b-d5674b76271d",
   "metadata": {},
   "outputs": [
    {
     "name": "stdout",
     "output_type": "stream",
     "text": [
      "MALE\n",
      "FEMALE\n"
     ]
    }
   ],
   "source": [
    "#ans3\n",
    "class person:\n",
    "    def getgender():\n",
    "        pass\n",
    "    \n",
    "class male(person):\n",
    "    def getgender():\n",
    "        print(\"MALE\")\n",
    "\n",
    "class female(person):\n",
    "    def getgender():\n",
    "        print(\"FEMALE\")\n",
    "        \n",
    "male.getgender()\n",
    "female.getgender()"
   ]
  },
  {
   "cell_type": "code",
   "execution_count": 47,
   "id": "aed62a2d-415a-494f-9abf-e556b675efab",
   "metadata": {},
   "outputs": [
    {
     "name": "stdout",
     "output_type": "stream",
     "text": [
      "I Play Hockey\n",
      "I Play Football\n",
      "I Love Hockey\n",
      "I Love Football\n",
      "You Play Hockey\n",
      "You Play Football\n",
      "You Love Hockey\n",
      "You Love Football\n"
     ]
    }
   ],
   "source": [
    "#ans 4\n",
    "subject = ['I','You']\n",
    "verb = ['Play','Love']\n",
    "Object = ['Hockey','Football']\n",
    "for s in subject:\n",
    "    for v in verb:\n",
    "        for t in Object:\n",
    "            print(f\"{s} {v} {t}\")\n",
    "    "
   ]
  },
  {
   "cell_type": "code",
   "execution_count": null,
   "id": "95ce13c3-da46-4c9a-85c7-bfa09f434ac7",
   "metadata": {},
   "outputs": [],
   "source": [
    "#ans5\n",
    "import zlib\n",
    "s = 'hello world!hello world!hello world!hello world!'\n",
    "t = zlib.compress(s)\n",
    "print t\n",
    "print zlib.decompress(t)"
   ]
  },
  {
   "cell_type": "code",
   "execution_count": 49,
   "id": "d9c88bc8-e6cf-42ef-a132-80370ea3234e",
   "metadata": {},
   "outputs": [
    {
     "name": "stdin",
     "output_type": "stream",
     "text": [
      " 9\n"
     ]
    },
    {
     "name": "stdout",
     "output_type": "stream",
     "text": [
      "10\n"
     ]
    }
   ],
   "source": [
    "#ans 6\n",
    "num = [1,2,3,4,5,6,7,8,9,10]\n",
    "ind = int(input())\n",
    "for i in num:\n",
    "    if ind == i:\n",
    "        print(num[i])"
   ]
  },
  {
   "cell_type": "code",
   "execution_count": null,
   "id": "bdb9cafa-636b-4ca4-b19a-762409326ca3",
   "metadata": {},
   "outputs": [],
   "source": []
  }
 ],
 "metadata": {
  "kernelspec": {
   "display_name": "Python 3 (ipykernel)",
   "language": "python",
   "name": "python3"
  },
  "language_info": {
   "codemirror_mode": {
    "name": "ipython",
    "version": 3
   },
   "file_extension": ".py",
   "mimetype": "text/x-python",
   "name": "python",
   "nbconvert_exporter": "python",
   "pygments_lexer": "ipython3",
   "version": "3.10.6"
  }
 },
 "nbformat": 4,
 "nbformat_minor": 5
}
