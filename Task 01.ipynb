{
 "cells": [
  {
   "cell_type": "code",
   "execution_count": 2,
   "id": "ded40a62",
   "metadata": {},
   "outputs": [
    {
     "name": "stdout",
     "output_type": "stream",
     "text": [
      "Enter any string akshat\n",
      "6\n"
     ]
    }
   ],
   "source": [
    "#ans1. \n",
    "string = str(input(\"Enter any string \"))\n",
    "count = 0 \n",
    "\n",
    "for i in string:\n",
    "    count += 1 \n",
    "    \n",
    "print(count)\n"
   ]
  },
  {
   "cell_type": "code",
   "execution_count": 7,
   "id": "11953cf4",
   "metadata": {},
   "outputs": [
    {
     "name": "stdout",
     "output_type": "stream",
     "text": [
      "Your System IP Address is 192.168.29.160\n"
     ]
    }
   ],
   "source": [
    "#ans3.\n",
    "import socket\n",
    "hostname=socket.gethostname()  \n",
    "IPAddr = socket.gethostbyname(hostname)\n",
    "print(\"Your System IP Address is \" + IPAddr)"
   ]
  },
  {
   "cell_type": "code",
   "execution_count": null,
   "id": "b9ef470d",
   "metadata": {},
   "outputs": [],
   "source": [
    "#ans4.\n",
    "import os\n",
    "os.system(\"shutdown /s\")\n"
   ]
  }
 ],
 "metadata": {
  "kernelspec": {
   "display_name": "Python 3 (ipykernel)",
   "language": "python",
   "name": "python3"
  },
  "language_info": {
   "codemirror_mode": {
    "name": "ipython",
    "version": 3
   },
   "file_extension": ".py",
   "mimetype": "text/x-python",
   "name": "python",
   "nbconvert_exporter": "python",
   "pygments_lexer": "ipython3",
   "version": "3.9.12"
  }
 },
 "nbformat": 4,
 "nbformat_minor": 5
}
