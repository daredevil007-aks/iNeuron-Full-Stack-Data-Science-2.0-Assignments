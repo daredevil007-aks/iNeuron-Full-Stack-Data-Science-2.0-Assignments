{
 "cells": [
  {
   "cell_type": "code",
   "execution_count": 16,
   "id": "e8539e98-6b24-4941-b636-42d2ceaafa61",
   "metadata": {},
   "outputs": [
    {
     "name": "stdin",
     "output_type": "stream",
     "text": [
      "enter a list 1,23,45,67,9\n",
      "number to be added 10\n"
     ]
    },
    {
     "name": "stdout",
     "output_type": "stream",
     "text": [
      "[23, 45, 67, 9, 10]\n"
     ]
    }
   ],
   "source": [
    "#ans1\n",
    "def next_in_line(numbers_list,next_number):\n",
    "    if type(next_number) == int:\n",
    "        numbers_list.remove(numbers_list[0])\n",
    "        numbers_list.append(next_number)\n",
    "        print(numbers_list)\n",
    "\n",
    "next_in_line(list(map(int,input(\"enter a list\").split(','))),int(input(\"number to be added\")))\n"
   ]
  },
  {
   "cell_type": "code",
   "execution_count": 80,
   "id": "7a2cb936-e5ce-44ef-9f13-3ee1445e6246",
   "metadata": {},
   "outputs": [
    {
     "name": "stdout",
     "output_type": "stream",
     "text": [
      "65700\n"
     ]
    }
   ],
   "source": [
    "#ans2\n",
    "def final_sum(l):\n",
    "    final_value = 0\n",
    "    for i in l:\n",
    "        final_value += i[\"budget\"]\n",
    "    print(final_value)\n",
    "    \n",
    "final_sum([\n",
    "{ \"name\": \"John\", \"age\": 21, \"budget\": 23000 },\n",
    "{ \"name\": \"Steve\", \"age\": 32, \"budget\": 40000 },\n",
    "{ \"name\": \"Martin\", \"age\": 16, \"budget\": 2700 }\n",
    "])"
   ]
  },
  {
   "cell_type": "code",
   "execution_count": 26,
   "id": "f8ad24de-a94d-43a0-bf29-3ccb30f59f30",
   "metadata": {},
   "outputs": [
    {
     "name": "stdin",
     "output_type": "stream",
     "text": [
      " akshat\n"
     ]
    },
    {
     "data": {
      "text/plain": [
       "'alphabet_soup(\"akshat\") ~ aahkst'"
      ]
     },
     "execution_count": 26,
     "metadata": {},
     "output_type": "execute_result"
    }
   ],
   "source": [
    "#ans3\n",
    "def rearrange(random):\n",
    "    arranged_alphabets = ''.join(sorted(random))\n",
    "    return f'alphabet_soup(\"{random}\") ~ {arranged_alphabets}'\n",
    "\n",
    "rearrange(str(input()))\n"
   ]
  },
  {
   "cell_type": "code",
   "execution_count": 53,
   "id": "65fce2cf-44ce-4ad7-8c4d-025615817eae",
   "metadata": {},
   "outputs": [
    {
     "name": "stdout",
     "output_type": "stream",
     "text": [
      "105.00\n"
     ]
    }
   ],
   "source": [
    "#ans4\n",
    "def compound_int(principal, year, rate, periods):\n",
    "    ci = (1+rate/periods)**(periods*year)\n",
    "    compund = principal*ci\n",
    "    print(f'{compund:.2f}')\n",
    "\n",
    "compound_int(100, 1, 0.05, 1)"
   ]
  },
  {
   "cell_type": "code",
   "execution_count": 4,
   "id": "54e6c1d1-22ca-4178-9f66-f7e149b12a1e",
   "metadata": {},
   "outputs": [
    {
     "data": {
      "text/plain": [
       "\"[9, 2, 'akshat', 'ytt'] ~ [9, 2]\""
      ]
     },
     "execution_count": 4,
     "metadata": {},
     "output_type": "execute_result"
    }
   ],
   "source": [
    "#ans5 \n",
    "def return_only_integer(l):\n",
    "    integer = []\n",
    "    for i in l:\n",
    "        if type(i) == int:\n",
    "            integer.append(i)\n",
    "    return f'{l} ~ {integer}'\n",
    "\n",
    "return_only_integer([9,2,'akshat','ytt'])"
   ]
  }
 ],
 "metadata": {
  "kernelspec": {
   "display_name": "Python 3 (ipykernel)",
   "language": "python",
   "name": "python3"
  },
  "language_info": {
   "codemirror_mode": {
    "name": "ipython",
    "version": 3
   },
   "file_extension": ".py",
   "mimetype": "text/x-python",
   "name": "python",
   "nbconvert_exporter": "python",
   "pygments_lexer": "ipython3",
   "version": "3.10.6"
  }
 },
 "nbformat": 4,
 "nbformat_minor": 5
}
