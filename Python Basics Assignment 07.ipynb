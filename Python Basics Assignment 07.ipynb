{
 "cells": [
  {
   "cell_type": "code",
   "execution_count": null,
   "id": "1d617895",
   "metadata": {},
   "outputs": [],
   "source": [
    "Ans1.\n",
    "The re.compile() function returns Regex objects."
   ]
  },
  {
   "cell_type": "code",
   "execution_count": null,
   "id": "587fe1d0",
   "metadata": {},
   "outputs": [],
   "source": [
    "Ans2.\n",
    "Raw strings are used so that backslashes do not have to be escaped."
   ]
  },
  {
   "cell_type": "code",
   "execution_count": null,
   "id": "63c628d6",
   "metadata": {},
   "outputs": [],
   "source": [
    "Ans3.\n",
    "The search() method returns Match objects."
   ]
  },
  {
   "cell_type": "code",
   "execution_count": null,
   "id": "665f4315",
   "metadata": {},
   "outputs": [],
   "source": [
    "Ans4.\n",
    "The group() method returns strings of the matched text."
   ]
  },
  {
   "cell_type": "code",
   "execution_count": null,
   "id": "08d8f757",
   "metadata": {},
   "outputs": [],
   "source": [
    "Ans5.\n",
    "Group 0 is the entire match, group 1 covers the first set of parentheses, and group 2 covers the second set of parentheses."
   ]
  },
  {
   "cell_type": "code",
   "execution_count": null,
   "id": "fe7b5b69",
   "metadata": {},
   "outputs": [],
   "source": [
    "Ans6.\n",
    "Periods and parentheses can be escaped with a backslash: \\., \\(, and \\)."
   ]
  },
  {
   "cell_type": "code",
   "execution_count": null,
   "id": "9e99a5d0",
   "metadata": {},
   "outputs": [],
   "source": [
    "Ans7.\n",
    "If the regex has no groups, a list of strings is returned. If the regex has groups, a list of tuples of strings is returned."
   ]
  },
  {
   "cell_type": "code",
   "execution_count": null,
   "id": "e72a1efd",
   "metadata": {},
   "outputs": [],
   "source": [
    "Ans8.\n",
    "The | character signifies matching \"either, or\" between two groups."
   ]
  },
  {
   "cell_type": "code",
   "execution_count": null,
   "id": "a28937db",
   "metadata": {},
   "outputs": [],
   "source": [
    "Ans9.\n",
    "The ? character can either mean \"match zero or one of the preceding group\" or be used to signify nongreedy matching."
   ]
  },
  {
   "cell_type": "code",
   "execution_count": null,
   "id": "43fe0c00",
   "metadata": {},
   "outputs": [],
   "source": [
    "Ans10.\n",
    "The + matches one or more. The * matches zero or more."
   ]
  },
  {
   "cell_type": "code",
   "execution_count": null,
   "id": "892677bb",
   "metadata": {},
   "outputs": [],
   "source": [
    "Ans11.\n",
    "The {4} matches exactly three instances of the preceding group. The {4,5} matches between three and five instances."
   ]
  },
  {
   "cell_type": "code",
   "execution_count": null,
   "id": "e6cc12e8",
   "metadata": {},
   "outputs": [],
   "source": [
    "Ans12.\n",
    "The \\d, \\w, and \\s shorthand character classes match a single digit, word, or space character, respectively."
   ]
  },
  {
   "cell_type": "code",
   "execution_count": null,
   "id": "e738a371",
   "metadata": {},
   "outputs": [],
   "source": [
    "Ans13.\n",
    "The \\D, \\W, and \\S shorthand character classes match a single character that is not a digit, word, or space character, respectively."
   ]
  },
  {
   "cell_type": "code",
   "execution_count": null,
   "id": "e178ecb5",
   "metadata": {},
   "outputs": [],
   "source": [
    "Ans14.\n",
    "The . performs a greedy match, and the .? performs a nongreedy match."
   ]
  },
  {
   "cell_type": "code",
   "execution_count": null,
   "id": "60e7e39b",
   "metadata": {},
   "outputs": [],
   "source": [
    "Ans15.\n",
    "Either [0-9a-z] or [a-z0-9]"
   ]
  },
  {
   "cell_type": "code",
   "execution_count": null,
   "id": "387ae575",
   "metadata": {},
   "outputs": [],
   "source": [
    "Ans16.\n",
    "Passing re.I or re.IGNORECASE as the second argument to re.compile() will make the matching case insensitive."
   ]
  },
  {
   "cell_type": "code",
   "execution_count": null,
   "id": "fbcc9357",
   "metadata": {},
   "outputs": [],
   "source": [
    "Ans17.\n",
    "The . character normally matches any character except the newline character. If re.DOTALL is passed as the second argument to re.compile(), then the dot will also match newline characters."
   ]
  },
  {
   "cell_type": "code",
   "execution_count": null,
   "id": "8ed28310",
   "metadata": {},
   "outputs": [],
   "source": [
    "Ans18.\n",
    "'X drummers, X pipers, five rings, X hens'"
   ]
  },
  {
   "cell_type": "code",
   "execution_count": null,
   "id": "4478c892",
   "metadata": {},
   "outputs": [],
   "source": [
    "Ans19.\n",
    "The re.VERBOSE argument allows you to add whitespace and comments to the string passed to re.compile()."
   ]
  },
  {
   "cell_type": "code",
   "execution_count": null,
   "id": "e609bba3",
   "metadata": {},
   "outputs": [],
   "source": [
    "Ans20.\n",
    "re.compile(r'^\\d{1,3}(,\\d{3})*$') will create this regex, but other regex strings can produce a similar regular expression."
   ]
  },
  {
   "cell_type": "code",
   "execution_count": null,
   "id": "6a2cf886",
   "metadata": {},
   "outputs": [],
   "source": [
    "Ans21.\n",
    "re.compile(r'[A-Z][a-z]*\\sNakamoto')"
   ]
  },
  {
   "cell_type": "code",
   "execution_count": null,
   "id": "9a6b18d7",
   "metadata": {},
   "outputs": [],
   "source": [
    "Ans22.\n",
    "re.compile(r'(Alice|Bob|Carol)\\s(eats|pets|throws)\\s(apples|cats|baseballs)\\.', re.IGNORECASE)"
   ]
  }
 ],
 "metadata": {
  "kernelspec": {
   "display_name": "Python 3 (ipykernel)",
   "language": "python",
   "name": "python3"
  },
  "language_info": {
   "codemirror_mode": {
    "name": "ipython",
    "version": 3
   },
   "file_extension": ".py",
   "mimetype": "text/x-python",
   "name": "python",
   "nbconvert_exporter": "python",
   "pygments_lexer": "ipython3",
   "version": "3.9.12"
  }
 },
 "nbformat": 4,
 "nbformat_minor": 5
}
