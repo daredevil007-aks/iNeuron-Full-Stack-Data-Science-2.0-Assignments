{
 "cells": [
  {
   "cell_type": "code",
   "execution_count": null,
   "id": "fd3c013a-0ff8-4e54-91ec-869c602eda46",
   "metadata": {},
   "outputs": [],
   "source": [
    "#ans1\n",
    " Object-oriented programming is a programming paradigm that provides a means of structuring programs so that properties and behaviors are bundled into individual objects\n",
    "\n",
    "*In Python, object-oriented Programming (OOPs) uses objects and classes in programming.\n",
    "*It aims to implement real-world entities like inheritance, polymorphisms, encapsulation, etc. in the programming.\n",
    "*The main concept of OOPs is to bind the data and the functions that work on that together as a single unit so that no other part of the code can access this data.\n",
    "*It comes up with the following advantages:\n",
    "*It helps to divide our over all program into different small segments and thus making it solving easy with the use of objects\n",
    "*Helps in easy maintenance and modification of existing program\n",
    "*Multiple instances of an object can be made."
   ]
  },
  {
   "cell_type": "code",
   "execution_count": null,
   "id": "47bc4495-6195-4c5c-9413-5a5471bacc42",
   "metadata": {},
   "outputs": [],
   "source": [
    "#ans2 \n",
    "Python searches for an attribute in an upward tree of attributes. it first searches for the attribute in its instance and then looks in the class it is generated from, to all super classes listed in its class header"
   ]
  },
  {
   "cell_type": "code",
   "execution_count": null,
   "id": "1bb949c8-ba41-43e0-bd19-07a3edf691d2",
   "metadata": {},
   "outputs": [],
   "source": [
    "#ans3\n",
    " The differences between a class object and an instance object are:\n",
    "\n",
    "1.Class is a template for creating objects whereas object is an instance of class\n",
    "2.Seperate memory is allocated for each object whenever an object is created. but for a class this doesnot happens.\n",
    "3.A Class is created once. Many objects are created using a class.\n",
    "4.As Classes have no allocated memory. they can't be manipulated. but objects can be manipulated."
   ]
  },
  {
   "cell_type": "code",
   "execution_count": null,
   "id": "dc49a305-be9b-4584-9e29-d36bda9b26d6",
   "metadata": {},
   "outputs": [],
   "source": [
    "#ans4\n",
    "Python Classes usually have three types of methods which are:\n",
    "\n",
    "1.Instance Methods (object level methods)\n",
    "2.Class Methods (class level methods)\n",
    "3.Static Methods (general utility methods)\n",
    "4.self is the first argument for instance methods. which refers to the object itself\n",
    "5.cls is the first argument for class methods which refers to the class itself"
   ]
  },
  {
   "cell_type": "code",
   "execution_count": null,
   "id": "863bd6fb-c4d4-4edc-a12a-96f5f47c0840",
   "metadata": {},
   "outputs": [],
   "source": [
    "#ans5\n",
    "__init__ is a reseved method in python classes. It serves the role of a constructor in object oriented terminology. This method is called when an object is created from a class and it allows the class to initialize the attributes of the class"
   ]
  },
  {
   "cell_type": "code",
   "execution_count": null,
   "id": "98827068-672e-4b41-bdf7-9b2ec57b1b06",
   "metadata": {},
   "outputs": [],
   "source": [
    "#ans6\n",
    "To create a class instance, we need to call the class by its name and pass the arguments to the class, which its init method accepts."
   ]
  },
  {
   "cell_type": "code",
   "execution_count": null,
   "id": "22ac90bf-0049-4569-ab75-9e69c487922d",
   "metadata": {},
   "outputs": [],
   "source": [
    "#ans7\n",
    "class keyword is used to created a class in python. The syntax to create a class in python is class <classname>:"
   ]
  },
  {
   "cell_type": "code",
   "execution_count": null,
   "id": "e1875048-5699-4347-acc2-c1d579c307d1",
   "metadata": {},
   "outputs": [],
   "source": [
    "#ans8\n",
    " Superclass/Parent class is given as a arugment to the child class\n",
    "\n",
    "Example: class Employee(Person): Here child class Employee inherits attributes and methofs from Superclass/Parent Person"
   ]
  }
 ],
 "metadata": {
  "kernelspec": {
   "display_name": "Python 3 (ipykernel)",
   "language": "python",
   "name": "python3"
  },
  "language_info": {
   "codemirror_mode": {
    "name": "ipython",
    "version": 3
   },
   "file_extension": ".py",
   "mimetype": "text/x-python",
   "name": "python",
   "nbconvert_exporter": "python",
   "pygments_lexer": "ipython3",
   "version": "3.10.6"
  }
 },
 "nbformat": 4,
 "nbformat_minor": 5
}
