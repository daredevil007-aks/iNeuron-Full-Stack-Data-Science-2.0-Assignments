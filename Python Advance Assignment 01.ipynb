{
 "cells": [
  {
   "cell_type": "code",
   "execution_count": null,
   "id": "fd3c013a-0ff8-4e54-91ec-869c602eda46",
   "metadata": {},
   "outputs": [],
   "source": [
    "#ans1\n",
    " Object-oriented programming is a programming paradigm that provides a means of structuring programs so that properties and behaviors are bundled into individual objects\n",
    "\n",
    "*In Python, object-oriented Programming (OOPs) uses objects and classes in programming.\n",
    "*It aims to implement real-world entities like inheritance, polymorphisms, encapsulation, etc. in the programming.\n",
    "*The main concept of OOPs is to bind the data and the functions that work on that together as a single unit so that no other part of the code can access this data.\n",
    "*It comes up with the following advantages:\n",
    "*It helps to divide our over all program into different small segments and thus making it solving easy with the use of objects\n",
    "*Helps in easy maintenance and modification of existing program\n",
    "*Multiple instances of an object can be made."
   ]
  },
  {
   "cell_type": "code",
   "execution_count": null,
   "id": "47bc4495-6195-4c5c-9413-5a5471bacc42",
   "metadata": {},
   "outputs": [],
   "source": [
    "#ans2 \n",
    "Python searches for an attribute in an upward tree of attributes. it first searches for the attribute in its instance and then looks in the class it is generated from, to all super classes listed in its class header"
   ]
  },
  {
   "cell_type": "code",
   "execution_count": null,
   "id": "1bb949c8-ba41-43e0-bd19-07a3edf691d2",
   "metadata": {},
   "outputs": [],
   "source": [
    "#ans3\n"
   ]
  },
  {
   "cell_type": "code",
   "execution_count": null,
   "id": "dc49a305-be9b-4584-9e29-d36bda9b26d6",
   "metadata": {},
   "outputs": [],
   "source": []
  },
  {
   "cell_type": "code",
   "execution_count": null,
   "id": "863bd6fb-c4d4-4edc-a12a-96f5f47c0840",
   "metadata": {},
   "outputs": [],
   "source": []
  }
 ],
 "metadata": {
  "kernelspec": {
   "display_name": "Python 3 (ipykernel)",
   "language": "python",
   "name": "python3"
  },
  "language_info": {
   "codemirror_mode": {
    "name": "ipython",
    "version": 3
   },
   "file_extension": ".py",
   "mimetype": "text/x-python",
   "name": "python",
   "nbconvert_exporter": "python",
   "pygments_lexer": "ipython3",
   "version": "3.10.6"
  }
 },
 "nbformat": 4,
 "nbformat_minor": 5
}
