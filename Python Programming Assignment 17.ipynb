{
 "cells": [
  {
   "cell_type": "code",
   "execution_count": 78,
   "id": "30a51b4e-c54e-4540-b140-9b52773f113f",
   "metadata": {},
   "outputs": [
    {
     "name": "stdin",
     "output_type": "stream",
     "text": [
      " 1,10,2\n"
     ]
    },
    {
     "data": {
      "text/plain": [
       "'evenly_divisible (1,10,2) ➞ 30'"
      ]
     },
     "execution_count": 78,
     "metadata": {},
     "output_type": "execute_result"
    }
   ],
   "source": [
    "#ans1\n",
    "def num(i):\n",
    "    starting_range = i[0]\n",
    "    end_range = i[1]+1\n",
    "    dividing_range = i[2]\n",
    "    sum_1 = 0\n",
    "    for dividend in range (starting_range,end_range):\n",
    "        if dividend%dividing_range == 0:\n",
    "            sum_1 += dividend\n",
    "    return f\"evenly_divisible ({starting_range},{end_range-1},{dividing_range}) ➞ {sum_1}\"\n",
    "        \n",
    "\n",
    "num(list(map(int,input().split(','))))"
   ]
  },
  {
   "cell_type": "code",
   "execution_count": 77,
   "id": "b93b9294-a35c-4938-956d-680f4ba80b9e",
   "metadata": {},
   "outputs": [
    {
     "name": "stdin",
     "output_type": "stream",
     "text": [
      "Enter the inequality:  33>4\n"
     ]
    },
    {
     "name": "stdout",
     "output_type": "stream",
     "text": [
      "33>4 ➞ True\n"
     ]
    }
   ],
   "source": [
    "#ans2\n",
    "def checkEquality():\n",
    "    in_string = input('Enter the inequality: ')\n",
    "    out_bool = eval(in_string)\n",
    "    print(f'{in_string} ➞ {out_bool}')\n",
    "    \n",
    "checkEquality()\n"
   ]
  },
  {
   "cell_type": "code",
   "execution_count": 31,
   "id": "215a7ee2-a16c-4a5f-b49d-1e861626c4c3",
   "metadata": {},
   "outputs": [
    {
     "name": "stdin",
     "output_type": "stream",
     "text": [
      " the vslfaaae\n",
      " #\n"
     ]
    },
    {
     "name": "stdout",
     "output_type": "stream",
     "text": [
      "\"the vslfaaae\", \"#\" ➞ \"th# vslf####\"\n"
     ]
    }
   ],
   "source": [
    "#ans3\n",
    "def replace_1():\n",
    "    string_1 = str(input())\n",
    "    str_copy = string_1\n",
    "    char = str(input())\n",
    "    vowels = ['a','e','i','o','u']\n",
    "    for i in vowels:\n",
    "        if i in string_1:\n",
    "            string_1 = string_1.replace(i,char)\n",
    "                                       \n",
    "    print(f'\"{str_copy}\", \"{char}\" ➞ \"{string_1}\"')\n",
    "replace_1()"
   ]
  },
  {
   "cell_type": "code",
   "execution_count": 3,
   "id": "0184012f-11cb-4b56-92b8-f0634c108f76",
   "metadata": {},
   "outputs": [
    {
     "name": "stdin",
     "output_type": "stream",
     "text": [
      "Enter the number for which the factorial needs to be calculated:  5\n"
     ]
    },
    {
     "name": "stdout",
     "output_type": "stream",
     "text": [
      "120\n"
     ]
    }
   ],
   "source": [
    "#ans 4\n",
    "n = int (input (\"Enter the number for which the factorial needs to be calculated: \"))\n",
    "\n",
    "def rec_fact (n):\n",
    "    if n == 1:\n",
    "        return n\n",
    "    elif n < 1:\n",
    "        return (\"Wrong input\")\n",
    "    else:\n",
    "        return n*rec_fact (n-1)\n",
    "\n",
    "print (rec_fact (n))"
   ]
  },
  {
   "cell_type": "code",
   "execution_count": 36,
   "id": "87775ddd-a780-4e59-9e31-afb68ba20b09",
   "metadata": {},
   "outputs": [
    {
     "name": "stdin",
     "output_type": "stream",
     "text": [
      " abcd\n",
      " adcv\n"
     ]
    },
    {
     "name": "stdout",
     "output_type": "stream",
     "text": [
      "Hamming distance b/w abcd and adcv ➞ 2\n"
     ]
    }
   ],
   "source": [
    "#ans 5\n",
    "def hamming():\n",
    "    a = input()\n",
    "    b = input()\n",
    "    if len(a) == len(b):\n",
    "        count = 0\n",
    "        for i in range(len(a)):\n",
    "            if a[i] != b[i]:\n",
    "                count+= 1\n",
    "        print( f\"Hamming distance b/w {a} and {b} ➞ {count}\")\n",
    "    else:\n",
    "                print( f\"nothing hamming\")\n",
    "hamming()"
   ]
  },
  {
   "cell_type": "code",
   "execution_count": null,
   "id": "62e75ca1-4bba-469d-b22c-57f71809956a",
   "metadata": {},
   "outputs": [],
   "source": []
  }
 ],
 "metadata": {
  "kernelspec": {
   "display_name": "Python 3 (ipykernel)",
   "language": "python",
   "name": "python3"
  },
  "language_info": {
   "codemirror_mode": {
    "name": "ipython",
    "version": 3
   },
   "file_extension": ".py",
   "mimetype": "text/x-python",
   "name": "python",
   "nbconvert_exporter": "python",
   "pygments_lexer": "ipython3",
   "version": "3.10.6"
  }
 },
 "nbformat": 4,
 "nbformat_minor": 5
}
