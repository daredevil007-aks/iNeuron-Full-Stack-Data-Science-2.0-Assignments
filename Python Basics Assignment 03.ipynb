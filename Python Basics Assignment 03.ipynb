{
 "cells": [
  {
   "cell_type": "code",
   "execution_count": null,
   "id": "49e5c64e",
   "metadata": {},
   "outputs": [],
   "source": [
    "Ans1.\n",
    "Functions reduce the need for duplicate code. This makes programs shorter, easier to read, and easier to update."
   ]
  },
  {
   "cell_type": "code",
   "execution_count": null,
   "id": "d8a31057",
   "metadata": {},
   "outputs": [],
   "source": [
    "Ans2.\n",
    "The code in a function executes when the function is called, not when the function is defined."
   ]
  },
  {
   "cell_type": "code",
   "execution_count": null,
   "id": "04d5d952",
   "metadata": {},
   "outputs": [],
   "source": [
    "Ans3.\n",
    "The def statement defines (that is, creates) a function."
   ]
  },
  {
   "cell_type": "code",
   "execution_count": null,
   "id": "415cb058",
   "metadata": {},
   "outputs": [],
   "source": [
    "Ans4.\n",
    "A function consists of the def statement and the code in its def clause.\n",
    "\n",
    "A function call is what moves the program execution into the function, and the function call evaluates to the function's return value."
   ]
  },
  {
   "cell_type": "code",
   "execution_count": null,
   "id": "f5ed3357",
   "metadata": {},
   "outputs": [],
   "source": [
    "Ans5.\n",
    "There is one global scope, and a local scope is created whenever a function is called."
   ]
  },
  {
   "cell_type": "markdown",
   "id": "5513fffa",
   "metadata": {},
   "source": [
    "Ans6.\n",
    "When a function returns, the local scope is destroyed, and all the variables in it are forgotten."
   ]
  },
  {
   "cell_type": "code",
   "execution_count": null,
   "id": "d111e8bd",
   "metadata": {},
   "outputs": [],
   "source": [
    "Ans7.\n",
    "A return value is the value that a function call evaluates to. Like any value, a return value can be used as part of an expression."
   ]
  },
  {
   "cell_type": "code",
   "execution_count": null,
   "id": "b115bb8c",
   "metadata": {},
   "outputs": [],
   "source": [
    "Ans8.\n",
    "If there is no return statement for a function, its return value is None."
   ]
  },
  {
   "cell_type": "code",
   "execution_count": null,
   "id": "aaef8a64",
   "metadata": {},
   "outputs": [],
   "source": [
    "Ans9.\n",
    "A global statement will force a variable in a function to refer to the global variable.\n"
   ]
  },
  {
   "cell_type": "code",
   "execution_count": null,
   "id": "898368c4",
   "metadata": {},
   "outputs": [],
   "source": [
    "Ans10.\n",
    "The data type of None is NoneType."
   ]
  },
  {
   "cell_type": "code",
   "execution_count": null,
   "id": "244ce52a",
   "metadata": {},
   "outputs": [],
   "source": [
    "Ans11.\n",
    "That import statement imports a module named areallyourpetsnamederic. (This isn't a real Python module, by the way.)"
   ]
  },
  {
   "cell_type": "code",
   "execution_count": null,
   "id": "9907fd23",
   "metadata": {},
   "outputs": [],
   "source": [
    "Ans12.\n",
    "This function can be called with spam.bacon()."
   ]
  },
  {
   "cell_type": "markdown",
   "id": "6ed20698",
   "metadata": {},
   "source": [
    "Ans13.\n",
    "Place the line of code that might cause an error in a try clause."
   ]
  },
  {
   "cell_type": "code",
   "execution_count": null,
   "id": "8442c4ad",
   "metadata": {},
   "outputs": [],
   "source": [
    "Ans14.\n",
    "The code that could potentially cause an error goes in the try clause.\n",
    "\n",
    "The code that executes if an error happens goes in the except clause."
   ]
  }
 ],
 "metadata": {
  "kernelspec": {
   "display_name": "Python 3 (ipykernel)",
   "language": "python",
   "name": "python3"
  },
  "language_info": {
   "codemirror_mode": {
    "name": "ipython",
    "version": 3
   },
   "file_extension": ".py",
   "mimetype": "text/x-python",
   "name": "python",
   "nbconvert_exporter": "python",
   "pygments_lexer": "ipython3",
   "version": "3.9.12"
  }
 },
 "nbformat": 4,
 "nbformat_minor": 5
}
