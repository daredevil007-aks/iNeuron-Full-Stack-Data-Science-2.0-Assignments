{
 "cells": [
  {
   "cell_type": "code",
   "execution_count": 7,
   "id": "1b0b3665-e113-4fe4-9342-ff1ec74c0377",
   "metadata": {},
   "outputs": [
    {
     "name": "stdout",
     "output_type": "stream",
     "text": [
      "2023-02-01 09:59:58.442620\n"
     ]
    }
   ],
   "source": [
    "#ans 1\n",
    "import datetime\n",
    "dt = str(datetime.datetime.now())\n",
    "print(dt)\n",
    "    \n",
    "with open(\"names.txt\", \"w\") as file:\n",
    "        file.write(dt)\n",
    "\n"
   ]
  },
  {
   "cell_type": "code",
   "execution_count": 10,
   "id": "d9289d16-ea14-47b1-a5ad-8fa34d3887c0",
   "metadata": {},
   "outputs": [
    {
     "name": "stdout",
     "output_type": "stream",
     "text": [
      "['2023-02-01 09:59:58.442620']\n"
     ]
    }
   ],
   "source": [
    "#ans 2\n",
    "with open(\"names.txt\", \"r\") as file:\n",
    "    lines = file.readlines()\n",
    "    print(lines)"
   ]
  },
  {
   "cell_type": "code",
   "execution_count": null,
   "id": "40aa4215-a1c3-4a70-a235-1108834a09bb",
   "metadata": {},
   "outputs": [],
   "source": [
    "#ans 3 \n",
    "from datetime import datetime\n",
    "parsed_data = datetime.strptime(names, '%d-%m-%Y')\n",
    "print(parsed_data)"
   ]
  },
  {
   "cell_type": "code",
   "execution_count": null,
   "id": "0640ff64-c076-4113-b799-97ff4931c733",
   "metadata": {},
   "outputs": [],
   "source": [
    "#ans 4\n",
    "import os\n",
    "for folders, subfolders, files in os.walk(os.getcwd()):\n",
    "    for file in files:\n",
    "        print(file)"
   ]
  },
  {
   "cell_type": "code",
   "execution_count": null,
   "id": "f29937a9-4ea9-4ee3-a9b1-6039ff26322a",
   "metadata": {},
   "outputs": [],
   "source": [
    "#ans 5\n",
    "import os \n",
    "os.listdir()"
   ]
  },
  {
   "cell_type": "code",
   "execution_count": null,
   "id": "6e4ba4e4-0037-4c44-a063-85d6629a6850",
   "metadata": {},
   "outputs": [],
   "source": [
    "#ans 6\n",
    "import multiprocessing\n",
    "import time \n",
    "import random\n",
    "import datetime\n",
    "\n",
    "def procOne():\n",
    "    print(f'Proc_one_Starttime -> {datetime.datetime.now()}')\n",
    "    time.sleep(random.randint(1,5))\n",
    "    print(f'Proc_one_Endtime -> {datetime.datetime.now()}')\n",
    "    \n",
    "def procTwo():\n",
    "    print(f'Proc_two_Starttime -> {datetime.datetime.now()}')\n",
    "    time.sleep(random.randint(1,5))\n",
    "    print(f'Proc_two_Endtime -> {datetime.datetime.now()}')\n",
    "\n",
    "def procThree():\n",
    "    print(f'Proc_two_Starttime -> {datetime.datetime.now()}')\n",
    "    time.sleep(random.randint(1,5))\n",
    "    print(f'Proc_two_Endtime -> {datetime.datetime.now()}')\n",
    "    \n",
    "if __name__ == \"__main__\":    \n",
    "    p1 = multiprocessing.Process(target=procOne)\n",
    "    p2 = multiprocessing.Process(target=procTwo)\n",
    "    p3 = multiprocessing.Process(target=procThree)\n",
    "\n",
    "    p1.start()\n",
    "    p2.start()\n",
    "    p3.start()\n",
    "\n",
    "    p1.join()\n",
    "    p2.join()\n",
    "    p3.join()"
   ]
  },
  {
   "cell_type": "code",
   "execution_count": null,
   "id": "0bb33c0b-a398-4a1a-9790-2ee7c5f9d4f9",
   "metadata": {},
   "outputs": [],
   "source": [
    "#ans 7\n",
    "from datetime import datetime\n",
    "my_dob = datetime.strptime('22/04/1997','%d/%m/%Y')\n",
    "print(my_dob, type(my_dob))"
   ]
  },
  {
   "cell_type": "code",
   "execution_count": null,
   "id": "425dee43-b21f-4ce4-a744-f860b72ed3cb",
   "metadata": {},
   "outputs": [],
   "source": [
    "#ans 8 \n",
    "from datetime import datetime\n",
    "my_dob = datetime(1997,4,22)\n",
    "my_dob.strftime(\"%A\")"
   ]
  },
  {
   "cell_type": "code",
   "execution_count": null,
   "id": "b33ab508-b2c2-4f6e-9062-12cb1d14e295",
   "metadata": {},
   "outputs": [],
   "source": [
    "#ans 9\n",
    "from datetime import datetime, timedelta\n",
    "my_dob = datetime.strptime(\"22/04/1997\",'%d/%m/%Y')\n",
    "future_date = my_dob-timedelta(10000)\n",
    "future_date"
   ]
  }
 ],
 "metadata": {
  "kernelspec": {
   "display_name": "Python 3 (ipykernel)",
   "language": "python",
   "name": "python3"
  },
  "language_info": {
   "codemirror_mode": {
    "name": "ipython",
    "version": 3
   },
   "file_extension": ".py",
   "mimetype": "text/x-python",
   "name": "python",
   "nbconvert_exporter": "python",
   "pygments_lexer": "ipython3",
   "version": "3.10.6"
  }
 },
 "nbformat": 4,
 "nbformat_minor": 5
}
