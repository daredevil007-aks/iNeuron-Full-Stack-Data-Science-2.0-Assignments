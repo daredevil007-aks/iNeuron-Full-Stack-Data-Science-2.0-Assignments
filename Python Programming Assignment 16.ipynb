{
 "cells": [
  {
   "cell_type": "code",
   "execution_count": 45,
   "id": "1f8682a9-d5b6-4f72-b5d9-02d27fdfaea5",
   "metadata": {},
   "outputs": [
    {
     "name": "stdin",
     "output_type": "stream",
     "text": [
      " ahsa\n"
     ]
    },
    {
     "name": "stdout",
     "output_type": "stream",
     "text": [
      "stutter(\"ahsa\") ➞ \"ah... ah... ahsa?\"\n"
     ]
    }
   ],
   "source": [
    "#ans 1\n",
    "def stutter(string):\n",
    "    print(f'stutter(\"{string}\") ➞ \"{string[0:2]}... {string[0:2]}... {string}?\"')\n",
    "\n",
    "stutter(str(input()))"
   ]
  },
  {
   "cell_type": "code",
   "execution_count": 42,
   "id": "fc0238ed-722c-44e7-aa66-1710972261f7",
   "metadata": {},
   "outputs": [
    {
     "name": "stdin",
     "output_type": "stream",
     "text": [
      " 22\n"
     ]
    },
    {
     "name": "stdout",
     "output_type": "stream",
     "text": [
      "radians_to_degrees(22) ➞ 1260.5\n"
     ]
    }
   ],
   "source": [
    "#ans 2\n",
    "import math\n",
    "def radian(rad):\n",
    "    out = (180/math.pi)*rad\n",
    "    out = round(out,1)\n",
    "    print(f'radians_to_degrees({rad}) ➞ {out}')\n",
    "    \n",
    "radian(int(input()))"
   ]
  },
  {
   "cell_type": "code",
   "execution_count": 41,
   "id": "4dcc480d-4707-48d8-9138-ad00e596ba0d",
   "metadata": {},
   "outputs": [
    {
     "name": "stdin",
     "output_type": "stream",
     "text": [
      " 55\n"
     ]
    },
    {
     "name": "stdout",
     "output_type": "stream",
     "text": [
      "is_curzon(55) ➞ False\n"
     ]
    }
   ],
   "source": [
    "#ans 3\n",
    "def Curzon(l):\n",
    "    divi = (2**l)+1 \n",
    "    divi_2 = ((2*l)+1) \n",
    "    if divi%divi_2 ==0:\n",
    "        print(f'is_curzon({l}) ➞ True')\n",
    "    else:\n",
    "        print(f'is_curzon({l}) ➞ False')\n",
    "Curzon(int(input()))"
   ]
  },
  {
   "cell_type": "code",
   "execution_count": 40,
   "id": "15089b0c-fb52-4b52-9b4a-247fe57ece5b",
   "metadata": {},
   "outputs": [
    {
     "data": {
      "text/plain": [
       "8118.99"
      ]
     },
     "execution_count": 40,
     "metadata": {},
     "output_type": "execute_result"
    }
   ],
   "source": [
    "#ans 4\n",
    "import math\n",
    "def area_hexagon(s):\n",
    "    area = ((3*math.sqrt(3))*(s**s))/2\n",
    "    area = round(area,2)\n",
    "    return area\n",
    "area_hexagon(5)"
   ]
  },
  {
   "cell_type": "code",
   "execution_count": 47,
   "id": "21abacbf-ea56-4d59-b74c-916cf2ae6a61",
   "metadata": {},
   "outputs": [
    {
     "name": "stdin",
     "output_type": "stream",
     "text": [
      " 10\n"
     ]
    },
    {
     "name": "stdout",
     "output_type": "stream",
     "text": [
      "binary(10) ➞ \"1010\"\n"
     ]
    }
   ],
   "source": [
    "#ans 5\n",
    "def getBinary(binn):\n",
    "    output = bin(binn).replace('0b','')\n",
    "    print(f'binary({binn}) ➞ \"{output}\"')\n",
    "    \n",
    "getBinary(int(input()))\n",
    "    "
   ]
  }
 ],
 "metadata": {
  "kernelspec": {
   "display_name": "Python 3 (ipykernel)",
   "language": "python",
   "name": "python3"
  },
  "language_info": {
   "codemirror_mode": {
    "name": "ipython",
    "version": 3
   },
   "file_extension": ".py",
   "mimetype": "text/x-python",
   "name": "python",
   "nbconvert_exporter": "python",
   "pygments_lexer": "ipython3",
   "version": "3.10.6"
  }
 },
 "nbformat": 4,
 "nbformat_minor": 5
}
